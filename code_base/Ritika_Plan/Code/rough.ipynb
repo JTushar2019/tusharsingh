{
 "cells": [
  {
   "cell_type": "code",
   "execution_count": 78,
   "metadata": {},
   "outputs": [],
   "source": [
    "from global_variables import data_folder_path\n",
    "import scipy.io as sio\n",
    "import numpy as np\n",
    "import os, mne\n",
    "import pandas as pd\n",
    "from collections import Counter\n"
   ]
  },
  {
   "cell_type": "code",
   "execution_count": 50,
   "metadata": {},
   "outputs": [
    {
     "name": "stderr",
     "output_type": "stream",
     "text": [
      "/tmp/ipykernel_3014443/3423173212.py:5: RuntimeWarning: Channel names are not unique, found duplicates for: {'Flusso'}. Applying running numbers for duplicates.\n",
      "  eeg = mne.io.read_raw_edf(subject_file, stim_channel=None ,verbose= False)\n",
      "/tmp/ipykernel_3014443/3423173212.py:5: RuntimeWarning: Number of records from the header does not match the file size (perhaps the recording was not stopped before exiting). Inferring from the file size.\n",
      "  eeg = mne.io.read_raw_edf(subject_file, stim_channel=None ,verbose= False)\n",
      "/tmp/ipykernel_3014443/3423173212.py:5: RuntimeWarning: Channel names are not unique, found duplicates for: {'CHIN'}. Applying running numbers for duplicates.\n",
      "  eeg = mne.io.read_raw_edf(subject_file, stim_channel=None ,verbose= False)\n",
      "/tmp/ipykernel_3014443/3423173212.py:5: RuntimeWarning: Number of records from the header does not match the file size (perhaps the recording was not stopped before exiting). Inferring from the file size.\n",
      "  eeg = mne.io.read_raw_edf(subject_file, stim_channel=None ,verbose= False)\n",
      "/tmp/ipykernel_3014443/3423173212.py:5: RuntimeWarning: Number of records from the header does not match the file size (perhaps the recording was not stopped before exiting). Inferring from the file size.\n",
      "  eeg = mne.io.read_raw_edf(subject_file, stim_channel=None ,verbose= False)\n"
     ]
    }
   ],
   "source": [
    "with open(\"/home/tusharsingh/code_base/Ritika_Plan/Code/output.txt\", 'w') as txt_file:\n",
    "    common_channels = Counter()\n",
    "    for subject_file in os.scandir('/home/tusharsingh/code_base/Ritika_Plan/Data/cap-sleep-database-1.0.0'):\n",
    "        if subject_file.name.endswith('.edf'):\n",
    "            eeg = mne.io.read_raw_edf(subject_file, stim_channel=None ,verbose= False)\n",
    "            # print(eeg.ch_names)\n",
    "            print(f\"{subject_file.name}---{eeg.info['sfreq']}\", file = txt_file, end =\"\\t\")\n",
    "            print(f\"\\t{str(eeg.ch_names)}\", file = txt_file)\n",
    "            common_channels.update([x.replace(\"-\",\"\") for x in eeg.ch_names])"
   ]
  },
  {
   "cell_type": "code",
   "execution_count": null,
   "metadata": {},
   "outputs": [],
   "source": [
    "common_channels.most_common(30)\n",
    "str(decided_channels)"
   ]
  },
  {
   "cell_type": "code",
   "execution_count": 67,
   "metadata": {},
   "outputs": [
    {
     "name": "stdout",
     "output_type": "stream",
     "text": [
      "Extracting EDF parameters from /home/tusharsingh/code_base/Ritika_Plan/Data/cap-sleep-database-1.0.0/brux1.edf...\n",
      "EDF file detected\n",
      "Setting channel info structure...\n",
      "Creating raw.info structure...\n",
      "Reading 0 ... 7342591  =      0.000 ... 14340.998 secs...\n"
     ]
    },
    {
     "name": "stderr",
     "output_type": "stream",
     "text": [
      "/tmp/ipykernel_3014443/389705114.py:3: RuntimeWarning: Number of records from the header does not match the file size (perhaps the recording was not stopped before exiting). Inferring from the file size.\n",
      "  raw = mne.io.read_raw_edf(pa, preload=True, stim_channel=None)\n"
     ]
    }
   ],
   "source": [
    "pa = '/home/tusharsingh/code_base/Ritika_Plan/Data/cap-sleep-database-1.0.0/brux1.edf'\n",
    "\n",
    "raw = mne.io.read_raw_edf(pa, preload=True, stim_channel=None)"
   ]
  },
  {
   "cell_type": "code",
   "execution_count": 58,
   "metadata": {},
   "outputs": [
    {
     "data": {
      "text/plain": [
       "\"['__class__', '__contains__', '__del__', '__delattr__', '__dict__', '__dir__', '__doc__', '__enter__', '__eq__', '__exit__', '__format__', '__ge__', '__getattribute__', '__getitem__', '__gt__', '__hash__', '__init__', '__init_subclass__', '__le__', '__len__', '__lt__', '__module__', '__ne__', '__new__', '__reduce__', '__reduce_ex__', '__repr__', '__setattr__', '__setitem__', '__sizeof__', '__str__', '__subclasshook__', '__weakref__', '_annotations', '_cals', '_check_bad_segment', '_comp', '_cropped_samp', '_data', '_dtype', '_dtype_', '_filenames', '_first_samps', '_first_time', '_get_buffer_size', '_get_channel_positions', '_getitem', '_handle_tmin_tmax', '_init_kwargs', '_last_samps', '_last_time', '_orig_units', '_parse_get_set_params', '_pick_drop_channels', '_pick_projs', '_preload_data', '_projector', '_projectors', '_raw_extras', '_raw_lengths', '_read_comp_grade', '_read_picks', '_read_segment', '_read_segment_file', '_reconstruct_proj', '_repr_html_', '_set_channel_positions', '_set_legacy_nfft_default', '_set_times', '_size', '_tmin_tmax_to_start_stop', '_update_first_last', 'add_channels', 'add_events', 'add_proj', 'add_reference_channels', 'annotations', 'anonymize', 'append', 'apply_function', 'apply_gradient_compensation', 'apply_hilbert', 'apply_proj', 'buffer_size_sec', 'ch_names', 'close', 'compensation_grade', 'compute_psd', 'copy', 'crop', 'crop_by_annotations', 'decimate', 'del_proj', 'describe', 'drop_channels', 'export', 'filenames', 'filter', 'first_samp', 'first_time', 'get_channel_types', 'get_data', 'get_montage', 'info', 'interpolate_bads', 'last_samp', 'load_bad_channels', 'load_data', 'n_times', 'notch_filter', 'orig_format', 'pick', 'pick_channels', 'pick_types', 'plot', 'plot_projs_topomap', 'plot_psd', 'plot_psd_topo', 'plot_psd_topomap', 'plot_sensors', 'preload', 'proj', 'rename_channels', 'reorder_channels', 'resample', 'save', 'savgol_filter', 'set_annotations', 'set_channel_types', 'set_eeg_reference', 'set_meas_date', 'set_montage', 'shift_time', 'time_as_index', 'times', 'tmax', 'tmin', 'to_data_frame']\""
      ]
     },
     "execution_count": 58,
     "metadata": {},
     "output_type": "execute_result"
    }
   ],
   "source": [
    "str(dir(raw))"
   ]
  },
  {
   "cell_type": "code",
   "execution_count": 68,
   "metadata": {},
   "outputs": [],
   "source": [
    "raw = raw.pick_channels(['P4-O2', 'ROC-LOC', 'EMG1-EMG2'])"
   ]
  },
  {
   "cell_type": "code",
   "execution_count": 65,
   "metadata": {},
   "outputs": [
    {
     "name": "stdout",
     "output_type": "stream",
     "text": [
      "Filtering raw data in 1 contiguous segment\n",
      "Setting up band-pass filter from 0.5 - 20 Hz\n",
      "\n",
      "FIR filter parameters\n",
      "---------------------\n",
      "Designing a one-pass, zero-phase, non-causal bandpass filter:\n",
      "- Windowed time-domain design (firwin) method\n",
      "- Hamming window with 0.0194 passband ripple and 53 dB stopband attenuation\n",
      "- Lower passband edge: 0.50\n",
      "- Lower transition bandwidth: 0.50 Hz (-6 dB cutoff frequency: 0.25 Hz)\n",
      "- Upper passband edge: 20.00 Hz\n",
      "- Upper transition bandwidth: 5.00 Hz (-6 dB cutoff frequency: 22.50 Hz)\n",
      "- Filter length: 3381 samples (6.604 sec)\n",
      "\n"
     ]
    }
   ],
   "source": [
    "raw = raw.filter(0.5,20)"
   ]
  },
  {
   "cell_type": "code",
   "execution_count": 79,
   "metadata": {},
   "outputs": [
    {
     "data": {
      "text/plain": [
       "['P4-O2', 'ROC-LOC', 'EMG1-EMG2']"
      ]
     },
     "execution_count": 79,
     "metadata": {},
     "output_type": "execute_result"
    }
   ],
   "source": [
    "raw.ch_names"
   ]
  },
  {
   "cell_type": "code",
   "execution_count": 91,
   "metadata": {},
   "outputs": [],
   "source": [
    "temp = raw.get_data()"
   ]
  },
  {
   "cell_type": "code",
   "execution_count": 96,
   "metadata": {},
   "outputs": [
    {
     "data": {
      "text/plain": [
       "numpy.ndarray"
      ]
     },
     "execution_count": 96,
     "metadata": {},
     "output_type": "execute_result"
    }
   ],
   "source": [
    "type(temp)"
   ]
  },
  {
   "cell_type": "code",
   "execution_count": 95,
   "metadata": {},
   "outputs": [
    {
     "name": "stdout",
     "output_type": "stream",
     "text": [
      "Help on method get_data in module mne.io.base:\n",
      "\n",
      "get_data(picks=None, start=0, stop=None, reject_by_annotation=None, return_times=False, units=None, *, tmin=None, tmax=None, verbose=None) method of mne.io.edf.edf.RawEDF instance\n",
      "    Get data in the given range.\n",
      "    \n",
      "    Parameters\n",
      "    ----------\n",
      "    picks : str | array-like | slice | None\n",
      "        Channels to include. Slices and lists of integers will be interpreted as \n",
      "        channel indices. In lists, channel *type* strings (e.g., ``['meg', \n",
      "        'eeg']``) will pick channels of those types, channel *name* strings (e.g., \n",
      "        ``['MEG0111', 'MEG2623']`` will pick the given channels. Can also be the \n",
      "        string values \"all\" to pick all channels, or \"data\" to pick :term:`data \n",
      "        channels`. None (default) will pick all channels. Note that channels in \n",
      "        ``info['bads']`` *will be included* if their names or indices are \n",
      "        explicitly provided.\n",
      "    start : int\n",
      "        The first sample to include. Defaults to 0.\n",
      "    stop : int | None\n",
      "        End sample (first not to include). If None (default), the end of\n",
      "        the data is  used.\n",
      "    reject_by_annotation : None | 'omit' | 'NaN'\n",
      "        Whether to reject by annotation. If None (default), no rejection is\n",
      "        done. If 'omit', segments annotated with description starting with\n",
      "        'bad' are omitted. If 'NaN', the bad samples are filled with NaNs.\n",
      "    return_times : bool\n",
      "        Whether to return times as well. Defaults to False.\n",
      "    \n",
      "    units : str | dict | None\n",
      "        Specify the unit(s) that the data should be returned in. If\n",
      "        ``None`` (default), the data is returned in the\n",
      "        channel-type-specific default units, which are SI units (see\n",
      "        :ref:`units` and :term:`data channels`). If a string, must be a\n",
      "        sub-multiple of SI units that will be used to scale the data from\n",
      "        all channels of the type associated with that unit. This only works\n",
      "        if the data contains one channel type that has a unit (unitless\n",
      "        channel types are left unchanged). For example if there are only\n",
      "        EEG and STIM channels, ``units='uV'`` will scale EEG channels to\n",
      "        micro-Volts while STIM channels will be unchanged. Finally, if a\n",
      "        dictionary is provided, keys must be channel types, and values must\n",
      "        be units to scale the data of that channel type to. For example\n",
      "        ``dict(grad='fT/cm', mag='fT')`` will scale the corresponding types\n",
      "        accordingly, but all other channel types will remain in their\n",
      "        channel-type-specific default unit.\n",
      "    tmin : int | float | None\n",
      "        Start time of data to get in seconds. The ``tmin`` parameter is\n",
      "        ignored if the ``start`` parameter is bigger than 0.\n",
      "    \n",
      "        .. versionadded:: 0.24.0\n",
      "    tmax : int | float | None\n",
      "        End time of data to get in seconds. The ``tmax`` parameter is\n",
      "        ignored if the ``stop`` parameter is defined.\n",
      "    \n",
      "        .. versionadded:: 0.24.0\n",
      "    \n",
      "    verbose : bool | str | int | None\n",
      "        Control verbosity of the logging output. If ``None``, use the default\n",
      "        verbosity level. See the :ref:`logging documentation <tut-logging>` and\n",
      "        :func:`mne.verbose` for details. Should only be passed as a keyword\n",
      "        argument.\n",
      "    \n",
      "    Returns\n",
      "    -------\n",
      "    data : ndarray, shape (n_channels, n_times)\n",
      "        Copy of the data in the given range.\n",
      "    times : ndarray, shape (n_times,)\n",
      "        Times associated with the data samples. Only returned if\n",
      "        return_times=True.\n",
      "    \n",
      "    Notes\n",
      "    -----\n",
      "    .. versionadded:: 0.14.0\n",
      "\n"
     ]
    }
   ],
   "source": [
    "help(raw.get_data)"
   ]
  },
  {
   "cell_type": "code",
   "execution_count": null,
   "metadata": {},
   "outputs": [],
   "source": []
  }
 ],
 "metadata": {
  "kernelspec": {
   "display_name": "EEG_Project",
   "language": "python",
   "name": "python3"
  },
  "language_info": {
   "codemirror_mode": {
    "name": "ipython",
    "version": 3
   },
   "file_extension": ".py",
   "mimetype": "text/x-python",
   "name": "python",
   "nbconvert_exporter": "python",
   "pygments_lexer": "ipython3",
   "version": "3.10.8"
  },
  "orig_nbformat": 4,
  "vscode": {
   "interpreter": {
    "hash": "cbd897dc215af05216e0d3ffd601dd8704a57817202699d71919a44dbfb4a982"
   }
  }
 },
 "nbformat": 4,
 "nbformat_minor": 2
}
