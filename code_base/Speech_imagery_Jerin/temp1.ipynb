{
 "cells": [
  {
   "cell_type": "code",
   "execution_count": null,
   "metadata": {},
   "outputs": [],
   "source": [
    "import scipy.io as sio, numpy as np\n",
    "import os, re"
   ]
  },
  {
   "cell_type": "code",
   "execution_count": 55,
   "metadata": {},
   "outputs": [],
   "source": [
    "folder_path = {\"Long_words\": \"/home/tusharsingh/DATAs/speech_EEG/Long_words\",\n",
    "        \"Short_Long_words\": \"/home/tusharsingh/DATAs/speech_EEG/Short_Long_words\",\n",
    "        \"Short_words\": \"/home/tusharsingh/DATAs/speech_EEG/Short_words\",\n",
    "        \"Vowels\": \"/home/tusharsingh/DATAs/speech_EEG/Vowels\"}"
   ]
  },
  {
   "cell_type": "code",
   "execution_count": 78,
   "metadata": {},
   "outputs": [],
   "source": [
    "def load_EEG(path):\n",
    "    eeg = []\n",
    "    labels = []\n",
    "    patient_id = []\n",
    "    for subject in os.scandir(path):\n",
    "        if subject.is_file() and subject.name.endswith('.mat'):\n",
    "            mat = sio.loadmat(subject.path)['eeg_data_wrt_task_rep_no_eog_256Hz_last_beep']\n",
    "            for label in range(mat.shape[0]):\n",
    "                for j in range(mat[label].shape[0]):\n",
    "                    eeg.append(mat[label][j][:64,:])\n",
    "                    labels.append(label)\n",
    "                    patient_id.append(int(re.search(\"[0-9]+\", re.match(\"sub_[0-9]+[a-z]*_\", subject.name).group()).group()))\n",
    "    return eeg,labels,patient_id"
   ]
  },
  {
   "cell_type": "code",
   "execution_count": null,
   "metadata": {},
   "outputs": [],
   "source": []
  }
 ],
 "metadata": {
  "kernelspec": {
   "display_name": "Python 3",
   "language": "python",
   "name": "python3"
  },
  "language_info": {
   "codemirror_mode": {
    "name": "ipython",
    "version": 3
   },
   "file_extension": ".py",
   "mimetype": "text/x-python",
   "name": "python",
   "nbconvert_exporter": "python",
   "pygments_lexer": "ipython3",
   "version": "3.9.5 (default, Nov 23 2021, 15:27:38) \n[GCC 9.3.0]"
  },
  "orig_nbformat": 4,
  "vscode": {
   "interpreter": {
    "hash": "36cf16204b8548560b1c020c4e8fb5b57f0e4c58016f52f2d4be01e192833930"
   }
  }
 },
 "nbformat": 4,
 "nbformat_minor": 2
}
