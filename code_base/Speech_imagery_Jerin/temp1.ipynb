{
 "cells": [
  {
   "cell_type": "code",
   "execution_count": 24,
   "metadata": {},
   "outputs": [],
   "source": [
    "import scipy.io as sio, numpy as np\n",
    "import os, re, random"
   ]
  },
  {
   "cell_type": "code",
   "execution_count": 25,
   "metadata": {},
   "outputs": [],
   "source": [
    "folder_path = {\"Long_words\": \"/home/tusharsingh/DATAs/speech_EEG/Long_words\",\n",
    "        \"Short_Long_words\": \"/home/tusharsingh/DATAs/speech_EEG/Short_Long_words\",\n",
    "        \"Short_words\": \"/home/tusharsingh/DATAs/speech_EEG/Short_words\",\n",
    "        \"Vowels\": \"/home/tusharsingh/DATAs/speech_EEG/Vowels\"}"
   ]
  },
  {
   "cell_type": "code",
   "execution_count": 26,
   "metadata": {},
   "outputs": [],
   "source": [
    "# loads EEGs from the path given \n",
    "def load_EEG(path):\n",
    "    eeg = []\n",
    "    labels = []\n",
    "    patient_id = []\n",
    "    for subject in os.scandir(path):\n",
    "        if subject.is_file() and subject.name.endswith('.mat'):\n",
    "            mat = sio.loadmat(subject.path)['eeg_data_wrt_task_rep_no_eog_256Hz_last_beep']\n",
    "            for label in range(mat.shape[0]):\n",
    "                for j in range(mat[label].shape[0]):\n",
    "                    eeg.append(mat[label][j][:64,:])\n",
    "                    labels.append(label)\n",
    "                    patient_id.append(int(re.search(\"[0-9]+\", subject.name).group(0)))\n",
    "    return eeg,labels,patient_id\n",
    "\n",
    "# return augmented_data with given window_size and stride\n",
    "def augmented_data(path, window_size, stride):\n",
    "    EEG, Labels, Patient_id = load_EEG(path)\n",
    "    X = []\n",
    "    Y = []\n",
    "    id = []\n",
    "    for eeg, label, patient_id in zip(EEG, Labels, Patient_id):\n",
    "        for start in range(0, eeg.shape[1], stride):\n",
    "            X.append(eeg[:,start: start + window_size])\n",
    "            Y.append(label)\n",
    "            id.append(patient_id)\n",
    "    \n",
    "    temp = list(zip(X,Y,id))\n",
    "    random.shuffle(temp)\n",
    "    X, Y, id = zip(*temp)\n",
    "    return X, Y, id"
   ]
  },
  {
   "cell_type": "code",
   "execution_count": 42,
   "metadata": {},
   "outputs": [],
   "source": [
    "X, Y, id = augmented_data(folder_path['Long_words'], 256, 64)"
   ]
  },
  {
   "cell_type": "code",
   "execution_count": 45,
   "metadata": {},
   "outputs": [
    {
     "data": {
      "text/plain": [
       "(24000, 24000, 24000)"
      ]
     },
     "execution_count": 45,
     "metadata": {},
     "output_type": "execute_result"
    }
   ],
   "source": [
    "len(X), len(Y), len(id)"
   ]
  },
  {
   "cell_type": "code",
   "execution_count": null,
   "metadata": {},
   "outputs": [],
   "source": []
  }
 ],
 "metadata": {
  "kernelspec": {
   "display_name": "Python 3",
   "language": "python",
   "name": "python3"
  },
  "language_info": {
   "codemirror_mode": {
    "name": "ipython",
    "version": 3
   },
   "file_extension": ".py",
   "mimetype": "text/x-python",
   "name": "python",
   "nbconvert_exporter": "python",
   "pygments_lexer": "ipython3",
   "version": "3.9.5"
  },
  "orig_nbformat": 4,
  "vscode": {
   "interpreter": {
    "hash": "36cf16204b8548560b1c020c4e8fb5b57f0e4c58016f52f2d4be01e192833930"
   }
  }
 },
 "nbformat": 4,
 "nbformat_minor": 2
}
