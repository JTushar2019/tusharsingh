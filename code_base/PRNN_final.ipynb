{
 "cells": [
  {
   "cell_type": "code",
   "execution_count": 2,
   "metadata": {},
   "outputs": [],
   "source": [
    "import numpy as np\n",
    "import matplotlib.pyplot as plt\n",
    "import scipy.stats, os\n",
    "from tqdm import tqdm\n",
    "from scipy.stats import multivariate_normal\n",
    "from scipy.special import logsumexp\n",
    "from numpy.linalg import matrix_rank\n",
    "from cvxopt import matrix, solvers\n",
    "solvers.options['show_progress'] = False\n",
    "from libsvm.svmutil import *\n",
    "from sklearn.preprocessing import StandardScaler\n",
    "from sklearn.decomposition import PCA"
   ]
  },
  {
   "cell_type": "code",
   "execution_count": 2,
   "metadata": {},
   "outputs": [],
   "source": [
    "def one_hot_representer(labels):\n",
    "    count = np.unique(labels).shape[0]\n",
    "    temp = np.zeros((labels.shape[0], count), dtype = int)\n",
    "    for index, i in np.ndenumerate(labels):\n",
    "        temp[index,i] = 1\n",
    "    return temp"
   ]
  },
  {
   "cell_type": "markdown",
   "metadata": {},
   "source": [
    "# MODEL Classes"
   ]
  },
  {
   "cell_type": "markdown",
   "metadata": {},
   "source": [
    "### GMM"
   ]
  },
  {
   "cell_type": "code",
   "execution_count": 212,
   "metadata": {},
   "outputs": [],
   "source": [
    "class GMM:\n",
    "    def __init__(self,data,k,plotting = False, iterations = 100):\n",
    "        self.k = k\n",
    "        self.pi = np.ones(k) / k\n",
    "        mu,sigma = self.KMeans(data,k)\n",
    "        self.pi, self.normals = self.fit(data,self.pi,mu,sigma, plotting, iterations)\n",
    "    \n",
    "    def KMeans(self, data,k, eps = 1e-6):\n",
    "        from numpy.linalg import norm\n",
    "        np.random.shuffle(data)\n",
    "        mu = data[:k,:]\n",
    "        error = [1]*k\n",
    "        while np.max(error) > eps:\n",
    "            error = 0\n",
    "            compare = np.array([norm(data-mu[i], axis = 1) for i in range(k)])\n",
    "            result = np.argmin(compare, axis=0)\n",
    "            newmu = np.array([np.mean(data[result == i], axis=0) for i in range(k)])\n",
    "            error = norm(newmu - mu, axis= 1)\n",
    "            mu = newmu\n",
    "        cov = []\n",
    "        for i in range(k):\n",
    "            d = data[result == i]\n",
    "            cov.append( np.cov(d.T) )\n",
    "        return mu, cov\n",
    "\n",
    "    def fit(self,data,pi,mu,sigma, plotting = False, iterations = 100):\n",
    "        N,D = data.shape\n",
    "        k = self.k\n",
    "        sigma_0 = np.zeros((k,D,D))\n",
    "        for i in range(k):\n",
    "            temp = sigma[i]\n",
    "            while matrix_rank(temp) < D:\n",
    "                temp += np.identity(D) * 1e-3\n",
    "            for i in range(k):\n",
    "                sigma_0[i] = temp\n",
    "\n",
    "        sigma = np.array(sigma_0)\n",
    "        normals = [multivariate_normal(mean=mu[i], cov = sigma[i]) for i in range(k)]    \n",
    "        prob_xn = np.array([[normals[j].logpdf(each) for j in range(k)] for each in data])\n",
    "        pi = np.log(pi)\n",
    "        log_liklihood =  np.sum(logsumexp(prob_xn + pi, axis = 1))\n",
    "        diff = 1000\n",
    "        liklihood_track = [log_liklihood]\n",
    "        responsibility = np.zeros((N,D))\n",
    "        diff = 100\n",
    "        \n",
    "        def E_step():\n",
    "            nonlocal responsibility\n",
    "            t = prob_xn + pi\n",
    "            d = logsumexp(t,axis = 1, keepdims = True)\n",
    "            responsibility = t - d\n",
    "\n",
    "        def M_step():\n",
    "            nonlocal mu, sigma, pi, normals\n",
    "            Nk = logsumexp(responsibility,axis = 0)\n",
    "            temp = responsibility - Nk\n",
    "            for i in range(k):\n",
    "                mu[i] = np.average(data, axis = 0, weights=np.exp(responsibility[:,i]))\n",
    "                sigma[i] *= 0\n",
    "                t = data - mu[i]\n",
    "                tt = t.T\n",
    "                for n in range(N):\n",
    "                    tcov = tt[:,n] @ t[n,:]\n",
    "                    sigma[i] += np.exp(temp[n,i]) * tcov\n",
    "                if (matrix_rank(sigma[i]) < D):\n",
    "                    sigma[i] = sigma_0[i]\n",
    "                normals[i] = multivariate_normal(mean=mu[i], cov = sigma[i])\n",
    "            pi = Nk - np.log(N)\n",
    "\n",
    "        def prob_giver():\n",
    "            nonlocal normals, data\n",
    "            p = np.array([[normals[c].logpdf(xn) for c in range(k)] for xn in data])\n",
    "            p = np.argmax(p, axis = 1)\n",
    "            return p\n",
    "    \n",
    "        def liklihood_update():\n",
    "            nonlocal log_liklihood, diff, liklihood_track,prob_xn,diff,pi,sigma,mu\n",
    "            prob_xn = np.array([[normals[j].logpdf(each) for j in range(k)] for each in data])\n",
    "            temp = np.sum(logsumexp(prob_xn + pi, axis = 1))\n",
    "\n",
    "            diff = temp - log_liklihood \n",
    "            log_liklihood = temp\n",
    "            liklihood_track.append(log_liklihood)\n",
    "        \n",
    "        b = 0\n",
    "        while b < iterations:\n",
    "            b +=1\n",
    "            E_step()       \n",
    "            M_step()\n",
    "            liklihood_update()\n",
    "            if diff < 10e-6:\n",
    "                break\n",
    "        if plotting:\n",
    "            plt.plot(liklihood_track, 'r-')\n",
    "            plt.yscale(\"symlog\")\n",
    "            plt.show()\n",
    "        return pi, normals\n",
    "    \n",
    "    def log_probablity(self,X):\n",
    "        result = []\n",
    "        for each in X:\n",
    "            p = []\n",
    "            for i in range(self.k):\n",
    "                p.append(self.normals[i].logpdf(each) + self.pi[i])\n",
    "            result.append(logsumexp(p))\n",
    "        result = np.array(result)\n",
    "        return result\n",
    "    \n",
    "    def predict(self,X):\n",
    "        result = []\n",
    "        for each in X:\n",
    "            p = []\n",
    "            for i in range(self.k):\n",
    "                p.append(self.normals[i].logpdf(each) + self.pi[i])\n",
    "            result.append(np.array(p))\n",
    "        result = np.array(result)\n",
    "        return np.argmax(result,axis = 1)"
   ]
  },
  {
   "cell_type": "markdown",
   "metadata": {},
   "source": [
    "## Fisher LDM"
   ]
  },
  {
   "cell_type": "code",
   "execution_count": 4,
   "metadata": {},
   "outputs": [],
   "source": [
    "class fisher_LDM:\n",
    "\n",
    "    def __init__(self, train_data, train_label):\n",
    "    \n",
    "        class_0 = train_data[train_label == 0]\n",
    "        class_1 = train_data[train_label == 1]\n",
    "\n",
    "        mean0 = np.mean(class_0, axis=0)\n",
    "        mean1 = np.mean(class_1, axis=0)\n",
    "\n",
    "        centered_class_0 = class_0 - mean0[np.newaxis,:]\n",
    "        centered_class_1 = class_1 - mean1[np.newaxis,:]\n",
    "        within_class_cov = np.cov(np.vstack((centered_class_0,centered_class_1)).T)\n",
    "        \n",
    "        from numpy.linalg import matrix_rank, inv\n",
    "\n",
    "        while matrix_rank(within_class_cov) < within_class_cov.shape[0]:\n",
    "            within_class_cov += np.identity(within_class_cov.shape[0]) + 10e-5\n",
    "        \n",
    "        w = inv(within_class_cov) @ (mean0 - mean1).reshape(-1,1)\n",
    "        w = w.flatten()\n",
    "        self.w = w / np.sum(w)\n",
    "\n",
    "        x = np.dot(mean0,self.w)\n",
    "        y = np.dot(mean1,self.w)\n",
    "        if x > y:\n",
    "            self.first_class = 0\n",
    "            self.second_class = 1\n",
    "        else:\n",
    "            self.first_class = 1\n",
    "            self.second_class = 0\n",
    "        self.threshold = (class_1.shape[0] * x + class_0.shape[0] * y)/train_data.shape[0]\n",
    "    \n",
    "    def predict(self,X):\n",
    "        t = (X @ self.w).flatten()\n",
    "        \n",
    "        for i, each in enumerate(t):\n",
    "            if each > self.threshold:\n",
    "                t[i] = self.first_class\n",
    "            else:\n",
    "                t[i] = self.second_class\n",
    "        \n",
    "        return t"
   ]
  },
  {
   "cell_type": "markdown",
   "metadata": {},
   "source": [
    "## SVM Mode"
   ]
  },
  {
   "cell_type": "code",
   "execution_count": 42,
   "metadata": {},
   "outputs": [],
   "source": [
    "class svm_model:\n",
    "    \n",
    "    def __poly_kernal(x, y, **kwarg):\n",
    "        temp = np.dot(x, y)\n",
    "        return (kwarg[\"gamma\"] * temp)**kwarg[\"degree\"]\n",
    "\n",
    "    def __gaussian_kernal(x, y, **kwarg):\n",
    "        temp = x - y \n",
    "        return np.exp(- kwarg[\"gamma\"] * np.dot(temp,temp))\n",
    "    \n",
    "    def __linear_kernel(x,y,**kwarg):\n",
    "        return np.dot(x,y)\n",
    "\n",
    "    kernals = {\"gaussian\": __gaussian_kernal, \"poly_kernal\" : __poly_kernal, \\\n",
    "        \"linear\": __linear_kernel}\n",
    "\n",
    "\n",
    "    def __init__(self, data_, label_ ,slack, kernal ,**kwarg):\n",
    "        self.scaler = StandardScaler()\n",
    "        label = label_.astype(float)\n",
    "        data = data_.astype(float)\n",
    "        data = self.scaler.fit_transform(data)\n",
    "        label[label==0] = -1\n",
    "        self.kernal = self.kernals[kernal]\n",
    "        self.extra_info = kwarg\n",
    "        N,D = data.shape\n",
    "        P = np.zeros((N,N), dtype=float)\n",
    "        for i in range(N):\n",
    "            for j in range(N):\n",
    "                P[i,j] = self.kernal(data[i], data[j], **kwarg)\n",
    "\n",
    "        mu, self.b = self.SMO(data, label,P, slack)\n",
    "\n",
    "        # print(np.min(mu), np.max(mu))\n",
    "        # self.threshold = min(1e-3, np.mean(mu))\n",
    "        self.threshold = 1e-4\n",
    "        supoort_indices = (mu > self.threshold).flatten()\n",
    "        self.sp_vector = data[supoort_indices]\n",
    "        self.sp_label = label[supoort_indices]\n",
    "        self.mu = mu[supoort_indices]\n",
    "        n = self.n = self.sp_vector.shape[0]\n",
    "        print(\"my #support vector: \",n)\n",
    "\n",
    "    def SMO(self, X, Y, P, C , max_iterations = 1, tolerance=1e-3):\n",
    "        N, D = X.shape\n",
    "        mu = np.zeros_like(Y)\n",
    "        b = 0        \n",
    "        itercount = 0\n",
    "        \n",
    "        def predict(j):\n",
    "            temp = 0\n",
    "            for i in range(N):\n",
    "                temp += mu[i] * Y[i] * P[i,j]\n",
    "            return temp + b\n",
    "\n",
    "        while (itercount < max_iterations):\n",
    "            change = 0  # did mu change\n",
    "            for i in range(N):\n",
    "                Ei = predict(i) - Y[i]\n",
    "\n",
    "                if(Y[i] * Ei < -tolerance and mu[i] < C) or (Y[i] * Ei > tolerance and mu[i] > 0):\n",
    "\n",
    "                    j = 0\n",
    "                    while(j==i):\n",
    "                        j = np.random.randint(0,N)\n",
    "\n",
    "                    Ej = predict(j) - Y[j]\n",
    "                    old_mui, old_muj = mu[i], mu[j]\n",
    "\n",
    "                    L,H = max(0, old_muj - old_mui), min(C, C + old_muj - old_mui)\n",
    "                    if Y[i] == Y[j]:\n",
    "                        L = max(0, old_mui + old_muj - C)\n",
    "                        H = min(C, old_mui + old_muj)\n",
    "                    \n",
    "                    if abs(L-H) < 10e-5:\n",
    "                        continue\n",
    "                    \n",
    "                    ita = 2 * P[i,j] - P[i,i] - P[j,j]\n",
    "                    \n",
    "                    if ita >= 0 :\n",
    "                        continue\n",
    "                        \n",
    "                    muj = old_muj - (Y[j] * (Ei - Ej) / ita)\n",
    "                    muj = min(H,muj)\n",
    "                    muj = max(L,muj)\n",
    "    \n",
    "                    if abs(muj - old_muj) < 10e-5:\n",
    "                        continue\n",
    "\n",
    "                    mu[j] = muj\n",
    "                    mui = old_mui + Y[i] * Y[j] * (old_muj - muj)\n",
    "                    mu[i] = mui\n",
    "\n",
    "                    temp1 = mui - old_mui\n",
    "                    temp2 = muj - old_muj\n",
    "                    b1 = b - Ei - Y[i] * temp1 * P[i,i] - Y[j] * temp2 * P[i,j]\n",
    "                    b2 = b - Ej - Y[i] * temp1 * P[i,j] - Y[j] * temp2 * P[j,j]\n",
    "\n",
    "                    if 0 < mui < C:\n",
    "                        b = b1\n",
    "                    elif 0 < muj < C:\n",
    "                        b = b2\n",
    "                    else:\n",
    "                        b = (b1+b2)/2\n",
    "                    change += 1\n",
    "            \n",
    "            if not change:\n",
    "                itercount += 1\n",
    "            else:\n",
    "                itercount = 0\n",
    "        return mu, b\n",
    "                 \n",
    "    def predict(self, X):\n",
    "\n",
    "        X = self.scaler.transform(X)\n",
    "        predictions = []\n",
    "        for i, each in enumerate(X):\n",
    "            temp = 0\n",
    "            for i in range(self.n):\n",
    "                temp += self.mu[i] * self.sp_label[i] * \\\n",
    "                    self.kernal(self.sp_vector[i], each, **self.extra_info)\n",
    "            temp += self.b\n",
    "            temp = np.sign(temp)\n",
    "            temp = 1 if temp > 0 else 0\n",
    "            predictions.append(temp)\n",
    "        return np.array(predictions)"
   ]
  },
  {
   "cell_type": "code",
   "execution_count": 93,
   "metadata": {},
   "outputs": [],
   "source": [
    "from sklearn.svm import SVC\n",
    "class grid_search_svm:\n",
    "    def __init__(self, train_data, train_label, test_data, test_label, acc_function):\n",
    "        self.train_data = train_data\n",
    "        self.train_label = train_label\n",
    "        self.test_data = test_data\n",
    "        self.test_label = test_label   \n",
    "        self.acc_function = acc_function \n",
    "    \n",
    "    def gaussian(self, gamma= [], slack=[]):\n",
    "        for i in slack:\n",
    "            for each in gamma:\n",
    "                m = SVC(C = i, kernel = \"rbf\", gamma = each, probability = True)\n",
    "                m.fit(self.train_data, self.train_label)\n",
    "                y_ = m.predict_proba(self.test_data)\n",
    "                print(\"RBF: slack({}) gamma({}) mectrics:\".format(i, each), end=\"\")\n",
    "                self.acc_function(self.test_label,y_, printing = True)\n",
    "                print(\"-\"*20)\n",
    "    \n",
    "    def polynomial(self, degree = [], slack = []):\n",
    "        for i in slack:\n",
    "            for each in degree:\n",
    "                m = SVC(C = i, kernel = \"poly\", degree = each, probability = True)\n",
    "                m.fit(self.train_data, self.train_label)\n",
    "                y_ = m.predict_proba(self.test_data)\n",
    "                print(\"RBF: slack({}) degree({}) mectrics:\".format(i, each), end=\"\")\n",
    "                self.acc_function(self.test_label,y_, printing = True)\n",
    "                print(\"-\"*20)\n",
    "\n",
    "    def linear(self, slack = []):\n",
    "        for i in slack:\n",
    "            m = SVC(C = i, kernel = \"linear\", probability = True)\n",
    "            m.fit(self.train_data, self.train_label)\n",
    "            y_ = m.predict_proba(self.test_data)\n",
    "            print(\"RBF: slack({}) mectrics:\".format(i), end=\"\")\n",
    "            self.acc_function(self.test_label,y_, printing = True)\n",
    "            print(\"-\"*20)"
   ]
  },
  {
   "cell_type": "markdown",
   "metadata": {},
   "source": [
    "## Multi layer Perceptron"
   ]
  },
  {
   "cell_type": "code",
   "execution_count": 149,
   "metadata": {},
   "outputs": [],
   "source": [
    "class MLP:\n",
    "    def __init__(self, inputs, targets, epochs = 1, learning_rate = 0.01 ,num_inputs = 0, \\\n",
    "        hidden_layers=[12, 12], num_outputs=1, \\\n",
    "        hidden_activation = \"relu\", output_activation = \"softmax\", loss_function = \"mse\"):\n",
    "\n",
    "        self.hidden_activation = hidden_activation\n",
    "        self.output_activation = output_activation\n",
    "        self.loss_function = loss_function\n",
    "        layers = [num_inputs] + hidden_layers + [num_outputs]\n",
    "\n",
    "        weights = []\n",
    "        for i in range(len(layers) - 1):\n",
    "            w = np.random.rand(layers[i], layers[i + 1]) * np.sqrt(2 / layers[i + 1])\n",
    "            weights.append(w)\n",
    "        self.weights = weights\n",
    "\n",
    "        net_inputs = []\n",
    "        for i in range(len(layers) - 1):\n",
    "            d = np.zeros((layers[i + 1]))\n",
    "            net_inputs.append(d)\n",
    "        self.net_inputs = net_inputs\n",
    "\n",
    "        activations = []\n",
    "        for i in range(len(layers)):\n",
    "            a = np.zeros(layers[i])\n",
    "            activations.append(a)\n",
    "        self.activations = activations\n",
    "\n",
    "        delta_error = []\n",
    "        for i in range(len(layers) - 1):\n",
    "            d = np.zeros((layers[i + 1]))\n",
    "            delta_error.append(d)\n",
    "        self.delta_error = delta_error\n",
    "\n",
    "        self.train(inputs, targets,epochs,learning_rate)\n",
    "\n",
    "\n",
    "    def forward_propagate(self, inputs):\n",
    "        activations = inputs\n",
    "        self.activations[0] = activations\n",
    "        for i, w in enumerate(self.weights):\n",
    "            net_inputs = (activations.reshape(1,-1) @ w).flatten()\n",
    "            self.net_inputs[i] = net_inputs\n",
    "\n",
    "            if self.hidden_activation == \"sigmoid\": \n",
    "                activations = self._sigmoid(net_inputs)\n",
    "            elif self.hidden_activation == \"relu\":\n",
    "                activations = self._relu(net_inputs)\n",
    "            elif self.hidden_activation == \"softmax\":\n",
    "                activations = self._softmax(net_inputs)\n",
    "\n",
    "            self.activations[i + 1] = activations\n",
    "        \n",
    "        if self.output_activation == \"softmax\":\n",
    "            self.activations[-1] = self._softmax(self.activations[-1])\n",
    "        elif self.output_activation == \"sigmoid\":\n",
    "            self.activations[-1] = self._sigmoid(self.activations[-1])\n",
    "        elif self.output_activation == \"relu\":\n",
    "            self.activations[-1] = self._relu(self.activations[-1])\n",
    "             \n",
    "        return self.activations[-1]\n",
    "\n",
    "\n",
    "    def back_propagate(self):\n",
    "        for i in reversed(range(len(self.delta_error)- 1)):\n",
    "            activations = self.activations[i+1]\n",
    "\n",
    "            if self.hidden_activation == \"sigmoid\": \n",
    "                derivatives = self._sigmoid_derivative(activations)\n",
    "            elif self.hidden_activation == \"relu\":\n",
    "                # activations[activations <= 0] = 0\n",
    "                derivatives = self._relu_derivative(activations)\n",
    "            elif self.hidden_activation == \"softmax\":\n",
    "                t = self.net_inputs[i]\n",
    "                derivatives = self._sigmoid_derivative(self._sigmoid(t))\n",
    "            derivatives = derivatives.flatten()\n",
    "            self.delta_error[i] = (self.weights[i+1] @ self.delta_error[i+1].reshape(-1,1)).flatten() * derivatives\n",
    "\n",
    "\n",
    "    def train(self, inputs, targets, epochs, learning_rate):\n",
    "        for i in range(epochs):\n",
    "            sum_errors = 0\n",
    "            for j, input in enumerate(inputs):\n",
    "                target = targets[j]\n",
    "                output = self.forward_propagate(input)\n",
    "                if self.loss_function == \"squared_loss\":\n",
    "                    error = self._mse_derivative(target, output) \n",
    "                elif self.loss_function == \"cross_entropy_loss\":\n",
    "                    error = self._CE_derivative(target, output)\n",
    "\n",
    "                if self.output_activation == \"sigmoid\": \n",
    "                    derivatives = self._sigmoid_derivative(output)\n",
    "                elif self.output_activation == \"relu\":\n",
    "                    derivatives = self._relu_derivative(output)\n",
    "                elif self.output_activation == \"softmax\":\n",
    "                    t = self.net_inputs[-1]\n",
    "                    derivatives = self._sigmoid_derivative(self._sigmoid(t))\n",
    "                \n",
    "                self.delta_error[-1] = error * derivatives\n",
    "                self.back_propagate()\n",
    "                self.gradient_descent(learning_rate)\n",
    "\n",
    "                if self.loss_function == \"squared_loss\":\n",
    "                    sum_errors += self._mse(target, output)\n",
    "                elif self.loss_function == \"cross_entropy_loss\":\n",
    "                    sum_errors += self._CE(target, output)\n",
    "            \n",
    "            # if( i % 25 == 0):\n",
    "\n",
    "        # print(\"Error: {}\".format(sum_errors / inputs.shape[0]))\n",
    "        # print(\"Training complete!\")\n",
    "    \n",
    "    def predict(self, x):\n",
    "        result = []\n",
    "        for each in x:\n",
    "            predicted = self.forward_propagate(each)\n",
    "            result.append(predicted)\n",
    "        return np.array(result)\n",
    "\n",
    "\n",
    "    def gradient_descent(self, learningRate=1):\n",
    "        for i in range(len(self.weights)):\n",
    "            weights = self.weights[i]\n",
    "            activations = self.activations[i]\n",
    "            delta_error = self.delta_error[i]\n",
    "            temp = activations.reshape(-1,1) @ delta_error.reshape(1,-1)\n",
    "            weights -= temp * learningRate\n",
    "\n",
    "\n",
    "    def _sigmoid(self, x):\n",
    "        y = scipy.special.expit(x)\n",
    "        return y\n",
    "\n",
    "    def _sigmoid_derivative(self, x):\n",
    "        return x * (1.0 - x)\n",
    "    \n",
    "    def _relu(self, x_):\n",
    "        x = x_[:]\n",
    "        x[x < 0] = 0.0\n",
    "        return x\n",
    "\n",
    "    def _relu_derivative(self,x):\n",
    "        y = np.zeros_like(x, dtype=float)\n",
    "        y[x>0] = 1.0\n",
    "        return y\n",
    "\n",
    "    def _CE(self, target, output_):\n",
    "        ce = -np.sum(target*np.log(output_+1e-9))\n",
    "        return ce\n",
    "\n",
    "    def _softmax(self,x_):\n",
    "        x = x_ / (np.max(x_) + 1e-9)\n",
    "        exp = np.exp(x - np.max(x))\n",
    "        return exp / (np.sum(exp) + 1e-9)\n",
    "\n",
    "    def _mse(self, target, output):\n",
    "        return np.sum((target - output) ** 2)\n",
    "\n",
    "    def _mse_derivative(self, target, output):\n",
    "        return target - output\n",
    "    \n",
    "    def _CE_derivative(self, target, output):\n",
    "        return - target / (output + 1e-9)"
   ]
  },
  {
   "cell_type": "markdown",
   "metadata": {},
   "source": [
    "## Bayes Classifier with MLE"
   ]
  },
  {
   "cell_type": "code",
   "execution_count": 32,
   "metadata": {},
   "outputs": [],
   "source": [
    "class Bayes_classifier_ML:\n",
    "    \n",
    "    def __init__(self, data, labels):\n",
    "        self.gaussian = []\n",
    "        self.classes = np.unique(labels).shape[0]\n",
    "        N = data.shape[0]\n",
    "        prior = []\n",
    "        for i in range(self.classes):\n",
    "            tdata = data[labels == i]\n",
    "            mean = np.mean(tdata, axis=0)\n",
    "            cov = np.cov(tdata.T)\n",
    "            self.gaussian.append(multivariate_normal(mean=mean, cov = cov, allow_singular=True))\n",
    "            prior.append(tdata.shape[0]/N)\n",
    "        self.prior = np.log(np.array(prior))\n",
    "    \n",
    "    def predict(self,x):\n",
    "        result = []\n",
    "        for each in x:\n",
    "            posterior = []\n",
    "            for i in range(self.classes):\n",
    "                posterior.append(self.gaussian[i].logpdf(each) + self.prior[i])\n",
    "            result.append(scipy.special.softmax(posterior))\n",
    "        return np.array(result)\n"
   ]
  },
  {
   "cell_type": "markdown",
   "metadata": {},
   "source": [
    "## Parzen "
   ]
  },
  {
   "cell_type": "code",
   "execution_count": 9,
   "metadata": {},
   "outputs": [],
   "source": [
    "class Bayes_classifier_Parzen:\n",
    "    def __init__(self,data,label,L):  # L is the length of hypercube\n",
    "        self.classes = np.unique(data).shape[0]\n",
    "        self.data = data\n",
    "        self.label = label\n",
    "        self.L = L\n",
    "    \n",
    "    def predict(self,x):\n",
    "        result = []\n",
    "        for each in x:\n",
    "            temp = np.abs(self.data - each) <= (self.L/2)\n",
    "            temp = np.bitwise_and.reduce(temp, axis=1)\n",
    "            temp = self.label[temp]\n",
    "            a,b = np.unique(temp, return_counts=True)\n",
    "            result.append( scipy.special.softmax(b) )\n",
    "        return np.array(result)"
   ]
  },
  {
   "cell_type": "markdown",
   "metadata": {},
   "source": [
    "## Linear Models"
   ]
  },
  {
   "cell_type": "code",
   "execution_count": 10,
   "metadata": {},
   "outputs": [],
   "source": [
    "class linear_regression:\n",
    "    def __init__(self,Data,labels, learning_rate = 0.01, batch_size = 32,epochs = 20):\n",
    "        data = np.c_[Data, np.ones((Data.shape[0],1))]\n",
    "        w = np.random.rand(data.shape[1])\n",
    "        self.w = self.learn(data,labels,w, learning_rate,batch_size, epochs)\n",
    "\n",
    "    def learn(self,data,labels,w, learning_rate, batch_size,epochs):\n",
    "        N = data.shape[0]\n",
    "        for _ in range(epochs):\n",
    "            shfl = np.random.permutation(N)\n",
    "            data = data[shfl]\n",
    "            labels = labels[shfl]\n",
    "            for start in range(0, N, batch_size):\n",
    "                a,b = start, min(start + batch_size, N)\n",
    "                d = data[a:b,:]\n",
    "                predictions = (d @ w.reshape(-1,1)).flatten()\n",
    "                error = predictions - labels[a:b]\n",
    "                grad = np.mean(d * error[:,np.newaxis], axis = 0)\n",
    "                w = w - learning_rate * grad\n",
    "        return w\n",
    "    \n",
    "    def predict(self,x):\n",
    "        result = np.c_[x,np.ones((x.shape[0],1))] @ self.w.reshape(-1,1)\n",
    "        return result.flatten()"
   ]
  },
  {
   "cell_type": "code",
   "execution_count": 11,
   "metadata": {},
   "outputs": [],
   "source": [
    "class linear_regression:\n",
    "    def __init__(self,Data,labels, regulariser_value = (0,0), learning_rate = 0.01, batch_size = 32,epochs = 20):\n",
    "        data = np.c_[Data, np.ones((Data.shape[0],1))]\n",
    "        w = np.random.rand(data.shape[1])\n",
    "        self.w = self.learn(data,labels,regulariser_value, w, learning_rate,batch_size, epochs)\n",
    "\n",
    "    def learn(self,data,labels,regulariser_value,w, learning_rate, batch_size,epochs):\n",
    "        N = data.shape[0]\n",
    "        for _ in range(epochs):\n",
    "            shfl = np.random.permutation(N)\n",
    "            data = data[shfl]\n",
    "            labels = labels[shfl]\n",
    "            for start in range(0, N, batch_size):\n",
    "                a,b = start, min(start + batch_size, N)\n",
    "                d = data[a:b,:]\n",
    "                predictions = (d @ w.reshape(-1,1)).flatten()\n",
    "                error = predictions - labels[a:b]\n",
    "                grad = np.mean(d * error[:,np.newaxis] ,axis = 0)\n",
    "                if regulariser_value[0]:\n",
    "                    t = np.sign(w)\n",
    "                    t[t == 0] = 1e-5\n",
    "                    grad = grad + regulariser_value[0] * t\n",
    "                elif regulariser_value[1]:\n",
    "                    grad = grad + regulariser_value[1] * w\n",
    "\n",
    "                w = w - learning_rate * grad\n",
    "        return w\n",
    "    \n",
    "    def predict(self,x):\n",
    "        result = np.c_[x,np.ones((x.shape[0],1))] @ self.w.reshape(-1,1)\n",
    "        return result.flatten()"
   ]
  },
  {
   "cell_type": "code",
   "execution_count": 12,
   "metadata": {},
   "outputs": [],
   "source": [
    "class linear_classifier:\n",
    "    def __init__(self,Data,labels,regulariser_value = (0,0), learning_rate=0.1, batch_size = 32,epochs = 20):\n",
    "        self.regression = linear_regression(Data,labels,regulariser_value,learning_rate=learning_rate,\\\n",
    "            batch_size = batch_size,epochs = epochs)\n",
    "    \n",
    "    def predict(self,x):\n",
    "        result = self.regression.predict(x)\n",
    "        return result > 0.5\n"
   ]
  },
  {
   "cell_type": "code",
   "execution_count": 13,
   "metadata": {},
   "outputs": [],
   "source": [
    "class logistic_regression:\n",
    "    def __init__(self, Data, labels, regulariser_value = (0,0), learning_rate = 0.01, batch_size = 32,epochs = 20):\n",
    "        data = np.c_[Data, np.ones((Data.shape[0],1))]\n",
    "        w = np.random.rand(data.shape[1])\n",
    "        self.w = self.learn(data,labels,regulariser_value,w, learning_rate,batch_size, epochs)\n",
    "\n",
    "    def learn(self,data,labels,regulariser_value, w, learning_rate, batch_size,epochs):\n",
    "        N = data.shape[0]\n",
    "        for _ in range(epochs):\n",
    "            shfl = np.random.permutation(N)\n",
    "            data = data[shfl]\n",
    "            labels = labels[shfl]\n",
    "            for start in range(0, N, batch_size):\n",
    "                a,b = start, min(start + batch_size, N)\n",
    "                d = data[a:b,:]\n",
    "                predictions = scipy.special.expit(d @ w.reshape(-1,1).flatten())\n",
    "                error = predictions - labels[a:b]\n",
    "                grad = np.sum(d * error[:,np.newaxis], axis = 0)\n",
    "                if regulariser_value[0]:\n",
    "                    t = np.sign(w)\n",
    "                    t[t == 0] = 1e-5\n",
    "                    grad = grad + regulariser_value[0] * t\n",
    "                elif regulariser_value[1]:\n",
    "                    grad = grad + regulariser_value[1] * w\n",
    "                w = w - learning_rate * grad\n",
    "        return w\n",
    "    \n",
    "    def predict(self,x):\n",
    "        result = scipy.special.expit(np.c_[x,np.ones((x.shape[0],1))] @ self.w.reshape(-1,1))\n",
    "        return result.flatten()"
   ]
  },
  {
   "cell_type": "code",
   "execution_count": 14,
   "metadata": {},
   "outputs": [],
   "source": [
    "class logistic_classifier:\n",
    "    def __init__(self,Data,labels, regulariser_value = (0,0), learning_rate=0.1, batch_size = 32,epochs = 20):\n",
    "        self.regression = logistic_regression(Data,labels,regulariser_value,learning_rate=learning_rate,\\\n",
    "            batch_size = batch_size,epochs = epochs)\n",
    "    \n",
    "    def predict(self,x):\n",
    "        result = self.regression.predict(x)\n",
    "        return result > 0.5\n"
   ]
  },
  {
   "cell_type": "code",
   "execution_count": 15,
   "metadata": {},
   "outputs": [],
   "source": [
    "class linear_regression_poly:\n",
    "    def __init__(self,data,label,degree):\n",
    "        N = data.shape[0]\n",
    "        X = np.zeros((N,N),dtype=float)\n",
    "        for i in range(N):\n",
    "            for j in range(N):\n",
    "                X[i,j] = self.kernal(data[i,:],data[j,:],degree)\n",
    "        \n",
    "        X = np.linalg.inv(X)\n",
    "        alpha = X @ label.reshape(-1,1)\n",
    "        self.w = data.T @ alpha\n",
    "        \n",
    "    def kernal(self, x, y, d):\n",
    "        return np.dot(x, y) ** d\n",
    "\n",
    "    def predict(self,x):\n",
    "        result = x @ self.w.reshape(-1,1)\n",
    "        return result.flatten()      "
   ]
  },
  {
   "cell_type": "code",
   "execution_count": 16,
   "metadata": {},
   "outputs": [],
   "source": [
    "class linear_regression_poly_classifier:\n",
    "    def __init__(self, data, label, degree):\n",
    "        self.poly_regressor = linear_regression_poly(data,label,degree)\n",
    "    \n",
    "    def predict(self,x):\n",
    "        result = self.poly_regressor.predict(x)\n",
    "        return result > 0.5"
   ]
  },
  {
   "cell_type": "markdown",
   "metadata": {},
   "source": [
    "## KNN"
   ]
  },
  {
   "cell_type": "code",
   "execution_count": 29,
   "metadata": {},
   "outputs": [],
   "source": [
    "class KNN:\n",
    "    def __init__(self,data,label,k):  \n",
    "        self.classes = np.unique(label).shape[0]\n",
    "        self.data = data\n",
    "        self.label = label\n",
    "        self.k = k\n",
    "    \n",
    "    def predict(self,x):\n",
    "        result = []\n",
    "        for each in x:\n",
    "            temp = np.linalg.norm(self.data - each, axis=1)\n",
    "            temp = np.argsort(temp)\n",
    "            temp = self.label[temp][:self.k]\n",
    "            a,b = np.unique(temp,return_counts=True )\n",
    "            probab = np.zeros(self.classes)\n",
    "            probab[a] = b / self.k\n",
    "            result.append(probab)\n",
    "        return np.array(result)"
   ]
  },
  {
   "cell_type": "markdown",
   "metadata": {},
   "source": [
    "## Multi class models"
   ]
  },
  {
   "cell_type": "code",
   "execution_count": 18,
   "metadata": {},
   "outputs": [],
   "source": [
    "class NeiveBayesModel:\n",
    "    def __init__(self, DATA, labels, bins = 256):\n",
    "        self.bins = bins+1\n",
    "        self.N , self.D = DATA.shape\n",
    "        self.classes = np.unique(labels)\n",
    "        self.extra = list(range(bins))\n",
    "        self.data = [DATA[labels == c] for c in self.classes]\n",
    "        self.distriubtion_array = [self.__helper1(i) for i in self.classes]\n",
    "        self.prior = np.log(np.array([each.shape[0] for each in self.data])/self.N)\n",
    "        del(self.data)\n",
    "        del(self.extra)\n",
    "    \n",
    "    def __helper1(self, c):\n",
    "        import scipy.stats\n",
    "        histograms = []\n",
    "        for i in range(self.D):\n",
    "            feature_data = self.data[c][:,i].tolist() + self.extra\n",
    "            hist = np.histogram(feature_data, bins = np.arange(self.bins))\n",
    "            hist_dist = scipy.stats.rv_histogram(hist)\n",
    "            histograms.append(hist_dist)\n",
    "        return histograms\n",
    "    \n",
    "    def predict(self,X):\n",
    "        results = []\n",
    "        for each in X:\n",
    "            probablities = []\n",
    "            for c in self.classes:\n",
    "                p = 0\n",
    "                for d in range(self.D):\n",
    "                    p += self.distriubtion_array[c][d].logpdf(each[d])\n",
    "                p += self.prior[c]\n",
    "                probablities.append(p)\n",
    "            t = np.array(probablities)\n",
    "            t = scipy.special.softmax(t)\n",
    "            results.append(t)\n",
    "        return np.array(results)"
   ]
  },
  {
   "cell_type": "code",
   "execution_count": 19,
   "metadata": {},
   "outputs": [],
   "source": [
    "class multi_class_linear_classifier:\n",
    "    def __init__(self,Data,labels, regulariser_value = (0,0),learning_rate=0.1, batch_size = 32,epochs = 20):\n",
    "        num_func = np.unique(labels).shape[0]\n",
    "        self.regressor = []\n",
    "        for i in range(num_func):\n",
    "            y = labels == i\n",
    "            self.regressor.append(linear_regression(Data, y, regulariser_value ,learning_rate, batch_size, epochs))\n",
    "    \n",
    "    def predict(self,x):\n",
    "        result = []\n",
    "        for regrssor in self.regressor:\n",
    "            result.append(regrssor.predict(x))\n",
    "        result = np.array(result).T\n",
    "        return scipy.special.softmax(result, axis = 1)"
   ]
  },
  {
   "cell_type": "code",
   "execution_count": 20,
   "metadata": {},
   "outputs": [],
   "source": [
    "class multi_class_logistic_classifier:\n",
    "    def __init__(self,Data,labels, regulariser_value = (0,0),learning_rate=0.1, batch_size = 32,epochs = 20):\n",
    "        num_func = np.unique(labels).shape[0]\n",
    "        self.regressor = []\n",
    "        for i in range(num_func):\n",
    "            y = labels == i\n",
    "            self.regressor.append(logistic_regression(Data, y, regulariser_value,learning_rate, batch_size, epochs))\n",
    "    \n",
    "    def predict(self,x):\n",
    "        result = []\n",
    "        for regrssor in self.regressor:\n",
    "            result.append(regrssor.predict(x))\n",
    "        result = np.array(result).T\n",
    "        return scipy.special.softmax(result, axis = 1)"
   ]
  },
  {
   "cell_type": "code",
   "execution_count": 21,
   "metadata": {},
   "outputs": [],
   "source": [
    "class multi_fisher_LDM:\n",
    "    def __init__(self, data, label):\n",
    "        label = one_hot_representer(label)\n",
    "        self.ldm = []\n",
    "        for each in range(label.shape[1]):\n",
    "            self.ldm.append(fisher_LDM(data,label[:,each]))\n",
    "    \n",
    "    def predict(self,x):\n",
    "        result = []\n",
    "        for each in self.ldm:\n",
    "            result.append(each.predict(x))\n",
    "        result = scipy.special.softmax(np.array(result).T, axis = 1)\n",
    "        return result"
   ]
  },
  {
   "cell_type": "code",
   "execution_count": 76,
   "metadata": {},
   "outputs": [],
   "source": [
    "class multi_class_svm:\n",
    "    def __init__(self,Data,labels, slack = 1, kernal = \"gaussian\", gamma = 1, degree = 1):\n",
    "        num_func = np.unique(labels).shape[0]\n",
    "        self.regressor = []\n",
    "        for i in range(num_func):\n",
    "            y = labels == i\n",
    "            self.regressor.append(svm_model(Data, y,slack = slack, kernal = kernal , gamma = gamma, degree = degree))\n",
    "    \n",
    "    def predict(self,x):\n",
    "        result = []\n",
    "        for regrssor in self.regressor:\n",
    "            result.append(regrssor.predict(x))\n",
    "        result = np.array(result).T\n",
    "        return scipy.special.softmax(result, axis = 1)"
   ]
  },
  {
   "cell_type": "code",
   "execution_count": 266,
   "metadata": {},
   "outputs": [],
   "source": [
    "def plot_graph(x_name, x,accuracy, aread_under_curve, f1_score):\n",
    "    x_axis = np.arange(len(x))\n",
    "    width = 0.2\n",
    "    plt.bar(x_axis-0.2, accuracy, width, color='red')\n",
    "    plt.bar(x_axis, aread_under_curve, width, color='blue')\n",
    "    plt.bar(x_axis+0.2, f1_score, width, color='green')\n",
    "    plt.xlabel(x_name)\n",
    "    plt.ylabel(\"Scores\")\n",
    "    plt.xticks(x_axis, x)\n",
    "    plt.legend([\"Accuracy\", \"AOC\", \"F1 score\"])\n",
    "    plt.show()"
   ]
  },
  {
   "cell_type": "code",
   "execution_count": 23,
   "metadata": {},
   "outputs": [],
   "source": [
    "class vector_valued_linear_regression:\n",
    "    def __init__(self,Data,labels, regulariser_value = (0,0),learning_rate=0.1, batch_size = 128,epochs = 20):\n",
    "        num_func = labels.shape[1]\n",
    "        self.regressor = []\n",
    "        for i in range(num_func):\n",
    "            self.regressor.append(linear_regression(Data, labels[:,i], regulariser_value ,learning_rate, batch_size, epochs))\n",
    "    \n",
    "    def predict(self,x):\n",
    "        result = []\n",
    "        for regrssor in self.regressor:\n",
    "            result.append(regrssor.predict(x))\n",
    "        result = np.array(result).T\n",
    "        return result"
   ]
  },
  {
   "cell_type": "markdown",
   "metadata": {},
   "source": [
    "# Dataset One"
   ]
  },
  {
   "cell_type": "code",
   "execution_count": 3,
   "metadata": {},
   "outputs": [
    {
     "name": "stdout",
     "output_type": "stream",
     "text": [
      "(4708, 28, 28)\n",
      "(4708,)\n",
      "(524, 28, 28)\n",
      "(524,)\n",
      "(624, 28, 28)\n",
      "(624,)\n"
     ]
    }
   ],
   "source": [
    "test_images = np.load('../PRNN_data/data_set_1/test_images.npy')\n",
    "test_labels = np.load('../PRNN_data/data_set_1/test_labels.npy').flatten()\n",
    "train_images = np.load('../PRNN_data/data_set_1/train_images.npy')\n",
    "train_labels = np.load('../PRNN_data/data_set_1/train_labels.npy').flatten()\n",
    "val_images = np.load('../PRNN_data/data_set_1/val_images.npy')\n",
    "val_labels = np.load('../PRNN_data/data_set_1/val_labels.npy').flatten()\n",
    "\n",
    "l = [train_images,train_labels,\\\n",
    "    val_images,val_labels,\\\n",
    "    test_images,test_labels]\n",
    "for i in range(len(l)):\n",
    "    k = l[i]\n",
    "    print (k.shape)\n",
    "del(l)\n",
    "\n",
    "train_images = train_images.reshape(-1,28*28)\n",
    "test_images = test_images.reshape(-1,28*28)\n",
    "val_images = val_images.reshape(-1,28*28)\n",
    "\n",
    "from sklearn.metrics import accuracy_score as acc\n",
    "from sklearn.metrics import roc_auc_score as auc\n",
    "from sklearn.metrics import f1_score as f1\n",
    "def ab_metrics(true_y, predicted_y,printing = True):\n",
    "    if predicted_y.ndim > 1:\n",
    "        temp = np.argmax(predicted_y, axis=1)\n",
    "        temp2 = one_hot_representer(true_y)\n",
    "        a1 = acc(true_y, temp,normalize=True)\n",
    "        a2 = auc(temp2, predicted_y, multi_class = 'ovr')\n",
    "        a3 = f1(true_y, temp,average = 'weighted')\n",
    "    else:\n",
    "        a1=acc(true_y, predicted_y,normalize=True)\n",
    "        a2=auc(true_y, predicted_y)\n",
    "        a3=f1(true_y, predicted_y)\n",
    "    if printing:\n",
    "        print(\"Accuracy score: {:.3f}\".format(a1))\n",
    "        print(\"AUC score: {:.3f}\".format(a2))\n",
    "        print(\"F1 score: {:.3f}\".format(a3))\n",
    "    return a1, a2, a3"
   ]
  },
  {
   "cell_type": "markdown",
   "metadata": {},
   "source": [
    "Doing Dimentionality Reduction and scaling"
   ]
  },
  {
   "cell_type": "code",
   "execution_count": 346,
   "metadata": {},
   "outputs": [],
   "source": [
    "from sklearn.decomposition import PCA\n",
    "X = np.vstack((train_images,val_images))\n",
    "Y = np.concatenate((train_labels,val_labels), axis = 0)\n",
    "\n",
    "pca = PCA(100)\n",
    "X = pca.fit_transform(X)\n",
    "X_ = pca.transform(test_images)\n",
    "\n",
    "from sklearn.preprocessing import StandardScaler\n",
    "sc = StandardScaler()\n",
    "X = sc.fit_transform(X)\n",
    "X_ = sc.transform(X_)\n",
    "Y_ = test_labels"
   ]
  },
  {
   "cell_type": "markdown",
   "metadata": {},
   "source": [
    "## Linear"
   ]
  },
  {
   "cell_type": "markdown",
   "metadata": {},
   "source": [
    "Poly Kernal with degree 2"
   ]
  },
  {
   "cell_type": "code",
   "execution_count": 301,
   "metadata": {},
   "outputs": [
    {
     "name": "stdout",
     "output_type": "stream",
     "text": [
      "Accuracy score: 0.492\n",
      "AUC score: 0.477\n",
      "F1 score: 0.569\n"
     ]
    },
    {
     "data": {
      "text/plain": [
       "(0.49198717948717946, 0.4773504273504273, 0.5687074829931973)"
      ]
     },
     "execution_count": 301,
     "metadata": {},
     "output_type": "execute_result"
    }
   ],
   "source": [
    "model = linear_regression_poly_classifier( X,Y,2)\n",
    "probabilities = model.predict(X_)\n",
    "ab_metrics(Y_,probabilities)"
   ]
  },
  {
   "cell_type": "code",
   "execution_count": 302,
   "metadata": {},
   "outputs": [
    {
     "name": "stdout",
     "output_type": "stream",
     "text": [
      "Accuracy score: 0.841\n",
      "AUC score: 0.793\n",
      "F1 score: 0.886\n"
     ]
    },
    {
     "data": {
      "text/plain": [
       "(0.8413461538461539, 0.7927350427350428, 0.8860759493670887)"
      ]
     },
     "execution_count": 302,
     "metadata": {},
     "output_type": "execute_result"
    }
   ],
   "source": [
    "model = linear_classifier( X,Y, learning_rate = 0.001, epochs = 50)\n",
    "y_ = model.predict(X_)\n",
    "ab_metrics(Y_,y_)\n",
    "# accuracy, aread_under_curve, F1 score"
   ]
  },
  {
   "cell_type": "markdown",
   "metadata": {},
   "source": [
    "L1"
   ]
  },
  {
   "cell_type": "code",
   "execution_count": 303,
   "metadata": {},
   "outputs": [
    {
     "name": "stdout",
     "output_type": "stream",
     "text": [
      "Accuracy score: 0.843\n",
      "AUC score: 0.795\n",
      "F1 score: 0.887\n",
      "Accuracy score: 0.840\n",
      "AUC score: 0.791\n",
      "F1 score: 0.885\n",
      "Accuracy score: 0.829\n",
      "AUC score: 0.778\n",
      "F1 score: 0.877\n",
      "Accuracy score: 0.822\n",
      "AUC score: 0.788\n",
      "F1 score: 0.866\n",
      "Accuracy score: 0.375\n",
      "AUC score: 0.500\n",
      "F1 score: 0.000\n",
      "Accuracy score: 0.375\n",
      "AUC score: 0.500\n",
      "F1 score: 0.000\n"
     ]
    },
    {
     "data": {
      "image/png": "[encoded data removed]",
      "text/plain": [
       "<Figure size 576x288 with 1 Axes>"
      ]
     },
     "metadata": {
      "needs_background": "light"
     },
     "output_type": "display_data"
    }
   ],
   "source": [
    "accuracy = []\n",
    "aread_under_curve = []\n",
    "f1_score = []\n",
    "x = (0, 0.001,0.01,0.1,1,10)\n",
    "for L1 in x:\n",
    "    model = linear_classifier( X,Y, (L1,0),learning_rate = 0.001, epochs = 50)\n",
    "    y_ = model.predict(X_)\n",
    "    a,b,c = ab_metrics(Y_,y_)\n",
    "    accuracy.append(a)\n",
    "    aread_under_curve.append(b)\n",
    "    f1_score.append(c)\n",
    "\n",
    "# print(accuracy, \"\\n\",aread_under_curve,\"\\n\" ,f1_score)\n",
    "\n",
    "plot_graph(\"L1\", x,accuracy, aread_under_curve, f1_score)"
   ]
  },
  {
   "cell_type": "markdown",
   "metadata": {},
   "source": [
    "L2"
   ]
  },
  {
   "cell_type": "code",
   "execution_count": 304,
   "metadata": {},
   "outputs": [
    {
     "name": "stdout",
     "output_type": "stream",
     "text": [
      "Accuracy score: 0.825\n",
      "AUC score: 0.775\n",
      "F1 score: 0.875\n",
      "Accuracy score: 0.843\n",
      "AUC score: 0.792\n",
      "F1 score: 0.888\n",
      "Accuracy score: 0.832\n",
      "AUC score: 0.783\n",
      "F1 score: 0.879\n",
      "Accuracy score: 0.811\n",
      "AUC score: 0.756\n",
      "F1 score: 0.866\n",
      "Accuracy score: 0.611\n",
      "AUC score: 0.665\n",
      "F1 score: 0.589\n",
      "Accuracy score: 0.377\n",
      "AUC score: 0.500\n",
      "F1 score: 0.010\n"
     ]
    },
    {
     "data": {
      "image/png": "[encoded data removed]",
      "text/plain": [
       "<Figure size 576x288 with 1 Axes>"
      ]
     },
     "metadata": {
      "needs_background": "light"
     },
     "output_type": "display_data"
    }
   ],
   "source": [
    "accuracy = []\n",
    "aread_under_curve = []\n",
    "f1_score = []\n",
    "x = (0, 0.001,0.01,0.1,1,10)\n",
    "for L2 in x:\n",
    "    model = linear_classifier( X,Y, (0,L2),learning_rate = 0.1, epochs = 10)\n",
    "    y_ = model.predict(X_)\n",
    "    a,b,c = ab_metrics(Y_,y_)\n",
    "    accuracy.append(a)\n",
    "    aread_under_curve.append(b)\n",
    "    f1_score.append(c)\n",
    "\n",
    "# print(accuracy, \"\\n\",aread_under_curve,\"\\n\" ,f1_score)\n",
    "plot_graph(\"L2\", x,accuracy, aread_under_curve, f1_score)"
   ]
  },
  {
   "cell_type": "markdown",
   "metadata": {},
   "source": [
    "elasticnet"
   ]
  },
  {
   "cell_type": "code",
   "execution_count": 347,
   "metadata": {},
   "outputs": [
    {
     "name": "stdout",
     "output_type": "stream",
     "text": [
      "------L1:0.01 , L2:0.01-----\n",
      "Accuracy score: 0.841\n",
      "AUC score: 0.902\n",
      "F1 score: 0.832\n",
      "------L1:0.01 , L2:0.1-----\n",
      "Accuracy score: 0.854\n",
      "AUC score: 0.928\n",
      "F1 score: 0.846\n",
      "------L1:0.01 , L2:1-----\n",
      "Accuracy score: 0.827\n",
      "AUC score: 0.917\n",
      "F1 score: 0.816\n",
      "------L1:0.01 , L2:5-----\n",
      "Accuracy score: 0.845\n",
      "AUC score: 0.914\n",
      "F1 score: 0.836\n",
      "------L1:0.1 , L2:0.01-----\n",
      "Accuracy score: 0.739\n",
      "AUC score: 0.866\n",
      "F1 score: 0.698\n",
      "------L1:0.1 , L2:0.1-----\n",
      "Accuracy score: 0.755\n",
      "AUC score: 0.886\n",
      "F1 score: 0.723\n",
      "------L1:0.1 , L2:1-----\n",
      "Accuracy score: 0.769\n",
      "AUC score: 0.903\n",
      "F1 score: 0.741\n",
      "------L1:0.1 , L2:5-----\n",
      "Accuracy score: 0.740\n",
      "AUC score: 0.861\n",
      "F1 score: 0.701\n",
      "------L1:1 , L2:0.01-----\n",
      "Accuracy score: 0.468\n",
      "AUC score: 0.468\n",
      "F1 score: 0.476\n",
      "------L1:1 , L2:0.1-----\n",
      "Accuracy score: 0.583\n",
      "AUC score: 0.589\n",
      "F1 score: 0.589\n",
      "------L1:1 , L2:1-----\n",
      "Accuracy score: 0.479\n",
      "AUC score: 0.438\n",
      "F1 score: 0.487\n",
      "------L1:1 , L2:5-----\n",
      "Accuracy score: 0.606\n",
      "AUC score: 0.602\n",
      "F1 score: 0.609\n",
      "------L1:5 , L2:0.01-----\n",
      "Accuracy score: 0.489\n",
      "AUC score: 0.519\n",
      "F1 score: 0.495\n",
      "------L1:5 , L2:0.1-----\n",
      "Accuracy score: 0.548\n",
      "AUC score: 0.522\n",
      "F1 score: 0.550\n",
      "------L1:5 , L2:1-----\n",
      "Accuracy score: 0.567\n",
      "AUC score: 0.594\n",
      "F1 score: 0.573\n",
      "------L1:5 , L2:5-----\n",
      "Accuracy score: 0.522\n",
      "AUC score: 0.420\n",
      "F1 score: 0.519\n"
     ]
    }
   ],
   "source": [
    "accuracy = []\n",
    "aread_under_curve = []\n",
    "f1_score = []\n",
    "x = []\n",
    "for L1 in [0.01,0.1,1,5]:\n",
    "    for L2 in [0.01,0.1,1,5]:\n",
    "        print(\"------L1:{} , L2:{}-----\".format(L1,L2))\n",
    "        model = multi_class_linear_classifier( X,Y, (L1,L2),learning_rate = 0.1, epochs = 10)\n",
    "        y_ = model.predict(X_)\n",
    "        a,b,c = ab_metrics(Y_,y_)\n",
    "        accuracy.append(a)\n",
    "        aread_under_curve.append(b)\n",
    "        f1_score.append(c)"
   ]
  },
  {
   "cell_type": "markdown",
   "metadata": {},
   "source": [
    "## Logisitic"
   ]
  },
  {
   "cell_type": "markdown",
   "metadata": {},
   "source": [
    "L1"
   ]
  },
  {
   "cell_type": "code",
   "execution_count": 31,
   "metadata": {},
   "outputs": [
    {
     "name": "stdout",
     "output_type": "stream",
     "text": [
      "Accuracy score: 0.867\n",
      "AUC score: 0.829\n",
      "F1 score: 0.902\n",
      "Accuracy score: 0.857\n",
      "AUC score: 0.819\n",
      "F1 score: 0.895\n",
      "Accuracy score: 0.840\n",
      "AUC score: 0.791\n",
      "F1 score: 0.885\n",
      "Accuracy score: 0.817\n",
      "AUC score: 0.766\n",
      "F1 score: 0.869\n",
      "Accuracy score: 0.763\n",
      "AUC score: 0.718\n",
      "F1 score: 0.825\n",
      "Accuracy score: 0.502\n",
      "AUC score: 0.501\n",
      "F1 score: 0.558\n"
     ]
    },
    {
     "data": {
      "image/png": "[encoded data removed]",
      "text/plain": [
       "<Figure size 432x288 with 1 Axes>"
      ]
     },
     "metadata": {
      "needs_background": "light"
     },
     "output_type": "display_data"
    }
   ],
   "source": [
    "accuracy = []\n",
    "aread_under_curve = []\n",
    "f1_score = []\n",
    "x = (0, 0.001,0.01,0.1,1,10)\n",
    "for L1 in x:\n",
    "    model = logistic_classifier( X,Y, (L1,0),learning_rate = 0.1, epochs = 10)\n",
    "    y_ = model.predict(X_)\n",
    "    a,b,c = ab_metrics(Y_,y_)\n",
    "    accuracy.append(a)\n",
    "    aread_under_curve.append(b)\n",
    "    f1_score.append(c)\n",
    "\n",
    "# print(accuracy, \"\\n\",aread_under_curve,\"\\n\" ,f1_score)\n",
    "\n",
    "plot_graph(\"L1\", x,accuracy, aread_under_curve, f1_score)"
   ]
  },
  {
   "cell_type": "markdown",
   "metadata": {},
   "source": [
    "L2"
   ]
  },
  {
   "cell_type": "code",
   "execution_count": 32,
   "metadata": {},
   "outputs": [
    {
     "name": "stdout",
     "output_type": "stream",
     "text": [
      "Accuracy score: 0.827\n",
      "AUC score: 0.773\n",
      "F1 score: 0.877\n",
      "Accuracy score: 0.804\n",
      "AUC score: 0.751\n",
      "F1 score: 0.860\n",
      "Accuracy score: 0.845\n",
      "AUC score: 0.802\n",
      "F1 score: 0.887\n",
      "Accuracy score: 0.843\n",
      "AUC score: 0.803\n",
      "F1 score: 0.884\n",
      "Accuracy score: 0.788\n",
      "AUC score: 0.749\n",
      "F1 score: 0.843\n",
      "Accuracy score: 0.551\n",
      "AUC score: 0.548\n",
      "F1 score: 0.610\n"
     ]
    },
    {
     "data": {
      "image/png": "[encoded data removed]",
      "text/plain": [
       "<Figure size 432x288 with 1 Axes>"
      ]
     },
     "metadata": {
      "needs_background": "light"
     },
     "output_type": "display_data"
    }
   ],
   "source": [
    "accuracy = []\n",
    "aread_under_curve = []\n",
    "f1_score = []\n",
    "x = (0, 0.001,0.01,0.1,1,10)\n",
    "for L2 in x:\n",
    "    model = logistic_classifier( X,Y, (0,L2),learning_rate = 0.1, epochs = 10)\n",
    "    y_ = model.predict(X_)\n",
    "    a,b,c = ab_metrics(Y_,y_)\n",
    "    accuracy.append(a)\n",
    "    aread_under_curve.append(b)\n",
    "    f1_score.append(c)\n",
    "\n",
    "# print(accuracy, \"\\n\",aread_under_curve,\"\\n\" ,f1_score)\n",
    "\n",
    "plot_graph(\"L2\", x,accuracy, aread_under_curve, f1_score)"
   ]
  },
  {
   "cell_type": "markdown",
   "metadata": {},
   "source": [
    "ElasticNet"
   ]
  },
  {
   "cell_type": "code",
   "execution_count": 33,
   "metadata": {},
   "outputs": [
    {
     "name": "stdout",
     "output_type": "stream",
     "text": [
      "Accuracy score: 0.856\n",
      "AUC score: 0.816\n",
      "F1 score: 0.894\n",
      "Accuracy score: 0.827\n",
      "AUC score: 0.775\n",
      "F1 score: 0.876\n",
      "Accuracy score: 0.832\n",
      "AUC score: 0.782\n",
      "F1 score: 0.879\n",
      "Accuracy score: 0.808\n",
      "AUC score: 0.758\n",
      "F1 score: 0.861\n",
      "Accuracy score: 0.769\n",
      "AUC score: 0.711\n",
      "F1 score: 0.836\n",
      "Accuracy score: 0.538\n",
      "AUC score: 0.535\n",
      "F1 score: 0.598\n"
     ]
    },
    {
     "data": {
      "image/png": "[encoded data removed]",
      "text/plain": [
       "<Figure size 432x288 with 1 Axes>"
      ]
     },
     "metadata": {
      "needs_background": "light"
     },
     "output_type": "display_data"
    }
   ],
   "source": [
    "accuracy = []\n",
    "aread_under_curve = []\n",
    "f1_score = []\n",
    "x = ((0,0), (0.001, 0.001),(0.01,0.01),(0.1,0.1),(1,1),(10,10))\n",
    "for elastic in x:\n",
    "    model = logistic_classifier( X,Y, elastic,learning_rate = 0.1, epochs = 10)\n",
    "    y_ = model.predict(X_)\n",
    "    a,b,c = ab_metrics(Y_,y_)\n",
    "    accuracy.append(a)\n",
    "    aread_under_curve.append(b)\n",
    "    f1_score.append(c)\n",
    "\n",
    "# print(accuracy, \"\\n\",aread_under_curve,\"\\n\" ,f1_score)\n",
    "\n",
    "plot_graph(\"ElasticNet\", x,accuracy, aread_under_curve, f1_score)"
   ]
  },
  {
   "cell_type": "markdown",
   "metadata": {},
   "source": [
    "## KNN"
   ]
  },
  {
   "cell_type": "code",
   "execution_count": 34,
   "metadata": {},
   "outputs": [
    {
     "name": "stdout",
     "output_type": "stream",
     "text": [
      "Accuracy score: 0.736\n",
      "AUC score: 0.749\n",
      "F1 score: 0.688\n",
      "Accuracy score: 0.732\n",
      "AUC score: 0.765\n",
      "F1 score: 0.683\n",
      "Accuracy score: 0.704\n",
      "AUC score: 0.792\n",
      "F1 score: 0.635\n",
      "Accuracy score: 0.663\n",
      "AUC score: 0.815\n",
      "F1 score: 0.562\n"
     ]
    },
    {
     "data": {
      "image/png": "[encoded data removed]",
      "text/plain": [
       "<Figure size 432x288 with 1 Axes>"
      ]
     },
     "metadata": {
      "needs_background": "light"
     },
     "output_type": "display_data"
    }
   ],
   "source": [
    "accuracy = []\n",
    "aread_under_curve = []\n",
    "f1_score = []\n",
    "x = (3,6,10,15)\n",
    "for k in x:\n",
    "    model = KNN( X,Y, k)\n",
    "    y_ = model.predict(X_)\n",
    "    a,b,c = ab_metrics(Y_,y_)\n",
    "    accuracy.append(a)\n",
    "    aread_under_curve.append(b)\n",
    "    f1_score.append(c)\n",
    "\n",
    "\n",
    "plot_graph(\"Knn K\", x, accuracy, aread_under_curve, f1_score)"
   ]
  },
  {
   "cell_type": "markdown",
   "metadata": {},
   "source": [
    "## Nieve Bayes"
   ]
  },
  {
   "cell_type": "code",
   "execution_count": 36,
   "metadata": {},
   "outputs": [
    {
     "name": "stdout",
     "output_type": "stream",
     "text": [
      "Accuracy score: 0.731\n",
      "AUC score: 0.778\n",
      "F1 score: 0.680\n"
     ]
    },
    {
     "data": {
      "text/plain": [
       "(0.7307692307692307, 0.7779476221783914, 0.6803970709715359)"
      ]
     },
     "execution_count": 36,
     "metadata": {},
     "output_type": "execute_result"
    }
   ],
   "source": [
    "model = NeiveBayesModel( train_images,train_labels, bins = 28*28)\n",
    "y_ = model.predict(test_images)\n",
    "ab_metrics(test_labels,y_)"
   ]
  },
  {
   "cell_type": "markdown",
   "metadata": {},
   "source": [
    "## GMM"
   ]
  },
  {
   "cell_type": "code",
   "execution_count": 37,
   "metadata": {},
   "outputs": [
    {
     "name": "stdout",
     "output_type": "stream",
     "text": [
      "Accuracy score: 0.872\n",
      "AUC score: 0.892\n",
      "F1 score: 0.866\n",
      "Accuracy score: 0.848\n",
      "AUC score: 0.879\n",
      "F1 score: 0.843\n",
      "Accuracy score: 0.824\n",
      "AUC score: 0.874\n",
      "F1 score: 0.825\n",
      "Accuracy score: 0.830\n",
      "AUC score: 0.842\n",
      "F1 score: 0.819\n"
     ]
    },
    {
     "data": {
      "image/png": "[encoded data removed]",
      "text/plain": [
       "<Figure size 432x288 with 1 Axes>"
      ]
     },
     "metadata": {
      "needs_background": "light"
     },
     "output_type": "display_data"
    }
   ],
   "source": [
    "accuracy = []\n",
    "aread_under_curve = []\n",
    "f1_score = []\n",
    "x = ((1,1),(2,2),(3,3),(2,3))\n",
    "for each in x:\n",
    "    model_0 = GMM( X[Y == 0], each[0])\n",
    "    model_1 = GMM(X[Y == 1], each[1])\n",
    "    a,b = np.unique(Y, return_counts = True)\n",
    "    prior = np.log(b/np.sum(b))\n",
    "    y_0 = model_0.log_probablity(X_) + prior[0]\n",
    "    y_1 = model_1.log_probablity(X_) + prior[1]\n",
    "    # print(y_0.shape, y_1.shape)\n",
    "    y_ = scipy.special.softmax(np.c_[y_0.reshape(-1,1),y_1.reshape(-1,1)], axis = 1)\n",
    "    a,b,c = ab_metrics(Y_,y_)\n",
    "    accuracy.append(a)\n",
    "    aread_under_curve.append(b)\n",
    "    f1_score.append(c)\n",
    "\n",
    "plot_graph(\"mixture count\", x,accuracy, aread_under_curve, f1_score)\n"
   ]
  },
  {
   "cell_type": "markdown",
   "metadata": {},
   "source": [
    "## Fisher LDM"
   ]
  },
  {
   "cell_type": "code",
   "execution_count": 38,
   "metadata": {},
   "outputs": [
    {
     "name": "stdout",
     "output_type": "stream",
     "text": [
      "Accuracy score: 0.780\n",
      "AUC score: 0.707\n",
      "F1 score: 0.851\n"
     ]
    },
    {
     "data": {
      "text/plain": [
       "(0.780448717948718, 0.7072649572649572, 0.8505997818974917)"
      ]
     },
     "execution_count": 38,
     "metadata": {},
     "output_type": "execute_result"
    }
   ],
   "source": [
    "model = fisher_LDM( train_images,train_labels)\n",
    "y_ = model.predict(test_images)\n",
    "ab_metrics(test_labels,y_, printing = True)"
   ]
  },
  {
   "cell_type": "markdown",
   "metadata": {},
   "source": [
    "## Bayes classifier with ML estimate with gaussian"
   ]
  },
  {
   "cell_type": "code",
   "execution_count": 39,
   "metadata": {},
   "outputs": [
    {
     "name": "stdout",
     "output_type": "stream",
     "text": [
      "Accuracy score: 0.764\n",
      "AUC score: 0.692\n",
      "F1 score: 0.839\n"
     ]
    },
    {
     "data": {
      "text/plain": [
       "(0.7644230769230769, 0.6918803418803419, 0.8389923329682366)"
      ]
     },
     "execution_count": 39,
     "metadata": {},
     "output_type": "execute_result"
    }
   ],
   "source": [
    "model = Bayes_classifier_ML( train_images,train_labels)\n",
    "y_ = model.predict(test_images)\n",
    "ab_metrics(test_labels,y_, printing = True)"
   ]
  },
  {
   "cell_type": "markdown",
   "metadata": {},
   "source": [
    "## Parzen Window"
   ]
  },
  {
   "cell_type": "code",
   "execution_count": 40,
   "metadata": {},
   "outputs": [
    {
     "name": "stdout",
     "output_type": "stream",
     "text": [
      "Accuracy score: 0.625\n",
      "AUC score: 0.500\n",
      "F1 score: 0.481\n",
      "Accuracy score: 0.625\n",
      "AUC score: 0.500\n",
      "F1 score: 0.481\n",
      "Accuracy score: 0.625\n",
      "AUC score: 0.500\n",
      "F1 score: 0.481\n",
      "Accuracy score: 0.625\n",
      "AUC score: 0.500\n",
      "F1 score: 0.481\n"
     ]
    },
    {
     "data": {
      "image/png": "[encoded data removed]",
      "text/plain": [
       "<Figure size 432x288 with 1 Axes>"
      ]
     },
     "metadata": {
      "needs_background": "light"
     },
     "output_type": "display_data"
    }
   ],
   "source": [
    "accuracy = []\n",
    "aread_under_curve = []\n",
    "f1_score = []\n",
    "x = (1e2,1e3,1e4,1e5)\n",
    "for L in x:\n",
    "    model = Bayes_classifier_Parzen( X,Y, L)\n",
    "    y_ = model.predict(X_)\n",
    "    a,b,c = ab_metrics(Y_,y_)\n",
    "    accuracy.append(a)\n",
    "    aread_under_curve.append(b)\n",
    "    f1_score.append(c)\n",
    "\n",
    "plot_graph(\"Parzen Window size\", x,accuracy, aread_under_curve, f1_score)"
   ]
  },
  {
   "cell_type": "markdown",
   "metadata": {},
   "source": [
    "## SVM"
   ]
  },
  {
   "cell_type": "code",
   "execution_count": 48,
   "metadata": {},
   "outputs": [],
   "source": [
    "from sklearn.decomposition import PCA\n",
    "X = np.vstack((train_images,val_images))\n",
    "Y = np.concatenate((train_labels,val_labels), axis = 0)\n",
    "\n",
    "pca = PCA(50, whiten = True)\n",
    "X = pca.fit_transform(X)\n",
    "X_ = pca.transform(test_images)\n",
    "\n",
    "from sklearn.preprocessing import StandardScaler\n",
    "sc = StandardScaler()\n",
    "X = sc.fit_transform(X)\n",
    "X_ = sc.transform(X_)\n",
    "Y_ = test_labels"
   ]
  },
  {
   "cell_type": "code",
   "execution_count": 62,
   "metadata": {},
   "outputs": [
    {
     "name": "stdout",
     "output_type": "stream",
     "text": [
      "my #support vector:  116\n",
      "Accuracy score: 0.861\n",
      "AUC score: 0.839\n",
      "F1 score: 0.892\n"
     ]
    },
    {
     "data": {
      "text/plain": [
       "(0.8605769230769231, 0.8388888888888889, 0.892459826946848)"
      ]
     },
     "execution_count": 62,
     "metadata": {},
     "output_type": "execute_result"
    }
   ],
   "source": [
    "model = svm_model( X[:500],Y[:500], slack = 0.5, kernal= \"linear\" )\n",
    "y_ = model.predict(X_)\n",
    "ab_metrics(Y_,y_, printing = True)"
   ]
  },
  {
   "cell_type": "code",
   "execution_count": 70,
   "metadata": {},
   "outputs": [
    {
     "name": "stdout",
     "output_type": "stream",
     "text": [
      "my #support vector:  269\n",
      "Accuracy score: 0.795\n",
      "AUC score: 0.728\n",
      "F1 score: 0.858\n"
     ]
    },
    {
     "data": {
      "text/plain": [
       "(0.7948717948717948, 0.7282051282051283, 0.8584070796460177)"
      ]
     },
     "execution_count": 70,
     "metadata": {},
     "output_type": "execute_result"
    }
   ],
   "source": [
    "model = svm_model( X[:500],Y[:500], slack = 0.5, kernal= \"gaussian\" , gamma = 0.01)\n",
    "y_ = model.predict(X_)\n",
    "ab_metrics(Y_,y_, printing = True)"
   ]
  },
  {
   "cell_type": "code",
   "execution_count": 68,
   "metadata": {},
   "outputs": [
    {
     "name": "stdout",
     "output_type": "stream",
     "text": [
      "my #support vector:  254\n",
      "Accuracy score: 0.790\n",
      "AUC score: 0.726\n",
      "F1 score: 0.854\n"
     ]
    },
    {
     "data": {
      "text/plain": [
       "(0.7900641025641025, 0.726068376068376, 0.8539576365663322)"
      ]
     },
     "execution_count": 68,
     "metadata": {},
     "output_type": "execute_result"
    }
   ],
   "source": [
    "model = svm_model( X[:500],Y[:500], slack =1, kernal= \"poly_kernal\", degree = 2 , gamma = 1)\n",
    "y_ = model.predict(X_)\n",
    "ab_metrics(Y_,y_, printing = True)"
   ]
  },
  {
   "cell_type": "markdown",
   "metadata": {},
   "source": [
    "grid search"
   ]
  },
  {
   "cell_type": "code",
   "execution_count": 360,
   "metadata": {},
   "outputs": [],
   "source": [
    "gamma = [1e-3,1e-2,1e-1,1,10]\n",
    "slack = [0.1,1,10,50,100]\n",
    "degree = [1,2,3,4]"
   ]
  },
  {
   "cell_type": "code",
   "execution_count": 363,
   "metadata": {},
   "outputs": [
    {
     "name": "stdout",
     "output_type": "stream",
     "text": [
      "RBF: slack(0.1) gamma(0.001) mectrics:Accuracy score: 0.846\n",
      "AUC score: 0.910\n",
      "F1 score: 0.847\n",
      "--------------------\n",
      "RBF: slack(0.1) gamma(0.01) mectrics:Accuracy score: 0.849\n",
      "AUC score: 0.912\n",
      "F1 score: 0.851\n",
      "--------------------\n",
      "RBF: slack(0.1) gamma(0.1) mectrics:Accuracy score: 0.851\n",
      "AUC score: 0.890\n",
      "F1 score: 0.852\n",
      "--------------------\n",
      "RBF: slack(0.1) gamma(1) mectrics:Accuracy score: 0.673\n",
      "AUC score: 0.308\n",
      "F1 score: 0.541\n",
      "--------------------\n",
      "RBF: slack(0.1) gamma(10) mectrics:Accuracy score: 0.673\n",
      "AUC score: 0.500\n",
      "F1 score: 0.541\n",
      "--------------------\n",
      "RBF: slack(1) gamma(0.001) mectrics:Accuracy score: 0.844\n",
      "AUC score: 0.910\n",
      "F1 score: 0.846\n",
      "--------------------\n",
      "RBF: slack(1) gamma(0.01) mectrics:Accuracy score: 0.869\n",
      "AUC score: 0.921\n",
      "F1 score: 0.868\n",
      "--------------------\n",
      "RBF: slack(1) gamma(0.1) mectrics:Accuracy score: 0.826\n",
      "AUC score: 0.891\n",
      "F1 score: 0.830\n",
      "--------------------\n",
      "RBF: slack(1) gamma(1) mectrics:Accuracy score: 0.673\n",
      "AUC score: 0.277\n",
      "F1 score: 0.541\n",
      "--------------------\n",
      "RBF: slack(1) gamma(10) mectrics:Accuracy score: 0.673\n",
      "AUC score: 0.500\n",
      "F1 score: 0.541\n",
      "--------------------\n",
      "RBF: slack(10) gamma(0.001) mectrics:Accuracy score: 0.864\n",
      "AUC score: 0.920\n",
      "F1 score: 0.864\n",
      "--------------------\n",
      "RBF: slack(10) gamma(0.01) mectrics:Accuracy score: 0.855\n",
      "AUC score: 0.912\n",
      "F1 score: 0.853\n",
      "--------------------\n",
      "RBF: slack(10) gamma(0.1) mectrics:Accuracy score: 0.849\n",
      "AUC score: 0.890\n",
      "F1 score: 0.850\n",
      "--------------------\n",
      "RBF: slack(10) gamma(1) mectrics:Accuracy score: 0.673\n",
      "AUC score: 0.271\n",
      "F1 score: 0.541\n",
      "--------------------\n",
      "RBF: slack(10) gamma(10) mectrics:Accuracy score: 0.673\n",
      "AUC score: 0.500\n",
      "F1 score: 0.541\n",
      "--------------------\n",
      "RBF: slack(50) gamma(0.001) mectrics:Accuracy score: 0.851\n",
      "AUC score: 0.910\n",
      "F1 score: 0.850\n",
      "--------------------\n",
      "RBF: slack(50) gamma(0.01) mectrics:Accuracy score: 0.846\n",
      "AUC score: 0.907\n",
      "F1 score: 0.843\n",
      "--------------------\n",
      "RBF: slack(50) gamma(0.1) mectrics:Accuracy score: 0.822\n",
      "AUC score: 0.888\n",
      "F1 score: 0.816\n",
      "--------------------\n",
      "RBF: slack(50) gamma(1) mectrics:Accuracy score: 0.673\n",
      "AUC score: 0.274\n",
      "F1 score: 0.541\n",
      "--------------------\n",
      "RBF: slack(50) gamma(10) mectrics:Accuracy score: 0.673\n",
      "AUC score: 0.500\n",
      "F1 score: 0.541\n",
      "--------------------\n",
      "RBF: slack(100) gamma(0.001) mectrics:Accuracy score: 0.851\n",
      "AUC score: 0.906\n",
      "F1 score: 0.849\n",
      "--------------------\n",
      "RBF: slack(100) gamma(0.01) mectrics:Accuracy score: 0.844\n",
      "AUC score: 0.907\n",
      "F1 score: 0.840\n",
      "--------------------\n",
      "RBF: slack(100) gamma(0.1) mectrics:Accuracy score: 0.772\n",
      "AUC score: 0.890\n",
      "F1 score: 0.748\n",
      "--------------------\n",
      "RBF: slack(100) gamma(1) mectrics:Accuracy score: 0.673\n",
      "AUC score: 0.277\n",
      "F1 score: 0.541\n",
      "--------------------\n",
      "RBF: slack(100) gamma(10) mectrics:Accuracy score: 0.673\n",
      "AUC score: 0.500\n",
      "F1 score: 0.541\n",
      "--------------------\n",
      "RBF: slack(0.1) degree(1) mectrics:Accuracy score: 0.842\n",
      "AUC score: 0.909\n",
      "F1 score: 0.844\n",
      "--------------------\n",
      "RBF: slack(0.1) degree(2) mectrics:Accuracy score: 0.770\n",
      "AUC score: 0.847\n",
      "F1 score: 0.753\n",
      "--------------------\n",
      "RBF: slack(0.1) degree(3) mectrics:Accuracy score: 0.802\n",
      "AUC score: 0.891\n",
      "F1 score: 0.791\n",
      "--------------------\n",
      "RBF: slack(0.1) degree(4) mectrics:Accuracy score: 0.704\n",
      "AUC score: 0.825\n",
      "F1 score: 0.639\n",
      "--------------------\n",
      "RBF: slack(1) degree(1) mectrics:Accuracy score: 0.864\n",
      "AUC score: 0.920\n",
      "F1 score: 0.864\n",
      "--------------------\n",
      "RBF: slack(1) degree(2) mectrics:Accuracy score: 0.806\n",
      "AUC score: 0.871\n",
      "F1 score: 0.800\n",
      "--------------------\n",
      "RBF: slack(1) degree(3) mectrics:Accuracy score: 0.847\n",
      "AUC score: 0.906\n",
      "F1 score: 0.847\n",
      "--------------------\n",
      "RBF: slack(1) degree(4) mectrics:Accuracy score: 0.760\n",
      "AUC score: 0.854\n",
      "F1 score: 0.742\n",
      "--------------------\n",
      "RBF: slack(10) degree(1) mectrics:Accuracy score: 0.848\n",
      "AUC score: 0.909\n",
      "F1 score: 0.846\n",
      "--------------------\n",
      "RBF: slack(10) degree(2) mectrics:Accuracy score: 0.792\n",
      "AUC score: 0.848\n",
      "F1 score: 0.785\n",
      "--------------------\n",
      "RBF: slack(10) degree(3) mectrics:Accuracy score: 0.837\n",
      "AUC score: 0.892\n",
      "F1 score: 0.835\n",
      "--------------------\n",
      "RBF: slack(10) degree(4) mectrics:Accuracy score: 0.799\n",
      "AUC score: 0.872\n",
      "F1 score: 0.796\n",
      "--------------------\n",
      "RBF: slack(50) degree(1) mectrics:Accuracy score: 0.839\n",
      "AUC score: 0.898\n",
      "F1 score: 0.836\n",
      "--------------------\n",
      "RBF: slack(50) degree(2) mectrics:Accuracy score: 0.792\n",
      "AUC score: 0.844\n",
      "F1 score: 0.785\n",
      "--------------------\n",
      "RBF: slack(50) degree(3) mectrics:Accuracy score: 0.834\n",
      "AUC score: 0.887\n",
      "F1 score: 0.832\n",
      "--------------------\n",
      "RBF: slack(50) degree(4) mectrics:Accuracy score: 0.798\n",
      "AUC score: 0.868\n",
      "F1 score: 0.793\n",
      "--------------------\n",
      "RBF: slack(100) degree(1) mectrics:Accuracy score: 0.840\n",
      "AUC score: 0.901\n",
      "F1 score: 0.836\n",
      "--------------------\n",
      "RBF: slack(100) degree(2) mectrics:Accuracy score: 0.792\n",
      "AUC score: 0.844\n",
      "F1 score: 0.785\n",
      "--------------------\n",
      "RBF: slack(100) degree(3) mectrics:Accuracy score: 0.833\n",
      "AUC score: 0.887\n",
      "F1 score: 0.831\n",
      "--------------------\n",
      "RBF: slack(100) degree(4) mectrics:Accuracy score: 0.797\n",
      "AUC score: 0.865\n",
      "F1 score: 0.793\n",
      "--------------------\n",
      "RBF: slack(0.1) mectrics:Accuracy score: 0.851\n",
      "AUC score: 0.910\n",
      "F1 score: 0.850\n",
      "--------------------\n",
      "RBF: slack(1) mectrics:Accuracy score: 0.838\n",
      "AUC score: 0.898\n",
      "F1 score: 0.834\n",
      "--------------------\n",
      "RBF: slack(10) mectrics:Accuracy score: 0.836\n",
      "AUC score: 0.900\n",
      "F1 score: 0.830\n",
      "--------------------\n",
      "RBF: slack(50) mectrics:Accuracy score: 0.826\n",
      "AUC score: 0.899\n",
      "F1 score: 0.816\n",
      "--------------------\n",
      "RBF: slack(100) mectrics:Accuracy score: 0.836\n",
      "AUC score: 0.897\n",
      "F1 score: 0.832\n",
      "--------------------\n"
     ]
    }
   ],
   "source": [
    "gs = grid_search_svm(X[0:500,:],Y[0:500],X_,Y_[:], ab_metrics)\n",
    "result1 = gs.gaussian(gamma, slack)\n",
    "result2 = gs.polynomial(degree, slack)\n",
    "result3 = gs.linear(slack)"
   ]
  },
  {
   "cell_type": "markdown",
   "metadata": {},
   "source": [
    "## Multi Layer Perceptron"
   ]
  },
  {
   "cell_type": "code",
   "execution_count": 289,
   "metadata": {},
   "outputs": [],
   "source": [
    "from sklearn.decomposition import PCA\n",
    "X = np.vstack((train_images,val_images))\n",
    "Y = np.concatenate((train_labels,val_labels), axis = 0)\n",
    "\n",
    "pca = PCA(75)\n",
    "X = pca.fit_transform(X)\n",
    "X_ = pca.transform(test_images)\n",
    "\n",
    "from sklearn.preprocessing import StandardScaler\n",
    "sc = StandardScaler()\n",
    "X = sc.fit_transform(X)\n",
    "X_ = sc.transform(X_)\n",
    "Y_ = test_labels"
   ]
  },
  {
   "cell_type": "code",
   "execution_count": 290,
   "metadata": {},
   "outputs": [],
   "source": [
    "Y = one_hot_representer(Y)"
   ]
  },
  {
   "cell_type": "markdown",
   "metadata": {},
   "source": [
    "hidden layer is softmax"
   ]
  },
  {
   "cell_type": "code",
   "execution_count": 291,
   "metadata": {},
   "outputs": [
    {
     "name": "stdout",
     "output_type": "stream",
     "text": [
      "Accuracy score: 0.625\n",
      "AUC score: 0.556\n",
      "F1 score: 0.481\n"
     ]
    }
   ],
   "source": [
    "shfl = np.random.permutation(X.shape[0])\n",
    "X = X[shfl]\n",
    "Y = Y[shfl]\n",
    "\n",
    "model = MLP(X, Y, epochs = 10, learning_rate = 0.001 ,num_inputs = 75, \\\n",
    "                hidden_layers=[70,50,25,10,5], num_outputs=2, \\\n",
    "                hidden_activation = \"sigmoid\", \\\n",
    "                output_activation = \"softmax\", \\\n",
    "                loss_function = \"cross_entropy_loss\")\n",
    "y_ = model.predict(X_)\n",
    "a,b,c = ab_metrics(Y_,y_)"
   ]
  },
  {
   "cell_type": "code",
   "execution_count": 293,
   "metadata": {},
   "outputs": [
    {
     "name": "stdout",
     "output_type": "stream",
     "text": [
      "Accuracy score: 0.627\n",
      "AUC score: 0.448\n",
      "F1 score: 0.487\n"
     ]
    }
   ],
   "source": [
    "shfl = np.random.permutation(X.shape[0])\n",
    "X = X[shfl]\n",
    "Y = Y[shfl]\n",
    "\n",
    "model = MLP(X, Y, epochs = 10, learning_rate = 0.001 ,num_inputs = 75, \\\n",
    "                hidden_layers=[70,50,25,10,5], num_outputs=2, \\\n",
    "                hidden_activation = \"relu\", \\\n",
    "                output_activation = \"softmax\", \\\n",
    "                loss_function = \"cross_entropy_loss\")\n",
    "y_ = model.predict(X_)\n",
    "a,b,c = ab_metrics(Y_,y_)"
   ]
  },
  {
   "cell_type": "code",
   "execution_count": 294,
   "metadata": {},
   "outputs": [
    {
     "name": "stdout",
     "output_type": "stream",
     "text": [
      "Accuracy score: 0.625\n",
      "AUC score: 0.515\n",
      "F1 score: 0.481\n"
     ]
    }
   ],
   "source": [
    "shfl = np.random.permutation(X.shape[0])\n",
    "X = X[shfl]\n",
    "Y = Y[shfl]\n",
    "\n",
    "model = MLP(X, Y, epochs = 10, learning_rate = 0.001 ,num_inputs = 75, \\\n",
    "                hidden_layers=[70,50,25,10,5], num_outputs=2, \\\n",
    "                hidden_activation = \"softmax\", \\\n",
    "                output_activation = \"softmax\", \\\n",
    "                loss_function = \"cross_entropy_loss\")\n",
    "y_ = model.predict(X_)\n",
    "a,b,c = ab_metrics(Y_,y_)"
   ]
  },
  {
   "cell_type": "code",
   "execution_count": 295,
   "metadata": {},
   "outputs": [
    {
     "name": "stdout",
     "output_type": "stream",
     "text": [
      "Accuracy score: 0.375\n",
      "AUC score: 0.564\n",
      "F1 score: 0.205\n"
     ]
    }
   ],
   "source": [
    "shfl = np.random.permutation(X.shape[0])\n",
    "X = X[shfl]\n",
    "Y = Y[shfl]\n",
    "\n",
    "model = MLP(X, Y, epochs = 10, learning_rate = 0.001 ,num_inputs = 75, \\\n",
    "                hidden_layers=[70,50,25,10,5], num_outputs=2, \\\n",
    "                hidden_activation = \"sigmoid\", \\\n",
    "                output_activation = \"softmax\", \\\n",
    "                loss_function = \"squared_loss\")\n",
    "y_ = model.predict(X_)\n",
    "a,b,c = ab_metrics(Y_,y_)"
   ]
  },
  {
   "cell_type": "code",
   "execution_count": 296,
   "metadata": {},
   "outputs": [
    {
     "name": "stdout",
     "output_type": "stream",
     "text": [
      "Accuracy score: 0.580\n",
      "AUC score: 0.499\n",
      "F1 score: 0.486\n"
     ]
    }
   ],
   "source": [
    "shfl = np.random.permutation(X.shape[0])\n",
    "X = X[shfl]\n",
    "Y = Y[shfl]\n",
    "\n",
    "model = MLP(X, Y, epochs = 10, learning_rate = 0.001 ,num_inputs = 75, \\\n",
    "                hidden_layers=[70,50,25,10,5], num_outputs=2, \\\n",
    "                hidden_activation = \"relu\", \\\n",
    "                output_activation = \"softmax\", \\\n",
    "                loss_function = \"squared_loss\")\n",
    "y_ = model.predict(X_)\n",
    "a,b,c = ab_metrics(Y_,y_)"
   ]
  },
  {
   "cell_type": "code",
   "execution_count": 297,
   "metadata": {},
   "outputs": [
    {
     "name": "stdout",
     "output_type": "stream",
     "text": [
      "Accuracy score: 0.375\n",
      "AUC score: 0.373\n",
      "F1 score: 0.205\n"
     ]
    }
   ],
   "source": [
    "shfl = np.random.permutation(X.shape[0])\n",
    "X = X[shfl]\n",
    "Y = Y[shfl]\n",
    "\n",
    "model = MLP(X, Y, epochs = 10, learning_rate = 0.001 ,num_inputs = 75, \\\n",
    "                hidden_layers=[70,50,25,10,5], num_outputs=2, \\\n",
    "                hidden_activation = \"softmax\", \\\n",
    "                output_activation = \"softmax\", \\\n",
    "                loss_function = \"squared_loss\")\n",
    "y_ = model.predict(X_)\n",
    "a,b,c = ab_metrics(Y_,y_)"
   ]
  },
  {
   "cell_type": "code",
   "execution_count": null,
   "metadata": {},
   "outputs": [],
   "source": [
    "shfl = np.random.permutation(X.shape[0])\n",
    "X = X[shfl]\n",
    "Y = Y[shfl]\n",
    "\n",
    "model = MLP(X, Y, epochs = 10, learning_rate = 0.001 ,num_inputs = 75, \\\n",
    "                hidden_layers=[70,50,25,10,5], num_outputs=2, \\\n",
    "                hidden_activation = \"softmax\", \\\n",
    "                output_activation = \"relu\", \\\n",
    "                loss_function = \"squared_loss\")\n",
    "y_ = model.predict(X_)\n",
    "a,b,c = ab_metrics(Y_,y_)"
   ]
  },
  {
   "cell_type": "markdown",
   "metadata": {},
   "source": [
    "# Dataset Two"
   ]
  },
  {
   "cell_type": "markdown",
   "metadata": {},
   "source": [
    "Dataset loading and metric function    (  have used sklearn metrics to report honest results.  )"
   ]
  },
  {
   "cell_type": "code",
   "execution_count": 369,
   "metadata": {},
   "outputs": [
    {
     "name": "stdout",
     "output_type": "stream",
     "text": [
      "(11959, 28, 28, 3)\n",
      "(11959,)\n",
      "(1712, 28, 28, 3)\n",
      "(1712,)\n",
      "(3421, 28, 28, 3)\n",
      "(3421,)\n"
     ]
    }
   ],
   "source": [
    "test_images = np.load('../PRNN_data/data_set_2/test_images.npy')\n",
    "test_labels = np.load('../PRNN_data/data_set_2/test_labels.npy').flatten()\n",
    "train_images = np.load('../PRNN_data/data_set_2/train_images.npy')\n",
    "train_labels = np.load('../PRNN_data/data_set_2/train_labels.npy').flatten()\n",
    "val_images = np.load('../PRNN_data/data_set_2/val_images.npy')\n",
    "val_labels = np.load('../PRNN_data/data_set_2/val_labels.npy').flatten()\n",
    "\n",
    "l = [train_images,train_labels,\\\n",
    "    val_images,val_labels,\\\n",
    "    test_images,test_labels]\n",
    "for i in range(len(l)):\n",
    "    k = l[i]\n",
    "    print (k.shape)\n",
    "del(l)\n",
    "\n",
    "from sklearn.metrics import accuracy_score as acc\n",
    "from sklearn.metrics import roc_auc_score as auc\n",
    "from sklearn.metrics import f1_score as f1\n",
    "def ab_metrics(true_y, predicted_y,printing = True):\n",
    "    if predicted_y.ndim > 1:\n",
    "        temp = np.argmax(predicted_y, axis=1)\n",
    "        temp2 = one_hot_representer(true_y)\n",
    "        a1 = acc(true_y, temp,normalize=True)\n",
    "        a2 = auc(temp2, predicted_y, multi_class = 'ovr')\n",
    "        a3 = f1(true_y, temp,average = 'weighted')\n",
    "    else:\n",
    "        a1=acc(true_y, predicted_y,normalize=True)\n",
    "        a2=auc(true_y, predicted_y)\n",
    "        a3=f1(true_y, predicted_y)\n",
    "    if printing:\n",
    "        print(\"Accuracy score: {:.3f}\".format(a1))\n",
    "        print(\"AUC score: {:.3f}\".format(a2))\n",
    "        print(\"F1 score: {:.3f}\".format(a3))\n",
    "    return a1, a2, a3"
   ]
  },
  {
   "cell_type": "code",
   "execution_count": 370,
   "metadata": {},
   "outputs": [
    {
     "name": "stdout",
     "output_type": "stream",
     "text": [
      "(13671, 2352) (3421, 2352)\n"
     ]
    }
   ],
   "source": [
    "X = np.vstack((train_images,val_images))\n",
    "X = np.array(X).astype(float).reshape(-1,28*28*3)\n",
    "X_ = np.array(test_images).astype(float).reshape(-1,28*28*3)\n",
    "print(X.shape, X_.shape)"
   ]
  },
  {
   "cell_type": "code",
   "execution_count": 371,
   "metadata": {},
   "outputs": [],
   "source": [
    "from sklearn.decomposition import PCA\n",
    "Y = np.concatenate((train_labels,val_labels), axis = 0)\n",
    "test_images\n",
    "pca = PCA(175, whiten  = True)\n",
    "X = pca.fit_transform(X)\n",
    "X_ = pca.transform(X_)\n",
    "\n",
    "from sklearn.preprocessing import StandardScaler\n",
    "sc = StandardScaler()\n",
    "X = sc.fit_transform(X)\n",
    "X_ = sc.transform(X_)\n",
    "Y_ = test_labels"
   ]
  },
  {
   "cell_type": "markdown",
   "metadata": {},
   "source": [
    "## linear"
   ]
  },
  {
   "cell_type": "markdown",
   "metadata": {},
   "source": [
    "### L1"
   ]
  },
  {
   "cell_type": "code",
   "execution_count": 313,
   "metadata": {},
   "outputs": [
    {
     "name": "stdout",
     "output_type": "stream",
     "text": [
      "Accuracy score: 0.704\n",
      "AUC score: 0.931\n",
      "F1 score: 0.685\n",
      "Accuracy score: 0.701\n",
      "AUC score: 0.931\n",
      "F1 score: 0.680\n",
      "Accuracy score: 0.669\n",
      "AUC score: 0.923\n",
      "F1 score: 0.623\n",
      "Accuracy score: 0.436\n",
      "AUC score: 0.717\n",
      "F1 score: 0.344\n",
      "Accuracy score: 0.140\n",
      "AUC score: 0.514\n",
      "F1 score: 0.141\n",
      "Accuracy score: 0.148\n",
      "AUC score: 0.540\n",
      "F1 score: 0.151\n"
     ]
    },
    {
     "data": {
      "image/png": "[encoded data removed]",
      "text/plain": [
       "<Figure size 576x288 with 1 Axes>"
      ]
     },
     "metadata": {
      "needs_background": "light"
     },
     "output_type": "display_data"
    }
   ],
   "source": [
    "accuracy = []\n",
    "aread_under_curve = []\n",
    "f1_score = []\n",
    "x = (0, 0.001,0.01,0.1,1,10)\n",
    "for L1 in x:\n",
    "    model = multi_class_linear_classifier( X,Y, (L1,0),learning_rate = 0.001, epochs = 50)\n",
    "    y_ = model.predict(X_)\n",
    "    a,b,c = ab_metrics(Y_,y_)\n",
    "    accuracy.append(a)\n",
    "    aread_under_curve.append(b)\n",
    "    f1_score.append(c)\n",
    "\n",
    "# print(accuracy, \"\\n\",aread_under_curve,\"\\n\" ,f1_score)\n",
    "\n",
    "plot_graph(\"L1\", x,accuracy, aread_under_curve, f1_score)"
   ]
  },
  {
   "cell_type": "markdown",
   "metadata": {},
   "source": [
    "### L2"
   ]
  },
  {
   "cell_type": "code",
   "execution_count": 314,
   "metadata": {},
   "outputs": [
    {
     "name": "stdout",
     "output_type": "stream",
     "text": [
      "Accuracy score: 0.705\n",
      "AUC score: 0.931\n",
      "F1 score: 0.686\n",
      "Accuracy score: 0.705\n",
      "AUC score: 0.931\n",
      "F1 score: 0.686\n",
      "Accuracy score: 0.705\n",
      "AUC score: 0.930\n",
      "F1 score: 0.686\n",
      "Accuracy score: 0.704\n",
      "AUC score: 0.930\n",
      "F1 score: 0.685\n",
      "Accuracy score: 0.705\n",
      "AUC score: 0.928\n",
      "F1 score: 0.686\n",
      "Accuracy score: 0.687\n",
      "AUC score: 0.921\n",
      "F1 score: 0.666\n"
     ]
    },
    {
     "data": {
      "image/png": "[encoded data removed]",
      "text/plain": [
       "<Figure size 576x288 with 1 Axes>"
      ]
     },
     "metadata": {
      "needs_background": "light"
     },
     "output_type": "display_data"
    }
   ],
   "source": [
    "accuracy = []\n",
    "aread_under_curve = []\n",
    "f1_score = []\n",
    "x = (0, 0.001,0.01,0.1,1,10)\n",
    "for L2 in x:\n",
    "    model = multi_class_linear_classifier( X,Y, (0,L2),learning_rate = 0.001, epochs = 50)\n",
    "    y_ = model.predict(X_)\n",
    "    a,b,c = ab_metrics(Y_,y_)\n",
    "    accuracy.append(a)\n",
    "    aread_under_curve.append(b)\n",
    "    f1_score.append(c)\n",
    "\n",
    "# print(accuracy, \"\\n\",aread_under_curve,\"\\n\" ,f1_score)\n",
    "\n",
    "plot_graph(\"L2\", x,accuracy, aread_under_curve, f1_score)"
   ]
  },
  {
   "cell_type": "markdown",
   "metadata": {},
   "source": [
    "### Elastic Net"
   ]
  },
  {
   "cell_type": "code",
   "execution_count": 374,
   "metadata": {},
   "outputs": [
    {
     "name": "stdout",
     "output_type": "stream",
     "text": [
      "Accuracy score: 0.705\n",
      "AUC score: 0.931\n",
      "F1 score: 0.686\n",
      "Accuracy score: 0.706\n",
      "AUC score: 0.931\n",
      "F1 score: 0.687\n",
      "Accuracy score: 0.704\n",
      "AUC score: 0.931\n",
      "F1 score: 0.685\n",
      "Accuracy score: 0.706\n",
      "AUC score: 0.931\n",
      "F1 score: 0.687\n",
      "Accuracy score: 0.704\n",
      "AUC score: 0.929\n",
      "F1 score: 0.685\n",
      "Accuracy score: 0.692\n",
      "AUC score: 0.920\n",
      "F1 score: 0.674\n",
      "Accuracy score: 0.703\n",
      "AUC score: 0.931\n",
      "F1 score: 0.682\n",
      "Accuracy score: 0.704\n",
      "AUC score: 0.932\n",
      "F1 score: 0.684\n",
      "Accuracy score: 0.704\n",
      "AUC score: 0.932\n",
      "F1 score: 0.684\n",
      "Accuracy score: 0.703\n",
      "AUC score: 0.931\n",
      "F1 score: 0.681\n",
      "Accuracy score: 0.703\n",
      "AUC score: 0.931\n",
      "F1 score: 0.682\n",
      "Accuracy score: 0.702\n",
      "AUC score: 0.931\n",
      "F1 score: 0.681\n",
      "Accuracy score: 0.667\n",
      "AUC score: 0.923\n",
      "F1 score: 0.620\n",
      "Accuracy score: 0.667\n",
      "AUC score: 0.923\n",
      "F1 score: 0.620\n",
      "Accuracy score: 0.668\n",
      "AUC score: 0.923\n",
      "F1 score: 0.621\n",
      "Accuracy score: 0.666\n",
      "AUC score: 0.923\n",
      "F1 score: 0.620\n",
      "Accuracy score: 0.666\n",
      "AUC score: 0.923\n",
      "F1 score: 0.619\n",
      "Accuracy score: 0.667\n",
      "AUC score: 0.923\n",
      "F1 score: 0.620\n",
      "Accuracy score: 0.436\n",
      "AUC score: 0.713\n",
      "F1 score: 0.344\n",
      "Accuracy score: 0.436\n",
      "AUC score: 0.717\n",
      "F1 score: 0.344\n",
      "Accuracy score: 0.441\n",
      "AUC score: 0.723\n",
      "F1 score: 0.348\n",
      "Accuracy score: 0.431\n",
      "AUC score: 0.718\n",
      "F1 score: 0.340\n",
      "Accuracy score: 0.436\n",
      "AUC score: 0.714\n",
      "F1 score: 0.344\n",
      "Accuracy score: 0.434\n",
      "AUC score: 0.717\n",
      "F1 score: 0.342\n",
      "Accuracy score: 0.159\n",
      "AUC score: 0.538\n",
      "F1 score: 0.164\n",
      "Accuracy score: 0.141\n",
      "AUC score: 0.505\n",
      "F1 score: 0.144\n",
      "Accuracy score: 0.095\n",
      "AUC score: 0.464\n",
      "F1 score: 0.099\n",
      "Accuracy score: 0.139\n",
      "AUC score: 0.509\n",
      "F1 score: 0.145\n",
      "Accuracy score: 0.133\n",
      "AUC score: 0.525\n",
      "F1 score: 0.138\n",
      "Accuracy score: 0.133\n",
      "AUC score: 0.506\n",
      "F1 score: 0.140\n",
      "Accuracy score: 0.154\n",
      "AUC score: 0.551\n",
      "F1 score: 0.156\n",
      "Accuracy score: 0.154\n",
      "AUC score: 0.538\n",
      "F1 score: 0.155\n",
      "Accuracy score: 0.134\n",
      "AUC score: 0.527\n",
      "F1 score: 0.136\n",
      "Accuracy score: 0.143\n",
      "AUC score: 0.532\n",
      "F1 score: 0.145\n",
      "Accuracy score: 0.136\n",
      "AUC score: 0.532\n",
      "F1 score: 0.138\n",
      "Accuracy score: 0.172\n",
      "AUC score: 0.554\n",
      "F1 score: 0.176\n"
     ]
    }
   ],
   "source": [
    "accuracy = []\n",
    "aread_under_curve = []\n",
    "f1_score = []\n",
    "x = (0, 0.001,0.01,0.1,1,10)\n",
    "for L1 in x:\n",
    "    for L2 in x:\n",
    "        model = multi_class_linear_classifier( X,Y, (L1,L2),learning_rate = 0.001, epochs = 50)\n",
    "        y_ = model.predict(X_)\n",
    "        a,b,c = ab_metrics(Y_,y_)\n",
    "        accuracy.append(a)\n",
    "        aread_under_curve.append(b)\n",
    "        f1_score.append(c)\n"
   ]
  },
  {
   "cell_type": "markdown",
   "metadata": {},
   "source": [
    "## Logistic"
   ]
  },
  {
   "cell_type": "markdown",
   "metadata": {},
   "source": [
    "### L1"
   ]
  },
  {
   "cell_type": "code",
   "execution_count": 270,
   "metadata": {},
   "outputs": [
    {
     "name": "stdout",
     "output_type": "stream",
     "text": [
      "Accuracy score: 0.783\n",
      "AUC score: 0.954\n",
      "F1 score: 0.782\n",
      "Accuracy score: 0.784\n",
      "AUC score: 0.955\n",
      "F1 score: 0.782\n",
      "Accuracy score: 0.782\n",
      "AUC score: 0.955\n",
      "F1 score: 0.780\n",
      "Accuracy score: 0.765\n",
      "AUC score: 0.951\n",
      "F1 score: 0.761\n",
      "Accuracy score: 0.620\n",
      "AUC score: 0.901\n",
      "F1 score: 0.562\n",
      "Accuracy score: 0.200\n",
      "AUC score: 0.498\n",
      "F1 score: 0.137\n"
     ]
    },
    {
     "data": {
      "image/png": "[encoded data removed]",
      "text/plain": [
       "<Figure size 576x288 with 1 Axes>"
      ]
     },
     "metadata": {
      "needs_background": "light"
     },
     "output_type": "display_data"
    }
   ],
   "source": [
    "accuracy = []\n",
    "aread_under_curve = []\n",
    "f1_score = []\n",
    "x = (0, 0.001,0.01,0.1,1,10)\n",
    "for L1 in x:\n",
    "    model = multi_class_logistic_classifier( X,Y, (L1,0),learning_rate = 0.001, epochs = 50)\n",
    "    y_ = model.predict(X_)\n",
    "    a,b,c = ab_metrics(Y_,y_)\n",
    "    accuracy.append(a)\n",
    "    aread_under_curve.append(b)\n",
    "    f1_score.append(c)\n",
    "\n",
    "# print(accuracy, \"\\n\",aread_under_curve,\"\\n\" ,f1_score)\n",
    "\n",
    "plot_graph(\"L1\", x,accuracy, aread_under_curve, f1_score)"
   ]
  },
  {
   "cell_type": "markdown",
   "metadata": {},
   "source": [
    "### L2"
   ]
  },
  {
   "cell_type": "code",
   "execution_count": 271,
   "metadata": {},
   "outputs": [
    {
     "name": "stdout",
     "output_type": "stream",
     "text": [
      "Accuracy score: 0.783\n",
      "AUC score: 0.954\n",
      "F1 score: 0.782\n",
      "Accuracy score: 0.783\n",
      "AUC score: 0.954\n",
      "F1 score: 0.782\n",
      "Accuracy score: 0.781\n",
      "AUC score: 0.954\n",
      "F1 score: 0.779\n",
      "Accuracy score: 0.761\n",
      "AUC score: 0.951\n",
      "F1 score: 0.756\n",
      "Accuracy score: 0.722\n",
      "AUC score: 0.939\n",
      "F1 score: 0.710\n",
      "Accuracy score: 0.684\n",
      "AUC score: 0.914\n",
      "F1 score: 0.668\n"
     ]
    },
    {
     "data": {
      "image/png": "[encoded data removed]",
      "text/plain": [
       "<Figure size 576x288 with 1 Axes>"
      ]
     },
     "metadata": {
      "needs_background": "light"
     },
     "output_type": "display_data"
    }
   ],
   "source": [
    "accuracy = []\n",
    "aread_under_curve = []\n",
    "f1_score = []\n",
    "x = (0, 0.001,0.01,0.1,1,10)\n",
    "for L2 in x:\n",
    "    model = multi_class_logistic_classifier( X,Y, (0,L2),learning_rate = 0.001, epochs = 50)\n",
    "    y_ = model.predict(X_)\n",
    "    a,b,c = ab_metrics(Y_,y_)\n",
    "    accuracy.append(a)\n",
    "    aread_under_curve.append(b)\n",
    "    f1_score.append(c)\n",
    "\n",
    "# print(accuracy, \"\\n\",aread_under_curve,\"\\n\" ,f1_score)\n",
    "\n",
    "plot_graph(\"L2\", x,accuracy, aread_under_curve, f1_score)"
   ]
  },
  {
   "cell_type": "markdown",
   "metadata": {},
   "source": [
    "### Elastic"
   ]
  },
  {
   "cell_type": "code",
   "execution_count": 278,
   "metadata": {},
   "outputs": [
    {
     "name": "stdout",
     "output_type": "stream",
     "text": [
      "------L1:0.01 , L2:0.01-----\n",
      "Accuracy score: 0.680\n",
      "AUC score: 0.882\n",
      "F1 score: 0.675\n",
      "------L1:0.01 , L2:0.1-----\n",
      "Accuracy score: 0.686\n",
      "AUC score: 0.885\n",
      "F1 score: 0.684\n",
      "------L1:0.01 , L2:1-----\n",
      "Accuracy score: 0.674\n",
      "AUC score: 0.884\n",
      "F1 score: 0.671\n",
      "------L1:0.01 , L2:5-----\n",
      "Accuracy score: 0.673\n",
      "AUC score: 0.881\n",
      "F1 score: 0.668\n",
      "------L1:0.1 , L2:0.01-----\n",
      "Accuracy score: 0.622\n",
      "AUC score: 0.864\n",
      "F1 score: 0.615\n",
      "------L1:0.1 , L2:0.1-----\n",
      "Accuracy score: 0.617\n",
      "AUC score: 0.856\n",
      "F1 score: 0.614\n",
      "------L1:0.1 , L2:1-----\n",
      "Accuracy score: 0.614\n",
      "AUC score: 0.862\n",
      "F1 score: 0.610\n",
      "------L1:0.1 , L2:5-----\n",
      "Accuracy score: 0.591\n",
      "AUC score: 0.852\n",
      "F1 score: 0.582\n",
      "------L1:1 , L2:0.01-----\n",
      "Accuracy score: 0.432\n",
      "AUC score: 0.751\n",
      "F1 score: 0.415\n",
      "------L1:1 , L2:0.1-----\n",
      "Accuracy score: 0.438\n",
      "AUC score: 0.731\n",
      "F1 score: 0.398\n",
      "------L1:1 , L2:1-----\n",
      "Accuracy score: 0.447\n",
      "AUC score: 0.770\n",
      "F1 score: 0.430\n",
      "------L1:1 , L2:5-----\n",
      "Accuracy score: 0.414\n",
      "AUC score: 0.751\n",
      "F1 score: 0.406\n",
      "------L1:5 , L2:0.01-----\n",
      "Accuracy score: 0.180\n",
      "AUC score: 0.546\n",
      "F1 score: 0.181\n",
      "------L1:5 , L2:0.1-----\n",
      "Accuracy score: 0.175\n",
      "AUC score: 0.547\n",
      "F1 score: 0.176\n",
      "------L1:5 , L2:1-----\n",
      "Accuracy score: 0.186\n",
      "AUC score: 0.538\n",
      "F1 score: 0.187\n",
      "------L1:5 , L2:5-----\n",
      "Accuracy score: 0.225\n",
      "AUC score: 0.580\n",
      "F1 score: 0.218\n"
     ]
    }
   ],
   "source": [
    "accuracy = []\n",
    "aread_under_curve = []\n",
    "f1_score = []\n",
    "x = []\n",
    "for L1 in [0.01,0.1,1,5]:\n",
    "    for L2 in [0.01,0.1,1,5]:\n",
    "        print(\"------L1:{} , L2:{}-----\".format(L1,L2))\n",
    "        model = multi_class_logistic_classifier( X,Y, (L1,L2),learning_rate = 0.1, epochs = 10)\n",
    "        y_ = model.predict(X_)\n",
    "        a,b,c = ab_metrics(Y_,y_)\n",
    "        accuracy.append(a)\n",
    "        aread_under_curve.append(b)\n",
    "        f1_score.append(c)\n",
    "\n",
    "# print(accuracy, \"\\n\",aread_under_curve,\"\\n\" ,f1_score)\n"
   ]
  },
  {
   "cell_type": "markdown",
   "metadata": {},
   "source": [
    "## KNN "
   ]
  },
  {
   "cell_type": "code",
   "execution_count": 273,
   "metadata": {},
   "outputs": [
    {
     "name": "stdout",
     "output_type": "stream",
     "text": [
      "Accuracy score: 0.377\n",
      "AUC score: 0.648\n",
      "F1 score: 0.348\n",
      "Accuracy score: 0.353\n",
      "AUC score: 0.729\n",
      "F1 score: 0.306\n",
      "Accuracy score: 0.328\n",
      "AUC score: 0.777\n",
      "F1 score: 0.286\n",
      "Accuracy score: 0.298\n",
      "AUC score: 0.807\n",
      "F1 score: 0.253\n",
      "Accuracy score: 0.269\n",
      "AUC score: 0.825\n",
      "F1 score: 0.217\n",
      "Accuracy score: 0.251\n",
      "AUC score: 0.840\n",
      "F1 score: 0.197\n"
     ]
    },
    {
     "data": {
      "image/png": "[encoded data removed]",
      "text/plain": [
       "<Figure size 576x288 with 1 Axes>"
      ]
     },
     "metadata": {
      "needs_background": "light"
     },
     "output_type": "display_data"
    }
   ],
   "source": [
    "accuracy = []\n",
    "aread_under_curve = []\n",
    "f1_score = []\n",
    "x = (1,3,6,10,15,20)\n",
    "for k in x:\n",
    "    model = KNN( X,Y, k)\n",
    "    y_ = model.predict(X_)\n",
    "    a,b,c = ab_metrics(Y_,y_)\n",
    "    accuracy.append(a)\n",
    "    aread_under_curve.append(b)\n",
    "    f1_score.append(c)\n",
    "\n",
    "plot_graph(\"Knn K\", x,accuracy, aread_under_curve, f1_score)"
   ]
  },
  {
   "cell_type": "markdown",
   "metadata": {},
   "source": [
    "## Fisher LdM"
   ]
  },
  {
   "cell_type": "code",
   "execution_count": 274,
   "metadata": {},
   "outputs": [
    {
     "name": "stdout",
     "output_type": "stream",
     "text": [
      "Accuracy score: 0.574\n",
      "AUC score: 0.851\n",
      "F1 score: 0.620\n"
     ]
    },
    {
     "data": {
      "text/plain": [
       "(0.5735165156387021, 0.8507143146060914, 0.6200806298051609)"
      ]
     },
     "execution_count": 274,
     "metadata": {},
     "output_type": "execute_result"
    }
   ],
   "source": [
    "model = multi_fisher_LDM( X,Y)\n",
    "probabilities = model.predict(X_)\n",
    "ab_metrics(Y_,probabilities, printing = True)"
   ]
  },
  {
   "cell_type": "markdown",
   "metadata": {},
   "source": [
    "## Parzen Window"
   ]
  },
  {
   "cell_type": "code",
   "execution_count": 277,
   "metadata": {},
   "outputs": [
    {
     "name": "stdout",
     "output_type": "stream",
     "text": [
      "Accuracy score: 0.195\n",
      "AUC score: 0.500\n",
      "F1 score: 0.063\n",
      "Accuracy score: 0.195\n",
      "AUC score: 0.500\n",
      "F1 score: 0.063\n",
      "Accuracy score: 0.195\n",
      "AUC score: 0.500\n",
      "F1 score: 0.063\n",
      "Accuracy score: 0.195\n",
      "AUC score: 0.500\n",
      "F1 score: 0.063\n"
     ]
    },
    {
     "data": {
      "image/png": "[encoded data removed]",
      "text/plain": [
       "<Figure size 576x288 with 1 Axes>"
      ]
     },
     "metadata": {
      "needs_background": "light"
     },
     "output_type": "display_data"
    }
   ],
   "source": [
    "accuracy = []\n",
    "aread_under_curve = []\n",
    "f1_score = []\n",
    "x = (1e2,1e3,1e4,1e5)\n",
    "\n",
    "for L in x:\n",
    "    model = Bayes_classifier_Parzen( X,Y, L)\n",
    "    y_ = model.predict(X_)\n",
    "    a,b,c = ab_metrics(Y_,y_)\n",
    "    accuracy.append(a)\n",
    "    aread_under_curve.append(b)\n",
    "    f1_score.append(c)\n",
    "\n",
    "plot_graph(\"Parzen Window size\", x,accuracy, aread_under_curve, f1_score)"
   ]
  },
  {
   "cell_type": "markdown",
   "metadata": {},
   "source": [
    "## Byes with MLE Gauassian"
   ]
  },
  {
   "cell_type": "code",
   "execution_count": null,
   "metadata": {},
   "outputs": [
    {
     "name": "stdout",
     "output_type": "stream",
     "text": [
      "Accuracy score: 0.672\n",
      "AUC score: 0.500\n",
      "F1 score: 0.541\n"
     ]
    },
    {
     "data": {
      "text/plain": [
       "(0.6723963599595552, 0.4996243425995492, 0.5410880018779732)"
      ]
     },
     "execution_count": 36,
     "metadata": {},
     "output_type": "execute_result"
    }
   ],
   "source": [
    "model = Bayes_classifier_ML( X,Y)\n",
    "probabilities = model.predict(X_)\n",
    "ab_metrics(Y_,probabilities, printing = True)"
   ]
  },
  {
   "cell_type": "markdown",
   "metadata": {},
   "source": [
    "## SVM model"
   ]
  },
  {
   "cell_type": "code",
   "execution_count": null,
   "metadata": {},
   "outputs": [],
   "source": [
    "from sklearn.decomposition import PCA\n",
    "X = np.vstack((train_images,val_images))\n",
    "Y = np.concatenate((train_labels,val_labels), axis = 0)\n",
    "\n",
    "pca = PCA(50, whiten = True)\n",
    "X = pca.fit_transform(X)\n",
    "X_ = pca.transform(test_images)\n",
    "\n",
    "from sklearn.preprocessing import StandardScaler\n",
    "sc = StandardScaler()\n",
    "X = sc.fit_transform(X)\n",
    "X_ = sc.transform(X_)\n",
    "Y_ = test_labels"
   ]
  },
  {
   "cell_type": "code",
   "execution_count": null,
   "metadata": {},
   "outputs": [
    {
     "name": "stdout",
     "output_type": "stream",
     "text": [
      "my #support vector:  106\n",
      "my #support vector:  219\n",
      "my #support vector:  110\n",
      "my #support vector:  185\n",
      "my #support vector:  100\n",
      "my #support vector:  130\n",
      "my #support vector:  150\n",
      "my #support vector:  64\n",
      "Accuracy score: 0.381\n",
      "AUC score: 0.747\n",
      "F1 score: 0.332\n"
     ]
    },
    {
     "data": {
      "text/plain": [
       "(0.38146740719087985, 0.7466469910706433, 0.3323533587747764)"
      ]
     },
     "execution_count": 77,
     "metadata": {},
     "output_type": "execute_result"
    }
   ],
   "source": [
    "model = multi_class_svm( X[:500],Y[:500], slack = 0.5, kernal= \"linear\" )\n",
    "y_ = model.predict(X_)\n",
    "ab_metrics(Y_,y_, printing = True)"
   ]
  },
  {
   "cell_type": "code",
   "execution_count": 368,
   "metadata": {},
   "outputs": [
    {
     "name": "stdout",
     "output_type": "stream",
     "text": [
      "my #support vector:  445\n",
      "my #support vector:  464\n",
      "my #support vector:  446\n",
      "my #support vector:  483\n",
      "my #support vector:  420\n",
      "my #support vector:  447\n",
      "my #support vector:  432\n",
      "my #support vector:  126\n",
      "Accuracy score: 0.096\n",
      "AUC score: 0.523\n",
      "F1 score: 0.051\n"
     ]
    },
    {
     "data": {
      "text/plain": [
       "(0.09558608593978368, 0.5229952243143695, 0.050814648281820314)"
      ]
     },
     "execution_count": 368,
     "metadata": {},
     "output_type": "execute_result"
    }
   ],
   "source": [
    "model = multi_class_svm( X[:500],Y[:500], slack = 0.5, kernal= \"gaussian\" , gamma = 0.01)\n",
    "y_ = model.predict(X_)\n",
    "ab_metrics(Y_,y_, printing = True)"
   ]
  },
  {
   "cell_type": "code",
   "execution_count": null,
   "metadata": {},
   "outputs": [],
   "source": [
    "model = multi_class_svm( X[:500],Y[:500], slack = 0.5, kernal= \"poly_kernal\" , gamma = 1, degree = 4)\n",
    "y_ = model.predict(X_)\n",
    "ab_metrics(Y_,y_, printing = True)"
   ]
  },
  {
   "cell_type": "markdown",
   "metadata": {},
   "source": [
    "MUlti Layer Perceptron"
   ]
  },
  {
   "cell_type": "code",
   "execution_count": null,
   "metadata": {},
   "outputs": [],
   "source": [
    "# Y = one_hot_representer(Y)\n",
    "# shfl = np.random.permutation(X.shape[0])\n",
    "# X = X[shfl]\n",
    "# Y = Y[shfl]\n",
    "\n",
    "# model = MLP(X, Y, epochs = 10, learning_rate = 0.001 ,num_inputs = 200, \\\n",
    "#                 hidden_layers=[150, 100, 50, 25, 10], num_outputs=8, \\\n",
    "#                 hidden_activation = \"softmax\", \\\n",
    "#                 output_activation = \"softmax\", \\\n",
    "#                 loss_function = \"cross_entropy_loss\")\n",
    "# y_ = model.predict(X_)\n",
    "a,b,c = ab_metrics(Y_,y_)\n",
    "d_metric(Y_,y_)"
   ]
  },
  {
   "cell_type": "code",
   "execution_count": 148,
   "metadata": {},
   "outputs": [
    {
     "data": {
      "text/plain": [
       "(3421,)"
      ]
     },
     "execution_count": 148,
     "metadata": {},
     "output_type": "execute_result"
    }
   ],
   "source": [
    "y_.shape"
   ]
  },
  {
   "cell_type": "markdown",
   "metadata": {},
   "source": [
    "# Dataset Three\n",
    "### Running all models on it"
   ]
  },
  {
   "cell_type": "markdown",
   "metadata": {},
   "source": [
    "Dataset loading and metric function    (  have used sklearn metrics to report honest results.  )"
   ]
  },
  {
   "cell_type": "code",
   "execution_count": 315,
   "metadata": {},
   "outputs": [],
   "source": [
    "test_images = np.load('../PRNN_data/data_set_3/test_images.npy')\n",
    "test_labels = np.load('../PRNN_data/data_set_3/test_labels.npy')\n",
    "train_images = np.load('../PRNN_data/data_set_3/train_images.npy')\n",
    "train_labels = np.load('../PRNN_data/data_set_3/train_labels.npy')\n",
    "val_images = np.load('../PRNN_data/data_set_3/val_images.npy')\n",
    "val_labels = np.load('../PRNN_data/data_set_3/val_labels.npy')\n",
    "\n",
    "train_images = train_images.reshape(train_images.shape[0], -1)\n",
    "val_images = val_images.reshape(val_images.shape[0], -1)\n",
    "test_images = test_images.reshape(test_images.shape[0], -1)\n",
    "\n",
    "train_images = np.vstack((train_images, val_images)).astype(float)\n",
    "train_labels = np.vstack((train_labels, val_labels)).astype(float)\n",
    "\n",
    "from sklearn.metrics import mean_squared_error as mse\n",
    "from sklearn.metrics import mean_absolute_error as mae\n",
    "def c_metric(true_y, predicted_y, printing = True):\n",
    "    a = mse(true_y, predicted_y)\n",
    "    b = mae(true_y, predicted_y)\n",
    "    if printing:\n",
    "        print(\"MSE score: \", a)\n",
    "        print(\"MAE score: \", b)\n",
    "    return a, b"
   ]
  },
  {
   "cell_type": "code",
   "execution_count": 316,
   "metadata": {},
   "outputs": [
    {
     "data": {
      "text/plain": [
       "(701, 90000)"
      ]
     },
     "execution_count": 316,
     "metadata": {},
     "output_type": "execute_result"
    }
   ],
   "source": [
    "train_images.shape"
   ]
  },
  {
   "cell_type": "code",
   "execution_count": 317,
   "metadata": {},
   "outputs": [],
   "source": [
    "from sklearn.decomposition import PCA\n",
    "from sklearn.preprocessing import StandardScaler\n",
    "sc = StandardScaler()\n",
    "pca = PCA(100, whiten = True)\n",
    "train_images = pca.fit_transform(train_images)\n",
    "train_images = sc.fit_transform(train_images)\n",
    "\n",
    "\n",
    "test_images = pca.transform(test_images)\n",
    "test_images = sc.transform(test_images)"
   ]
  },
  {
   "cell_type": "markdown",
   "metadata": {},
   "source": [
    "L1"
   ]
  },
  {
   "cell_type": "code",
   "execution_count": 193,
   "metadata": {},
   "outputs": [
    {
     "name": "stdout",
     "output_type": "stream",
     "text": [
      "MSE score:  2128.3261115538266\n",
      "MAE score:  34.36016840381236\n",
      "MSE score:  2128.9660619131287\n",
      "MAE score:  34.40862932883756\n",
      "MSE score:  2129.2600968642437\n",
      "MAE score:  34.39055398892565\n",
      "MSE score:  2123.519267909819\n",
      "MAE score:  34.3977747176274\n",
      "MSE score:  2071.507290606167\n",
      "MAE score:  34.128627993915174\n",
      "MSE score:  2222.3080484729335\n",
      "MAE score:  35.592997100271546\n"
     ]
    },
    {
     "data": {
      "image/png": "[encoded data removed]",
      "text/plain": [
       "<Figure size 432x288 with 1 Axes>"
      ]
     },
     "metadata": {
      "needs_background": "light"
     },
     "output_type": "display_data"
    },
    {
     "data": {
      "image/png": "[encoded data removed]",
      "text/plain": [
       "<Figure size 432x288 with 1 Axes>"
      ]
     },
     "metadata": {
      "needs_background": "light"
     },
     "output_type": "display_data"
    }
   ],
   "source": [
    "MSE = []\n",
    "MAE = []\n",
    "x = x = (0, 0.001,0.01,0.1,1,10)\n",
    "for L1 in x:\n",
    "    model = vector_valued_linear_regression(train_images,train_labels,regulariser_value=(L1,0),learning_rate = 0.01, epochs = 50)\n",
    "    y_ = model.predict(test_images)\n",
    "    a,b = c_metric(test_labels,y_)\n",
    "    MSE.append(a)\n",
    "    MAE.append(b)\n",
    "\n",
    "x_axis = np.arange(len(x))\n",
    "width = 0.5\n",
    "plt.bar(x_axis, MSE, width, color='blue')\n",
    "plt.xlabel(\"l1\")\n",
    "plt.ylabel(\"Scores\")\n",
    "plt.xticks(x_axis, x)\n",
    "plt.legend([\"MSE\"])\n",
    "plt.show()\n",
    "\n",
    "plt.bar(x_axis, MAE, width, color='blue')\n",
    "plt.xlabel(\"l1\")\n",
    "plt.legend([\"MAE\"])\n",
    "plt.ylabel(\"Scores\")\n",
    "plt.xticks(x_axis, x)\n",
    "plt.legend([\"MAE\"])\n",
    "plt.show()"
   ]
  },
  {
   "cell_type": "markdown",
   "metadata": {},
   "source": [
    "L2"
   ]
  },
  {
   "cell_type": "code",
   "execution_count": 194,
   "metadata": {},
   "outputs": [
    {
     "name": "stdout",
     "output_type": "stream",
     "text": [
      "MSE score:  2133.35466648249\n",
      "MAE score:  34.439802717415475\n",
      "MSE score:  2136.507933516296\n",
      "MAE score:  34.42692966873611\n",
      "MSE score:  2136.4664142028864\n",
      "MAE score:  34.40929244732956\n",
      "MSE score:  2311.062270987643\n",
      "MAE score:  35.593227417889985\n",
      "MSE score:  6795.026467854195\n",
      "MAE score:  70.47179063983835\n",
      "MSE score:  18474.274492887682\n",
      "MAE score:  125.84386077658164\n"
     ]
    },
    {
     "data": {
      "image/png": "[encoded data removed]",
      "text/plain": [
       "<Figure size 432x288 with 1 Axes>"
      ]
     },
     "metadata": {
      "needs_background": "light"
     },
     "output_type": "display_data"
    },
    {
     "data": {
      "image/png": "[encoded data removed]",
      "text/plain": [
       "<Figure size 432x288 with 1 Axes>"
      ]
     },
     "metadata": {
      "needs_background": "light"
     },
     "output_type": "display_data"
    }
   ],
   "source": [
    "MSE = []\n",
    "MAE = []\n",
    "x = x = (0, 0.001,0.01,0.1,1,10)\n",
    "for L2 in x:\n",
    "    model = vector_valued_linear_regression(train_images,train_labels,regulariser_value=(0,L2),learning_rate = 0.01, epochs = 50)\n",
    "    y_ = model.predict(test_images)\n",
    "    a,b = c_metric(test_labels,y_)\n",
    "    MSE.append(a)\n",
    "    MAE.append(b)\n",
    "\n",
    "x_axis = np.arange(len(x))\n",
    "width = 0.5\n",
    "plt.bar(x_axis, MSE, width, color='blue')\n",
    "plt.xlabel(\"l1\")\n",
    "plt.ylabel(\"Scores\")\n",
    "plt.xticks(x_axis, x)\n",
    "plt.legend([\"MSE\"])\n",
    "plt.show()\n",
    "\n",
    "plt.bar(x_axis, MAE, width, color='blue')\n",
    "plt.xlabel(\"l1\")\n",
    "plt.legend([\"MAE\"])\n",
    "plt.ylabel(\"Scores\")\n",
    "plt.xticks(x_axis, x)\n",
    "plt.legend([\"MAE\"])\n",
    "plt.show()"
   ]
  },
  {
   "cell_type": "markdown",
   "metadata": {},
   "source": [
    "### Elastic"
   ]
  },
  {
   "cell_type": "code",
   "execution_count": 318,
   "metadata": {},
   "outputs": [
    {
     "name": "stdout",
     "output_type": "stream",
     "text": [
      "MSE score:  2089.698354042558\n",
      "MAE score:  34.19018552413852\n",
      "MSE score:  2100.022772864449\n",
      "MAE score:  34.21115317518419\n",
      "MSE score:  2267.6419298489923\n",
      "MAE score:  35.51280749794127\n",
      "MSE score:  6789.200318394742\n",
      "MAE score:  70.51120027392011\n",
      "MSE score:  18475.387942480666\n",
      "MAE score:  125.83424764917382\n",
      "MSE score:  2094.3474575018886\n",
      "MAE score:  34.204926050985435\n",
      "MSE score:  2091.9483822865827\n",
      "MAE score:  34.21493580273596\n",
      "MSE score:  2085.558694131598\n",
      "MAE score:  34.22179012199802\n",
      "MSE score:  2091.206927558409\n",
      "MAE score:  34.225740010547874\n",
      "MSE score:  2085.657111600978\n",
      "MAE score:  34.179797097799764\n",
      "MSE score:  2085.9306486636324\n",
      "MAE score:  34.17335899153699\n",
      "MSE score:  2081.154236446153\n",
      "MAE score:  34.157299891312576\n",
      "MSE score:  2083.020276731093\n",
      "MAE score:  34.160301645014044\n",
      "MSE score:  2081.875936610291\n",
      "MAE score:  34.15589303107106\n",
      "MSE score:  2084.6637891217197\n",
      "MAE score:  34.16197310211974\n",
      "MSE score:  2045.8014537671484\n",
      "MAE score:  33.927396054127136\n",
      "MSE score:  2054.339717744825\n",
      "MAE score:  34.020184921205086\n",
      "MSE score:  2055.3983489420116\n",
      "MAE score:  34.01311735967936\n",
      "MSE score:  2047.6721652836338\n",
      "MAE score:  33.9647857457402\n",
      "MSE score:  2049.426779499102\n",
      "MAE score:  33.98493377285074\n",
      "MSE score:  2219.2426074006535\n",
      "MAE score:  35.559327185552306\n",
      "MSE score:  2222.4563848879625\n",
      "MAE score:  35.59827272740869\n",
      "MSE score:  2212.212481862375\n",
      "MAE score:  35.50251037386442\n",
      "MSE score:  2222.3432498138004\n",
      "MAE score:  35.55947689013894\n",
      "MSE score:  2221.2346588478595\n",
      "MAE score:  35.57958392636934\n"
     ]
    }
   ],
   "source": [
    "MSE = []\n",
    "MAE = []\n",
    "x = x = (0, 0.01,0.1,1,10)\n",
    "for L1 in x:\n",
    "    for L2 in x:\n",
    "        model = vector_valued_linear_regression(train_images,train_labels,regulariser_value=(L1,L2),learning_rate = 0.01, epochs = 50)\n",
    "        y_ = model.predict(test_images)\n",
    "        a,b = c_metric(test_labels,y_)\n",
    "        MSE.append(a)\n",
    "        MAE.append(b)"
   ]
  },
  {
   "cell_type": "markdown",
   "metadata": {},
   "source": [
    "# Dataset Four\n",
    "## Running all models on it"
   ]
  },
  {
   "cell_type": "markdown",
   "metadata": {},
   "source": [
    "Dataset loading and metric function    (  have used sklearn metrics to report honest results.  )"
   ]
  },
  {
   "cell_type": "code",
   "execution_count": 349,
   "metadata": {},
   "outputs": [],
   "source": [
    "test_data = np.load('../PRNN_data/data_set_4/test_data.npy')\n",
    "test_labels = np.load('../PRNN_data/data_set_4/test_labels.npy')\n",
    "train_data = np.load('../PRNN_data/data_set_4/train_data.npy')\n",
    "train_labels = np.load('../PRNN_data/data_set_4/train_labels.npy')\n",
    "val_data = np.load('../PRNN_data/data_set_4/val_data.npy')\n",
    "val_labels = np.load('../PRNN_data/data_set_4/val_labels.npy')\n",
    "\n",
    "from sklearn.metrics import confusion_matrix\n",
    "def d_metric(true_y, predicted_y, printing = True):\n",
    "    if predicted_y.ndim > 1:\n",
    "        predicted_y = np.argmax(predicted_y, axis=1)\n",
    "    tn,fp,fn,tp = confusion_matrix(true_y, predicted_y, normalize = 'true').ravel()\n",
    "    N = true_y.size\n",
    "    tn = tn\n",
    "    fp = fp\n",
    "    fn = fn\n",
    "    tp = tp\n",
    "    if printing:\n",
    "        print(\"true postive = \", tp)\n",
    "        print(\"true negative = \", tn)\n",
    "        print(\"False postive = \", fp)\n",
    "        print(\"False negative = \", fn)\n",
    "    return tn,fp,fn,tp\n",
    "\n",
    "def plot_graph(x_name, x,tn, fp, fn, tp):\n",
    "    x_axis = np.arange(len(x))\n",
    "    width = 0.1\n",
    "    plt.bar(x_axis-0.1, tn, width, color='red')\n",
    "    plt.bar(x_axis, fp, width, color='blue')\n",
    "    plt.bar(x_axis+0.1, fn, width, color='purple')\n",
    "    plt.bar(x_axis+0.2, tp, width, color='green')\n",
    "    plt.xlabel(x_name)\n",
    "    plt.ylabel(\"Scores\")\n",
    "    plt.xticks(x_axis, x)\n",
    "    plt.legend([\"tn\", \"fp\", \"fn\", \"tp\"])\n",
    "    plt.show()"
   ]
  },
  {
   "cell_type": "code",
   "execution_count": 350,
   "metadata": {},
   "outputs": [],
   "source": [
    "from sklearn.decomposition import PCA\n",
    "X = np.vstack((train_data,val_data))\n",
    "Y = np.concatenate((train_labels,val_labels), axis = 0)\n",
    "pca = PCA(50, whiten = True)\n",
    "X = pca.fit_transform(X)\n",
    "X_ = pca.transform(test_data)\n",
    "\n",
    "from sklearn.preprocessing import StandardScaler\n",
    "sc = StandardScaler()\n",
    "X = sc.fit_transform(X)\n",
    "X_ = sc.transform(X_)\n",
    "Y_ = test_labels"
   ]
  },
  {
   "cell_type": "markdown",
   "metadata": {},
   "source": [
    "## Linear"
   ]
  },
  {
   "cell_type": "markdown",
   "metadata": {},
   "source": [
    "L1"
   ]
  },
  {
   "cell_type": "code",
   "execution_count": 337,
   "metadata": {},
   "outputs": [
    {
     "name": "stdout",
     "output_type": "stream",
     "text": [
      "true postive =  0.8075734157650696\n",
      "true negative =  0.891435011269722\n",
      "False postive =  0.10856498873027799\n",
      "False negative =  0.19242658423493045\n",
      "true postive =  0.7990726429675425\n",
      "true negative =  0.8951915852742299\n",
      "False postive =  0.1048084147257701\n",
      "False negative =  0.2009273570324575\n",
      "true postive =  0.8021638330757341\n",
      "true negative =  0.8895567242674681\n",
      "False postive =  0.11044327573253193\n",
      "False negative =  0.19783616692426584\n",
      "true postive =  0.2635239567233385\n",
      "true negative =  0.9763335837716003\n",
      "False postive =  0.0236664162283997\n",
      "False negative =  0.7364760432766615\n",
      "true postive =  0.0\n",
      "true negative =  1.0\n",
      "False postive =  0.0\n",
      "False negative =  1.0\n",
      "true postive =  0.1035548686244204\n",
      "true negative =  0.9361382419233659\n",
      "False postive =  0.0638617580766341\n",
      "False negative =  0.8964451313755796\n"
     ]
    },
    {
     "data": {
      "image/png": "[encoded data removed]",
      "text/plain": [
       "<Figure size 648x288 with 1 Axes>"
      ]
     },
     "metadata": {
      "needs_background": "light"
     },
     "output_type": "display_data"
    }
   ],
   "source": [
    "tn = []\n",
    "fp = []\n",
    "fn = []\n",
    "tp = []\n",
    "plt.rcParams[\"figure.figsize\"] = (9,4)\n",
    "x = (0, 0.001,0.01,0.1,1,10)\n",
    "for L1 in x:\n",
    "    model = linear_classifier( X,Y, (L1,0),learning_rate = 0.01, epochs = 50)\n",
    "    y_ = model.predict(X_)\n",
    "    a,b,c,d = d_metric(Y_,y_)\n",
    "    tn.append(a)\n",
    "    fp.append(b)\n",
    "    fn.append(c)\n",
    "    tp.append(d)\n",
    "\n",
    "# print(accuracy, \"\\n\",aread_under_curve,\"\\n\" ,f1_score)\n",
    "plot_graph(\"L1\", x,tn, fp, fn, tp)"
   ]
  },
  {
   "cell_type": "markdown",
   "metadata": {},
   "source": [
    "L2 "
   ]
  },
  {
   "cell_type": "code",
   "execution_count": 338,
   "metadata": {},
   "outputs": [
    {
     "name": "stdout",
     "output_type": "stream",
     "text": [
      "true postive =  0.8230293663060279\n",
      "true negative =  0.8891810668670173\n",
      "False postive =  0.11081893313298272\n",
      "False negative =  0.17697063369397217\n",
      "true postive =  0.8183925811437404\n",
      "true negative =  0.8891810668670173\n",
      "False postive =  0.11081893313298272\n",
      "False negative =  0.18160741885625967\n",
      "true postive =  0.8160741885625966\n",
      "true negative =  0.891435011269722\n",
      "False postive =  0.10856498873027799\n",
      "False negative =  0.1839258114374034\n",
      "true postive =  0.7627511591962906\n",
      "true negative =  0.9102178812922614\n",
      "False postive =  0.08978211870773854\n",
      "False negative =  0.23724884080370942\n",
      "true postive =  0.10973724884080371\n",
      "true negative =  0.9951164537941397\n",
      "False postive =  0.004883546205860256\n",
      "False negative =  0.8902627511591963\n",
      "true postive =  0.0\n",
      "true negative =  1.0\n",
      "False postive =  0.0\n",
      "False negative =  1.0\n"
     ]
    },
    {
     "data": {
      "image/png": "[encoded data removed]",
      "text/plain": [
       "<Figure size 648x288 with 1 Axes>"
      ]
     },
     "metadata": {
      "needs_background": "light"
     },
     "output_type": "display_data"
    }
   ],
   "source": [
    "tn = []\n",
    "fp = []\n",
    "fn = []\n",
    "tp = []\n",
    "plt.rcParams[\"figure.figsize\"] = (9,4)\n",
    "x = (0, 0.001,0.01,0.1,1,10)\n",
    "for L2 in x:\n",
    "    model = linear_classifier( X,Y, (0,L2),learning_rate = 0.001, epochs = 50)\n",
    "    y_ = model.predict(X_)\n",
    "    a,b,c,d = d_metric(Y_,y_)\n",
    "    tn.append(a)\n",
    "    fp.append(b)\n",
    "    fn.append(c)\n",
    "    tp.append(d)\n",
    "\n",
    "# print(accuracy, \"\\n\",aread_under_curve,\"\\n\" ,f1_score)\n",
    "plot_graph(\"L1\", x,tn, fp, fn, tp)"
   ]
  },
  {
   "cell_type": "markdown",
   "metadata": {},
   "source": [
    "Elastic "
   ]
  },
  {
   "cell_type": "code",
   "execution_count": 344,
   "metadata": {},
   "outputs": [
    {
     "name": "stdout",
     "output_type": "stream",
     "text": [
      "Accuracy score: 0.867\n",
      "AUC score: 0.855\n",
      "F1 score: 0.801\n",
      "Accuracy score: 0.867\n",
      "AUC score: 0.855\n",
      "F1 score: 0.801\n",
      "Accuracy score: 0.867\n",
      "AUC score: 0.853\n",
      "F1 score: 0.800\n",
      "Accuracy score: 0.862\n",
      "AUC score: 0.837\n",
      "F1 score: 0.784\n",
      "Accuracy score: 0.704\n",
      "AUC score: 0.550\n",
      "F1 score: 0.190\n",
      "Accuracy score: 0.673\n",
      "AUC score: 0.500\n",
      "F1 score: 0.000\n",
      "Accuracy score: 0.865\n",
      "AUC score: 0.852\n",
      "F1 score: 0.798\n",
      "Accuracy score: 0.866\n",
      "AUC score: 0.853\n",
      "F1 score: 0.799\n",
      "Accuracy score: 0.865\n",
      "AUC score: 0.852\n",
      "F1 score: 0.798\n",
      "Accuracy score: 0.865\n",
      "AUC score: 0.852\n",
      "F1 score: 0.798\n",
      "Accuracy score: 0.865\n",
      "AUC score: 0.852\n",
      "F1 score: 0.798\n",
      "Accuracy score: 0.866\n",
      "AUC score: 0.853\n",
      "F1 score: 0.799\n",
      "Accuracy score: 0.857\n",
      "AUC score: 0.838\n",
      "F1 score: 0.782\n",
      "Accuracy score: 0.859\n",
      "AUC score: 0.839\n",
      "F1 score: 0.784\n",
      "Accuracy score: 0.858\n",
      "AUC score: 0.839\n",
      "F1 score: 0.783\n",
      "Accuracy score: 0.857\n",
      "AUC score: 0.838\n",
      "F1 score: 0.782\n",
      "Accuracy score: 0.857\n",
      "AUC score: 0.837\n",
      "F1 score: 0.781\n",
      "Accuracy score: 0.858\n",
      "AUC score: 0.839\n",
      "F1 score: 0.784\n",
      "Accuracy score: 0.734\n",
      "AUC score: 0.604\n",
      "F1 score: 0.359\n",
      "Accuracy score: 0.735\n",
      "AUC score: 0.605\n",
      "F1 score: 0.363\n",
      "Accuracy score: 0.735\n",
      "AUC score: 0.605\n",
      "F1 score: 0.360\n",
      "Accuracy score: 0.735\n",
      "AUC score: 0.605\n",
      "F1 score: 0.362\n",
      "Accuracy score: 0.735\n",
      "AUC score: 0.606\n",
      "F1 score: 0.363\n",
      "Accuracy score: 0.735\n",
      "AUC score: 0.605\n",
      "F1 score: 0.362\n",
      "Accuracy score: 0.673\n",
      "AUC score: 0.500\n",
      "F1 score: 0.000\n",
      "Accuracy score: 0.673\n",
      "AUC score: 0.500\n",
      "F1 score: 0.000\n",
      "Accuracy score: 0.673\n",
      "AUC score: 0.500\n",
      "F1 score: 0.000\n",
      "Accuracy score: 0.673\n",
      "AUC score: 0.500\n",
      "F1 score: 0.000\n",
      "Accuracy score: 0.673\n",
      "AUC score: 0.500\n",
      "F1 score: 0.000\n",
      "Accuracy score: 0.673\n",
      "AUC score: 0.500\n",
      "F1 score: 0.000\n",
      "Accuracy score: 0.673\n",
      "AUC score: 0.500\n",
      "F1 score: 0.000\n",
      "Accuracy score: 0.673\n",
      "AUC score: 0.500\n",
      "F1 score: 0.000\n",
      "Accuracy score: 0.673\n",
      "AUC score: 0.500\n",
      "F1 score: 0.000\n",
      "Accuracy score: 0.673\n",
      "AUC score: 0.500\n",
      "F1 score: 0.002\n",
      "Accuracy score: 0.673\n",
      "AUC score: 0.500\n",
      "F1 score: 0.000\n",
      "Accuracy score: 0.673\n",
      "AUC score: 0.500\n",
      "F1 score: 0.000\n"
     ]
    }
   ],
   "source": [
    "plt.rcParams[\"figure.figsize\"] = (9,4)\n",
    "x = (0, 0.001,0.01,0.1,1,10)\n",
    "for L1 in x:\n",
    "    for L2 in x:\n",
    "        model = linear_classifier( X,Y, (L1,L2),learning_rate = 0.001, epochs = 50)\n",
    "        y_ = model.predict(X_)\n",
    "        ab_metrics(Y_,y_)"
   ]
  },
  {
   "cell_type": "markdown",
   "metadata": {},
   "source": [
    "## Logistic"
   ]
  },
  {
   "cell_type": "markdown",
   "metadata": {},
   "source": [
    "L1"
   ]
  },
  {
   "cell_type": "code",
   "execution_count": 200,
   "metadata": {},
   "outputs": [
    {
     "name": "stdout",
     "output_type": "stream",
     "text": [
      "true postive =  0.8114374034003091\n",
      "true negative =  0.8906836964688204\n",
      "False postive =  0.10931630353117956\n",
      "False negative =  0.18856259659969088\n",
      "true postive =  0.8060278207109737\n",
      "true negative =  0.8906836964688204\n",
      "False postive =  0.10931630353117956\n",
      "False negative =  0.19397217928902627\n",
      "true postive =  0.8268933539412674\n",
      "true negative =  0.8846731780616078\n",
      "False postive =  0.11532682193839218\n",
      "False negative =  0.1731066460587326\n",
      "true postive =  0.8098918083462133\n",
      "true negative =  0.8880540946656649\n",
      "False postive =  0.11194590533433509\n",
      "False negative =  0.1901081916537867\n",
      "true postive =  0.7650695517774343\n",
      "true negative =  0.8797896318557475\n",
      "False postive =  0.12021036814425244\n",
      "False negative =  0.23493044822256567\n",
      "true postive =  0.4420401854714065\n",
      "true negative =  0.5672426746806912\n",
      "False postive =  0.43275732531930877\n",
      "False negative =  0.5579598145285936\n"
     ]
    },
    {
     "data": {
      "image/png": "[encoded data removed]",
      "text/plain": [
       "<Figure size 648x288 with 1 Axes>"
      ]
     },
     "metadata": {
      "needs_background": "light"
     },
     "output_type": "display_data"
    }
   ],
   "source": [
    "tn = []\n",
    "fp = []\n",
    "fn = []\n",
    "tp = []\n",
    "plt.rcParams[\"figure.figsize\"] = (9,4)\n",
    "x = (0, 0.001,0.01,0.1,1,10)\n",
    "for L1 in x:\n",
    "    model = logistic_classifier( X,Y, (L1,0),learning_rate = 0.01, epochs = 50)\n",
    "    y_ = model.predict(X_)\n",
    "    a,b,c,d = d_metric(Y_,y_)\n",
    "    tn.append(a)\n",
    "    fp.append(b)\n",
    "    fn.append(c)\n",
    "    tp.append(d)\n",
    "\n",
    "# print(accuracy, \"\\n\",aread_under_curve,\"\\n\" ,f1_score)\n",
    "plot_graph(\"L1\", x,tn, fp, fn, tp)"
   ]
  },
  {
   "cell_type": "markdown",
   "metadata": {},
   "source": [
    "L2"
   ]
  },
  {
   "cell_type": "code",
   "execution_count": 201,
   "metadata": {},
   "outputs": [
    {
     "name": "stdout",
     "output_type": "stream",
     "text": [
      "true postive =  0.8029366306027821\n",
      "true negative =  0.891435011269722\n",
      "False postive =  0.10856498873027799\n",
      "False negative =  0.19706336939721794\n",
      "true postive =  0.8114374034003091\n",
      "true negative =  0.8820435762584523\n",
      "False postive =  0.1179564237415477\n",
      "False negative =  0.18856259659969088\n",
      "true postive =  0.8284389489953632\n",
      "true negative =  0.8801652892561983\n",
      "False postive =  0.11983471074380166\n",
      "False negative =  0.17156105100463678\n",
      "true postive =  0.8183925811437404\n",
      "true negative =  0.8812922614575507\n",
      "False postive =  0.11870773854244929\n",
      "False negative =  0.18160741885625967\n",
      "true postive =  0.8253477588871716\n",
      "true negative =  0.8715251690458302\n",
      "False postive =  0.1284748309541698\n",
      "False negative =  0.17465224111282843\n",
      "true postive =  0.776661514683153\n",
      "true negative =  0.873779113448535\n",
      "False postive =  0.12622088655146507\n",
      "False negative =  0.223338485316847\n"
     ]
    },
    {
     "data": {
      "image/png": "[encoded data removed]",
      "text/plain": [
       "<Figure size 648x288 with 1 Axes>"
      ]
     },
     "metadata": {
      "needs_background": "light"
     },
     "output_type": "display_data"
    }
   ],
   "source": [
    "tn = []\n",
    "fp = []\n",
    "fn = []\n",
    "tp = []\n",
    "plt.rcParams[\"figure.figsize\"] = (9,4)\n",
    "x = (0, 0.001,0.01,0.1,1,10)\n",
    "for L2 in x:\n",
    "    model = logistic_classifier( X,Y, (0,L2),learning_rate = 0.01, epochs = 50)\n",
    "    y_ = model.predict(X_)\n",
    "    a,b,c,d = d_metric(Y_,y_)\n",
    "    tn.append(a)\n",
    "    fp.append(b)\n",
    "    fn.append(c)\n",
    "    tp.append(d)\n",
    "\n",
    "# print(accuracy, \"\\n\",aread_under_curve,\"\\n\" ,f1_score)\n",
    "plot_graph(\"L1\", x,tn, fp, fn, tp)"
   ]
  },
  {
   "cell_type": "markdown",
   "metadata": {},
   "source": [
    "Elastic"
   ]
  },
  {
   "cell_type": "code",
   "execution_count": 348,
   "metadata": {},
   "outputs": [
    {
     "name": "stdout",
     "output_type": "stream",
     "text": [
      "Accuracy score: 0.845\n",
      "AUC score: 0.798\n",
      "F1 score: 0.888\n",
      "Accuracy score: 0.841\n",
      "AUC score: 0.794\n",
      "F1 score: 0.886\n",
      "Accuracy score: 0.845\n",
      "AUC score: 0.798\n",
      "F1 score: 0.888\n",
      "Accuracy score: 0.848\n",
      "AUC score: 0.801\n",
      "F1 score: 0.890\n",
      "Accuracy score: 0.853\n",
      "AUC score: 0.807\n",
      "F1 score: 0.894\n",
      "Accuracy score: 0.848\n",
      "AUC score: 0.802\n",
      "F1 score: 0.890\n",
      "Accuracy score: 0.843\n",
      "AUC score: 0.796\n",
      "F1 score: 0.887\n",
      "Accuracy score: 0.841\n",
      "AUC score: 0.794\n",
      "F1 score: 0.886\n",
      "Accuracy score: 0.845\n",
      "AUC score: 0.798\n",
      "F1 score: 0.888\n",
      "Accuracy score: 0.843\n",
      "AUC score: 0.796\n",
      "F1 score: 0.887\n",
      "Accuracy score: 0.843\n",
      "AUC score: 0.796\n",
      "F1 score: 0.887\n",
      "Accuracy score: 0.845\n",
      "AUC score: 0.798\n",
      "F1 score: 0.888\n",
      "Accuracy score: 0.841\n",
      "AUC score: 0.794\n",
      "F1 score: 0.886\n",
      "Accuracy score: 0.841\n",
      "AUC score: 0.794\n",
      "F1 score: 0.886\n",
      "Accuracy score: 0.845\n",
      "AUC score: 0.798\n",
      "F1 score: 0.888\n",
      "Accuracy score: 0.841\n",
      "AUC score: 0.794\n",
      "F1 score: 0.886\n",
      "Accuracy score: 0.846\n",
      "AUC score: 0.799\n",
      "F1 score: 0.889\n",
      "Accuracy score: 0.841\n",
      "AUC score: 0.794\n",
      "F1 score: 0.886\n",
      "Accuracy score: 0.849\n",
      "AUC score: 0.803\n",
      "F1 score: 0.891\n",
      "Accuracy score: 0.848\n",
      "AUC score: 0.801\n",
      "F1 score: 0.890\n",
      "Accuracy score: 0.849\n",
      "AUC score: 0.803\n",
      "F1 score: 0.891\n",
      "Accuracy score: 0.851\n",
      "AUC score: 0.806\n",
      "F1 score: 0.892\n",
      "Accuracy score: 0.851\n",
      "AUC score: 0.806\n",
      "F1 score: 0.892\n",
      "Accuracy score: 0.849\n",
      "AUC score: 0.803\n",
      "F1 score: 0.891\n",
      "Accuracy score: 0.817\n",
      "AUC score: 0.770\n",
      "F1 score: 0.868\n",
      "Accuracy score: 0.819\n",
      "AUC score: 0.771\n",
      "F1 score: 0.869\n",
      "Accuracy score: 0.821\n",
      "AUC score: 0.775\n",
      "F1 score: 0.869\n",
      "Accuracy score: 0.822\n",
      "AUC score: 0.776\n",
      "F1 score: 0.871\n",
      "Accuracy score: 0.819\n",
      "AUC score: 0.773\n",
      "F1 score: 0.868\n",
      "Accuracy score: 0.819\n",
      "AUC score: 0.773\n",
      "F1 score: 0.868\n",
      "Accuracy score: 0.537\n",
      "AUC score: 0.538\n",
      "F1 score: 0.590\n",
      "Accuracy score: 0.580\n",
      "AUC score: 0.574\n",
      "F1 score: 0.641\n",
      "Accuracy score: 0.498\n",
      "AUC score: 0.475\n",
      "F1 score: 0.587\n",
      "Accuracy score: 0.519\n",
      "AUC score: 0.497\n",
      "F1 score: 0.604\n",
      "Accuracy score: 0.546\n",
      "AUC score: 0.551\n",
      "F1 score: 0.595\n",
      "Accuracy score: 0.587\n",
      "AUC score: 0.587\n",
      "F1 score: 0.639\n"
     ]
    }
   ],
   "source": [
    "plt.rcParams[\"figure.figsize\"] = (9,4)\n",
    "x = (0, 0.001,0.01,0.1,1,10)\n",
    "for L1 in x:\n",
    "    for L2 in x:\n",
    "        model = logistic_classifier( X,Y, (L1,L2),learning_rate = 0.001, epochs = 50)\n",
    "        y_ = model.predict(X_)\n",
    "        ab_metrics(Y_,y_)"
   ]
  },
  {
   "cell_type": "markdown",
   "metadata": {},
   "source": [
    "## KNN"
   ]
  },
  {
   "cell_type": "code",
   "execution_count": 203,
   "metadata": {},
   "outputs": [
    {
     "name": "stdout",
     "output_type": "stream",
     "text": [
      "true postive =  0.8091190108191654\n",
      "true negative =  0.9094665664913599\n",
      "False postive =  0.09053343350864013\n",
      "False negative =  0.19088098918083463\n",
      "true postive =  0.7248840803709428\n",
      "true negative =  0.9410217881292261\n",
      "False postive =  0.05897821187077385\n",
      "False negative =  0.2751159196290572\n",
      "true postive =  0.758887171561051\n",
      "true negative =  0.9387678437265214\n",
      "False postive =  0.06123215627347859\n",
      "False negative =  0.241112828438949\n",
      "true postive =  0.8052550231839258\n",
      "true negative =  0.9301277235161532\n",
      "False postive =  0.06987227648384674\n",
      "False negative =  0.1947449768160742\n"
     ]
    },
    {
     "data": {
      "image/png": "[encoded data removed]",
      "text/plain": [
       "<Figure size 576x288 with 1 Axes>"
      ]
     },
     "metadata": {
      "needs_background": "light"
     },
     "output_type": "display_data"
    }
   ],
   "source": [
    "tn = []\n",
    "fp = []\n",
    "fn = []\n",
    "tp = []\n",
    "plt.rcParams[\"figure.figsize\"] = (8,4)\n",
    "x = (3,6,10,15)\n",
    "for k in x:\n",
    "    model = KNN( X,Y, k)\n",
    "    y_ = model.predict(X_)\n",
    "    a,b,c,d = d_metric(Y_,y_)\n",
    "    tn.append(a)\n",
    "    fp.append(b)\n",
    "    fn.append(c)\n",
    "    tp.append(d)\n",
    "\n",
    "plot_graph(\"L1\", x,tn, fp, fn, tp)"
   ]
  },
  {
   "cell_type": "markdown",
   "metadata": {},
   "source": [
    "## GMM"
   ]
  },
  {
   "cell_type": "code",
   "execution_count": 213,
   "metadata": {},
   "outputs": [
    {
     "name": "stdout",
     "output_type": "stream",
     "text": [
      "true postive =  0.857032457496136\n",
      "true negative =  0.8459804658151766\n",
      "False postive =  0.15401953418482345\n",
      "False negative =  0.14296754250386398\n",
      "true postive =  0.8245749613601236\n",
      "true negative =  0.2543200601051841\n",
      "False postive =  0.745679939894816\n",
      "False negative =  0.17542503863987635\n",
      "true postive =  0.07187017001545595\n",
      "true negative =  0.992862509391435\n",
      "False postive =  0.007137490608564989\n",
      "False negative =  0.9281298299845441\n"
     ]
    }
   ],
   "source": [
    "x = [(1,1),(2,2),(2,3)]\n",
    "for each in x:\n",
    "    model_0 = GMM( X[Y == 0], each[0], iterations = 100)\n",
    "    model_1 = GMM( X[Y == 1], each[1], iterations = 100)\n",
    "    a,b = np.unique(Y, return_counts = True)\n",
    "    prior = np.log(b/np.sum(b))\n",
    "    y_0 = model_0.log_probablity(X_) + prior[0]\n",
    "    y_1 = model_1.log_probablity(X_) + prior[1]\n",
    "    y_ = scipy.special.softmax(np.c_[y_0.reshape(-1,1),y_1.reshape(-1,1)], axis = 1)\n",
    "    a,b,c,d = d_metric(Y_,y_,printing = True)"
   ]
  },
  {
   "cell_type": "markdown",
   "metadata": {},
   "source": [
    "## Fisher LDM"
   ]
  },
  {
   "cell_type": "code",
   "execution_count": 215,
   "metadata": {},
   "outputs": [
    {
     "name": "stdout",
     "output_type": "stream",
     "text": [
      "true postive =  0.8044822256568779\n",
      "true negative =  0.8936889556724268\n",
      "False postive =  0.10631104432757325\n",
      "False negative =  0.1955177743431221\n"
     ]
    },
    {
     "data": {
      "text/plain": [
       "(0.8936889556724268,\n",
       " 0.10631104432757325,\n",
       " 0.1955177743431221,\n",
       " 0.8044822256568779)"
      ]
     },
     "execution_count": 215,
     "metadata": {},
     "output_type": "execute_result"
    }
   ],
   "source": [
    "model = multi_fisher_LDM( X,Y)\n",
    "probabilities = model.predict(X_)\n",
    "d_metric(Y_,probabilities, printing = True)"
   ]
  },
  {
   "cell_type": "markdown",
   "metadata": {},
   "source": [
    "## Baye's with gaussian MLE"
   ]
  },
  {
   "cell_type": "code",
   "execution_count": 216,
   "metadata": {},
   "outputs": [
    {
     "name": "stdout",
     "output_type": "stream",
     "text": [
      "true postive =  0.857032457496136\n",
      "true negative =  0.8459804658151766\n",
      "False postive =  0.15401953418482345\n",
      "False negative =  0.14296754250386398\n"
     ]
    },
    {
     "data": {
      "text/plain": [
       "(0.8459804658151766,\n",
       " 0.15401953418482345,\n",
       " 0.14296754250386398,\n",
       " 0.857032457496136)"
      ]
     },
     "execution_count": 216,
     "metadata": {},
     "output_type": "execute_result"
    }
   ],
   "source": [
    "model = Bayes_classifier_ML( X,Y)\n",
    "probabilities = model.predict(X_)\n",
    "d_metric(Y_,probabilities, printing = True)"
   ]
  },
  {
   "cell_type": "markdown",
   "metadata": {},
   "source": [
    "## Parzen Window"
   ]
  },
  {
   "cell_type": "code",
   "execution_count": 358,
   "metadata": {},
   "outputs": [
    {
     "name": "stdout",
     "output_type": "stream",
     "text": [
      "true postive =  0.0\n",
      "true negative =  1.0\n",
      "False postive =  0.0\n",
      "False negative =  1.0\n",
      "true postive =  0.0\n",
      "true negative =  1.0\n",
      "False postive =  0.0\n",
      "False negative =  1.0\n",
      "true postive =  0.0\n",
      "true negative =  1.0\n",
      "False postive =  0.0\n",
      "False negative =  1.0\n",
      "true postive =  0.0\n",
      "true negative =  1.0\n",
      "False postive =  0.0\n",
      "False negative =  1.0\n"
     ]
    },
    {
     "data": {
      "image/png": "[encoded data removed]",
      "text/plain": [
       "<Figure size 576x288 with 1 Axes>"
      ]
     },
     "metadata": {
      "needs_background": "light"
     },
     "output_type": "display_data"
    }
   ],
   "source": [
    "from sklearn.decomposition import PCA\n",
    "X = np.vstack((train_data,val_data))\n",
    "Y = np.concatenate((train_labels,val_labels), axis = 0)\n",
    "pca = PCA(50, whiten = True)\n",
    "X = pca.fit_transform(X)\n",
    "X_ = pca.transform(test_data)\n",
    "\n",
    "from sklearn.preprocessing import StandardScaler\n",
    "sc = StandardScaler()\n",
    "X = sc.fit_transform(X)\n",
    "X_ = sc.transform(X_)\n",
    "Y_ = test_labels\n",
    "\n",
    "\n",
    "tn = []\n",
    "fp = []\n",
    "fn = []\n",
    "tp = []\n",
    "plt.rcParams[\"figure.figsize\"] = (8,4)\n",
    "x = (50,100,1000,10000)\n",
    "for k in x:\n",
    "    model = Bayes_classifier_Parzen( X,Y, k)\n",
    "    y_ = model.predict(X_)\n",
    "    a,b,c,d = d_metric(Y_,y_)\n",
    "    tn.append(a)\n",
    "    fp.append(b)\n",
    "    fn.append(c)\n",
    "    tp.append(d)\n",
    "\n",
    "plot_graph(\"L1\", x,tn, fp, fn, tp)"
   ]
  },
  {
   "cell_type": "markdown",
   "metadata": {},
   "source": [
    "## SVM Model"
   ]
  },
  {
   "cell_type": "code",
   "execution_count": 217,
   "metadata": {},
   "outputs": [],
   "source": [
    "from sklearn.decomposition import PCA\n",
    "X = np.vstack((train_data,val_data))\n",
    "Y = np.concatenate((train_labels,val_labels), axis = 0)\n",
    "\n",
    "pca = PCA(50, whiten = True)\n",
    "X = pca.fit_transform(X)\n",
    "X_ = pca.transform(test_data)\n",
    "\n",
    "from sklearn.preprocessing import StandardScaler\n",
    "sc = StandardScaler()\n",
    "X = sc.fit_transform(X)\n",
    "X_ = sc.transform(X_)\n",
    "Y_ = test_labels"
   ]
  },
  {
   "cell_type": "code",
   "execution_count": 218,
   "metadata": {},
   "outputs": [
    {
     "name": "stdout",
     "output_type": "stream",
     "text": [
      "my #support vector:  195\n",
      "true postive =  0.9034003091190108\n",
      "true negative =  0.6803155522163786\n",
      "False postive =  0.3196844477836213\n",
      "False negative =  0.09659969088098919\n"
     ]
    },
    {
     "data": {
      "text/plain": [
       "(0.6803155522163786,\n",
       " 0.3196844477836213,\n",
       " 0.09659969088098919,\n",
       " 0.9034003091190108)"
      ]
     },
     "execution_count": 218,
     "metadata": {},
     "output_type": "execute_result"
    }
   ],
   "source": [
    "model = svm_model( X[:500],Y[:500], slack = 0.5, kernal= \"linear\" )\n",
    "y_ = model.predict(X_)\n",
    "d_metric(Y_,y_, printing = True)"
   ]
  },
  {
   "cell_type": "code",
   "execution_count": 219,
   "metadata": {},
   "outputs": [
    {
     "name": "stdout",
     "output_type": "stream",
     "text": [
      "my #support vector:  326\n",
      "true postive =  0.624420401854714\n",
      "true negative =  0.9440270473328325\n",
      "False postive =  0.05597295266716754\n",
      "False negative =  0.3755795981452859\n"
     ]
    },
    {
     "data": {
      "text/plain": [
       "(0.9440270473328325,\n",
       " 0.05597295266716754,\n",
       " 0.3755795981452859,\n",
       " 0.624420401854714)"
      ]
     },
     "execution_count": 219,
     "metadata": {},
     "output_type": "execute_result"
    }
   ],
   "source": [
    "model = svm_model( X[:500],Y[:500], slack = 0.5, kernal= \"gaussian\" , gamma = 0.01)\n",
    "y_ = model.predict(X_)\n",
    "d_metric(Y_,y_, printing = True)"
   ]
  },
  {
   "cell_type": "code",
   "execution_count": 220,
   "metadata": {},
   "outputs": [
    {
     "name": "stdout",
     "output_type": "stream",
     "text": [
      "my #support vector:  298\n",
      "true postive =  0.634466769706337\n",
      "true negative =  0.8673929376408716\n",
      "False postive =  0.13260706235912847\n",
      "False negative =  0.3655332302936631\n"
     ]
    },
    {
     "data": {
      "text/plain": [
       "(0.8673929376408716,\n",
       " 0.13260706235912847,\n",
       " 0.3655332302936631,\n",
       " 0.634466769706337)"
      ]
     },
     "execution_count": 220,
     "metadata": {},
     "output_type": "execute_result"
    }
   ],
   "source": [
    "model = svm_model( X[:500],Y[:500], slack =1, kernal= \"poly_kernal\", degree = 2 , gamma = 1)\n",
    "y_ = model.predict(X_)\n",
    "d_metric(Y_,y_, printing = True)"
   ]
  },
  {
   "cell_type": "code",
   "execution_count": 221,
   "metadata": {},
   "outputs": [
    {
     "name": "stdout",
     "output_type": "stream",
     "text": [
      "RBF: slack(1) gamma(0.001) mectrics:true postive =  0.8029366306027821\n",
      "true negative =  0.8651389932381668\n",
      "False postive =  0.1348610067618332\n",
      "False negative =  0.19706336939721794\n",
      "--------------------\n",
      "RBF: slack(1) gamma(0.01) mectrics:true postive =  0.8091190108191654\n",
      "true negative =  0.8989481592787378\n",
      "False postive =  0.1010518407212622\n",
      "False negative =  0.19088098918083463\n",
      "--------------------\n",
      "RBF: slack(1) gamma(0.1) mectrics:true postive =  0.38098918083462135\n",
      "true negative =  0.9507888805409467\n",
      "False postive =  0.04921111945905334\n",
      "False negative =  0.6190108191653787\n",
      "--------------------\n",
      "RBF: slack(1) gamma(1) mectrics:true postive =  0.0\n",
      "true negative =  1.0\n",
      "False postive =  0.0\n",
      "False negative =  1.0\n",
      "--------------------\n",
      "RBF: slack(1) gamma(10) mectrics:true postive =  0.0\n",
      "true negative =  1.0\n",
      "False postive =  0.0\n",
      "False negative =  1.0\n",
      "--------------------\n",
      "RBF: slack(10) gamma(0.001) mectrics:true postive =  0.7828438948995363\n",
      "true negative =  0.9034560480841473\n",
      "False postive =  0.09654395191585274\n",
      "False negative =  0.21715610510046368\n",
      "--------------------\n",
      "RBF: slack(10) gamma(0.01) mectrics:true postive =  0.7163833075734157\n",
      "true negative =  0.9162283996994741\n",
      "False postive =  0.08377160030052593\n",
      "False negative =  0.2836166924265842\n",
      "--------------------\n",
      "RBF: slack(10) gamma(0.1) mectrics:true postive =  0.7975270479134466\n",
      "true negative =  0.8741547708489857\n",
      "False postive =  0.1258452291510143\n",
      "False negative =  0.20247295208655333\n",
      "--------------------\n",
      "RBF: slack(10) gamma(1) mectrics:true postive =  0.0\n",
      "true negative =  1.0\n",
      "False postive =  0.0\n",
      "False negative =  1.0\n",
      "--------------------\n",
      "RBF: slack(10) gamma(10) mectrics:true postive =  0.0\n",
      "true negative =  1.0\n",
      "False postive =  0.0\n",
      "False negative =  1.0\n",
      "--------------------\n",
      "RBF: slack(100) gamma(0.001) mectrics:true postive =  0.7241112828438949\n",
      "true negative =  0.9117205108940646\n",
      "False postive =  0.08827948910593539\n",
      "False negative =  0.2758887171561051\n",
      "--------------------\n",
      "RBF: slack(100) gamma(0.01) mectrics:true postive =  0.7040185471406492\n",
      "true negative =  0.9102178812922614\n",
      "False postive =  0.08978211870773854\n",
      "False negative =  0.29598145285935085\n",
      "--------------------\n",
      "RBF: slack(100) gamma(0.1) mectrics:true postive =  0.5108191653786708\n",
      "true negative =  0.932381667918858\n",
      "False postive =  0.067618332081142\n",
      "False negative =  0.4891808346213292\n",
      "--------------------\n",
      "RBF: slack(100) gamma(1) mectrics:true postive =  0.0\n",
      "true negative =  1.0\n",
      "False postive =  0.0\n",
      "False negative =  1.0\n",
      "--------------------\n",
      "RBF: slack(100) gamma(10) mectrics:true postive =  0.0\n",
      "true negative =  1.0\n",
      "False postive =  0.0\n",
      "False negative =  1.0\n",
      "--------------------\n",
      "RBF: slack(1) degree(1) mectrics:true postive =  0.7890262751159196\n",
      "true negative =  0.8963185574755823\n",
      "False postive =  0.10368144252441773\n",
      "False negative =  0.21097372488408037\n",
      "--------------------\n",
      "RBF: slack(1) degree(2) mectrics:true postive =  0.6143740340030912\n",
      "true negative =  0.9000751314800901\n",
      "False postive =  0.09992486851990984\n",
      "False negative =  0.3856259659969088\n",
      "--------------------\n",
      "RBF: slack(1) degree(3) mectrics:true postive =  0.7658423493044823\n",
      "true negative =  0.8884297520661157\n",
      "False postive =  0.1115702479338843\n",
      "False negative =  0.23415765069551778\n",
      "--------------------\n",
      "RBF: slack(1) degree(4) mectrics:true postive =  0.4613601236476043\n",
      "true negative =  0.9083395942900075\n",
      "False postive =  0.09166040570999248\n",
      "False negative =  0.5386398763523956\n",
      "--------------------\n",
      "RBF: slack(10) degree(1) mectrics:true postive =  0.7024729520865534\n",
      "true negative =  0.9169797145003756\n",
      "False postive =  0.08302028549962434\n",
      "False negative =  0.2975270479134467\n",
      "--------------------\n",
      "RBF: slack(10) degree(2) mectrics:true postive =  0.5904173106646059\n",
      "true negative =  0.8981968444778362\n",
      "False postive =  0.10180315552216379\n",
      "False negative =  0.4095826893353941\n",
      "--------------------\n",
      "RBF: slack(10) degree(3) mectrics:true postive =  0.7156105100463679\n",
      "true negative =  0.8989481592787378\n",
      "False postive =  0.1010518407212622\n",
      "False negative =  0.28438948995363217\n",
      "--------------------\n",
      "RBF: slack(10) degree(4) mectrics:true postive =  0.6483771251931993\n",
      "true negative =  0.8756574004507889\n",
      "False postive =  0.12434259954921112\n",
      "False negative =  0.3516228748068006\n",
      "--------------------\n",
      "RBF: slack(100) degree(1) mectrics:true postive =  0.6761978361669243\n",
      "true negative =  0.9135987978963186\n",
      "False postive =  0.08640120210368145\n",
      "False negative =  0.32380216383307575\n",
      "--------------------\n",
      "RBF: slack(100) degree(2) mectrics:true postive =  0.5911901081916537\n",
      "true negative =  0.8940646130728775\n",
      "False postive =  0.10593538692712247\n",
      "False negative =  0.4088098918083462\n",
      "--------------------\n",
      "RBF: slack(100) degree(3) mectrics:true postive =  0.7125193199381762\n",
      "true negative =  0.8936889556724268\n",
      "False postive =  0.10631104432757325\n",
      "False negative =  0.2874806800618238\n",
      "--------------------\n",
      "RBF: slack(100) degree(4) mectrics:true postive =  0.6213292117465224\n",
      "true negative =  0.8835462058602555\n",
      "False postive =  0.11645379413974455\n",
      "False negative =  0.3786707882534776\n",
      "--------------------\n",
      "RBF: slack(1) mectrics:true postive =  0.6769706336939721\n",
      "true negative =  0.9184823441021788\n",
      "False postive =  0.08151765589782119\n",
      "False negative =  0.3230293663060278\n",
      "--------------------\n",
      "RBF: slack(10) mectrics:true postive =  0.6452859350850078\n",
      "true negative =  0.9241172051089407\n",
      "False postive =  0.07588279489105935\n",
      "False negative =  0.3547140649149923\n",
      "--------------------\n",
      "RBF: slack(100) mectrics:true postive =  0.6792890262751159\n",
      "true negative =  0.9083395942900075\n",
      "False postive =  0.09166040570999248\n",
      "False negative =  0.3207109737248841\n",
      "--------------------\n"
     ]
    }
   ],
   "source": [
    "gamma = [1e-3,1e-2,1e-1,1,10]\n",
    "slack = [1,10,100]\n",
    "degree = [1,2,3,4]\n",
    "\n",
    "gs = grid_search_svm(X[0:500,:],Y[0:500],X_,Y_[:], d_metric)\n",
    "result1 = gs.gaussian(gamma, slack)\n",
    "result2 = gs.polynomial(degree, slack)\n",
    "result3 = gs.linear(slack)"
   ]
  },
  {
   "cell_type": "markdown",
   "metadata": {},
   "source": [
    "## Multi layer Perceptron"
   ]
  },
  {
   "cell_type": "code",
   "execution_count": 222,
   "metadata": {},
   "outputs": [],
   "source": [
    "Y = one_hot_representer(Y)"
   ]
  },
  {
   "cell_type": "code",
   "execution_count": 231,
   "metadata": {},
   "outputs": [
    {
     "name": "stdout",
     "output_type": "stream",
     "text": [
      "true postive =  0.0\n",
      "true negative =  1.0\n",
      "False postive =  0.0\n",
      "False negative =  1.0\n",
      "Accuracy score: 0.673\n",
      "AUC score: 0.540\n",
      "F1 score: 0.541\n"
     ]
    }
   ],
   "source": [
    "shfl = np.random.permutation(X.shape[0])\n",
    "X = X[shfl]\n",
    "Y = Y[shfl]\n",
    "\n",
    "model = MLP(X[:500], Y[:500], epochs =10, learning_rate = 0.01 ,num_inputs = 50, \\\n",
    "                hidden_layers=[30,30,15,5], num_outputs=2, \\\n",
    "                hidden_activation = \"sigmoid\", \\\n",
    "                output_activation = \"softmax\", \\\n",
    "                loss_function = \"cross_entropy_loss\")\n",
    "y_ = model.predict(X_)\n",
    "d_metric(Y_,y_)\n",
    "a,b,c = ab_metrics(Y_,y_)"
   ]
  },
  {
   "cell_type": "code",
   "execution_count": 232,
   "metadata": {},
   "outputs": [
    {
     "name": "stdout",
     "output_type": "stream",
     "text": [
      "true postive =  0.0\n",
      "true negative =  1.0\n",
      "False postive =  0.0\n",
      "False negative =  1.0\n",
      "Accuracy score: 0.673\n",
      "AUC score: 0.486\n",
      "F1 score: 0.541\n"
     ]
    }
   ],
   "source": [
    "shfl = np.random.permutation(X.shape[0])\n",
    "X = X[shfl]\n",
    "Y = Y[shfl]\n",
    "\n",
    "model = MLP(X[:500], Y[:500], epochs =10, learning_rate = 0.01 ,num_inputs = 50, \\\n",
    "                hidden_layers=[30,15,5], num_outputs=2, \\\n",
    "                hidden_activation = \"relu\", \\\n",
    "                output_activation = \"softmax\", \\\n",
    "                loss_function = \"cross_entropy_loss\")\n",
    "y_ = model.predict(X_)\n",
    "d_metric(Y_,y_)\n",
    "a,b,c = ab_metrics(Y_,y_)"
   ]
  },
  {
   "cell_type": "code",
   "execution_count": 233,
   "metadata": {},
   "outputs": [
    {
     "name": "stdout",
     "output_type": "stream",
     "text": [
      "true postive =  0.0\n",
      "true negative =  1.0\n",
      "False postive =  0.0\n",
      "False negative =  1.0\n",
      "Accuracy score: 0.673\n",
      "AUC score: 0.453\n",
      "F1 score: 0.541\n"
     ]
    }
   ],
   "source": [
    "shfl = np.random.permutation(X.shape[0])\n",
    "X = X[shfl]\n",
    "Y = Y[shfl]\n",
    "\n",
    "model = MLP(X[:500], Y[:500], epochs =10, learning_rate = 0.01 ,num_inputs = 50, \\\n",
    "                hidden_layers=[30,15,5], num_outputs=2, \\\n",
    "                hidden_activation = \"softmax\", \\\n",
    "                output_activation = \"softmax\", \\\n",
    "                loss_function = \"cross_entropy_loss\")\n",
    "y_ = model.predict(X_)\n",
    "d_metric(Y_,y_)\n",
    "a,b,c = ab_metrics(Y_,y_)"
   ]
  },
  {
   "cell_type": "code",
   "execution_count": 234,
   "metadata": {},
   "outputs": [
    {
     "name": "stdout",
     "output_type": "stream",
     "text": [
      "true postive =  1.0\n",
      "true negative =  0.0\n",
      "False postive =  1.0\n",
      "False negative =  0.0\n",
      "Accuracy score: 0.327\n",
      "AUC score: 0.532\n",
      "F1 score: 0.161\n"
     ]
    }
   ],
   "source": [
    "shfl = np.random.permutation(X.shape[0])\n",
    "X = X[shfl]\n",
    "Y = Y[shfl]\n",
    "\n",
    "model = MLP(X[:500], Y[:500], epochs =10, learning_rate = 0.01 ,num_inputs = 50, \\\n",
    "                hidden_layers=[30,15,5], num_outputs=2, \\\n",
    "                hidden_activation = \"sigmoid\", \\\n",
    "                output_activation = \"softmax\", \\\n",
    "                loss_function = \"squared_loss\")\n",
    "y_ = model.predict(X_)\n",
    "d_metric(Y_,y_)\n",
    "a,b,c = ab_metrics(Y_,y_)"
   ]
  },
  {
   "cell_type": "code",
   "execution_count": 235,
   "metadata": {},
   "outputs": [
    {
     "name": "stdout",
     "output_type": "stream",
     "text": [
      "true postive =  0.0\n",
      "true negative =  1.0\n",
      "False postive =  0.0\n",
      "False negative =  1.0\n",
      "Accuracy score: 0.673\n",
      "AUC score: 0.525\n",
      "F1 score: 0.541\n"
     ]
    }
   ],
   "source": [
    "shfl = np.random.permutation(X.shape[0])\n",
    "X = X[shfl]\n",
    "Y = Y[shfl]\n",
    "\n",
    "model = MLP(X[:500], Y[:500], epochs =10, learning_rate = 0.01 ,num_inputs = 50, \\\n",
    "                hidden_layers=[30,15,5], num_outputs=2, \\\n",
    "                hidden_activation = \"relu\", \\\n",
    "                output_activation = \"softmax\", \\\n",
    "                loss_function = \"squared_loss\")\n",
    "y_ = model.predict(X_)\n",
    "d_metric(Y_,y_)\n",
    "a,b,c = ab_metrics(Y_,y_)"
   ]
  },
  {
   "cell_type": "code",
   "execution_count": 237,
   "metadata": {},
   "outputs": [
    {
     "name": "stdout",
     "output_type": "stream",
     "text": [
      "true postive =  1.0\n",
      "true negative =  0.0\n",
      "False postive =  1.0\n",
      "False negative =  0.0\n",
      "Accuracy score: 0.327\n",
      "AUC score: 0.496\n",
      "F1 score: 0.161\n"
     ]
    }
   ],
   "source": [
    "shfl = np.random.permutation(X.shape[0])\n",
    "X = X[shfl]\n",
    "Y = Y[shfl]\n",
    "\n",
    "model = MLP(X[:500], Y[:500], epochs =10, learning_rate = 0.01 ,num_inputs = 50, \\\n",
    "                hidden_layers=[30,15,5], num_outputs=2, \\\n",
    "                hidden_activation = \"softmax\", \\\n",
    "                output_activation = \"softmax\", \\\n",
    "                loss_function = \"squared_loss\")\n",
    "y_ = model.predict(X_)\n",
    "d_metric(Y_,y_)\n",
    "a,b,c = ab_metrics(Y_,y_)"
   ]
  }
 ],
 "metadata": {
  "interpreter": {
   "hash": "1941db39ff23026125899e1662c9273a2d292ca8aa1c072186df4e4094308571"
  },
  "kernelspec": {
   "display_name": "Python 3.9.7 ('base')",
   "language": "python",
   "name": "python3"
  },
  "language_info": {
   "codemirror_mode": {
    "name": "ipython",
    "version": 3
   },
   "file_extension": ".py",
   "mimetype": "text/x-python",
   "name": "python",
   "nbconvert_exporter": "python",
   "pygments_lexer": "ipython3",
   "version": "3.9.7"
  },
  "orig_nbformat": 4
 },
 "nbformat": 4,
 "nbformat_minor": 2
}
