{
 "cells": [
  {
   "cell_type": "code",
   "execution_count": 1,
   "metadata": {},
   "outputs": [],
   "source": [
    "import numpy as np\n",
    "import pandas as pd\n",
    "import mne ,os, emd\n",
    "from scipy import signal\n",
    "from scipy import stats as st\n",
    "import neurokit2 as nk\n",
    "from tqdm import tqdm\n",
    "from numba import jit\n",
    "from matplotlib import pyplot as plt\n",
    "from sklearn.preprocessing import StandardScaler\n",
    "from sklearn.pipeline import make_pipeline\n",
    "from sklearn.metrics import classification_report, confusion_matrix, ConfusionMatrixDisplay\n",
    "from sklearn.feature_selection import mutual_info_classif\n",
    "import tensorflow as tf\n",
    "from tensorflow import keras"
   ]
  },
  {
   "cell_type": "code",
   "execution_count": 2,
   "metadata": {},
   "outputs": [],
   "source": [
    "db_patients_path  = '/home/tusharsingh/DATAs/Database_patients'\n",
    "db_subjects_path  = '/home/tusharsingh/DATAs/Database_subjects'\n",
    "\n",
    "scoring_criteria = 'HypnogramR&K_'\n",
    "def file_path_aggregator(scoring_criteria, path, count, prefix):\n",
    "    edf = [os.path.join(path,prefix + str(i) + '.edf') for i in range(1, count + 1)]\n",
    "    txt = [os.path.join(path,scoring_criteria + prefix + str(i) + '.txt') for i in range(1, count + 1)]\n",
    "    return list(zip(edf, txt))\n",
    "\n",
    "def data_aggregator(path_list):\n",
    "    EDF = []\n",
    "    label = []\n",
    "    for edf, txt in path_list:\n",
    "        name = txt[-13:]\n",
    "        edf_name = edf\n",
    "        e = mne.io.read_raw(edf,verbose = False)\n",
    "        # because channel name is not consistent in differnt files, \n",
    "        # hence need to search for EOG1 prefix\n",
    "        # x = sorted([a for a in e.ch_names if 'EOG1' in a])[0]\n",
    "        # print(dir(e))\n",
    "        # print(e.get_channel_types())\n",
    "        print(e.__len__)\n",
    "\n",
    "        \n",
    "        # print(e.to_data_frame().values.shape)\n",
    "    #     # print(x)\n",
    "\n",
    "    #     # edf = e.pick(x).to_data_frame()[x].values\n",
    "        \n",
    "    #     sos = signal.butter(8, (0.5,49.5), 'bandpass', fs = 200, output = \"sos\")\n",
    "    #     edf = signal.sosfilt(sos, edf)\n",
    "    #     with open(txt,'r') as f:\n",
    "    #         lines = f.readlines()[1:]\n",
    "    #         lines = [int(x[:-1]) for x in lines]\n",
    "    #         txt = np.array(lines)\n",
    "    #         # sleep\n",
    "    #         txt[txt != 5] = 1\n",
    "    #         # wake\n",
    "    #         txt[txt == 5] = 0\n",
    "\n",
    "    #     print(\"raw data size\")\n",
    "    #     print(edf.size, txt.size)\n",
    "\n",
    "    #     txt = txt[:6*(txt.size//6)]\n",
    "    #     edf = edf[:txt.size * 1000]\n",
    "    #     txt = txt.reshape(-1,6)\n",
    "    #     edf = edf.reshape(-1,6000)\n",
    "\n",
    "    #     # if not (txt[:,0] == np.mean(txt, axis = 1)).all():\n",
    "    #     #     print(name, \"     edf_shape\", edf.shape, \" txt_shape\", txt.shape)\n",
    "    #     #     print(txt[txt[:,0] != np.mean(txt, axis = 1)])\n",
    "    #     print('possible 30s epocs')\n",
    "    #     print(edf_name[-6:],edf.shape, txt.shape)\n",
    "\n",
    "    #     index = np.max(txt, axis = 1) == np.min(txt, axis = 1)\n",
    "    #     txt = txt[index]\n",
    "    #     edf = edf[index]\n",
    "    #     txt = txt[:,0]\n",
    "    #     label.append(txt)\n",
    "    #     EDF.append(edf)\n",
    "    #     print('epocs without ambiguity')\n",
    "    #     print(edf_name[-6:],edf.shape, txt.size)\n",
    "    #     print('-'*20)\n",
    "\n",
    "    # # return list(zip(EDF, label))\n",
    "    # EDF = np.vstack(EDF)\n",
    "    # label = np.concatenate(label)\n",
    "    # return EDF, label"
   ]
  },
  {
   "cell_type": "code",
   "execution_count": 3,
   "metadata": {},
   "outputs": [
    {
     "name": "stdout",
     "output_type": "stream",
     "text": [
      "<bound method BaseRaw.__len__ of <RawEDF | patient1.edf, 23 x 5780000 (28900.0 s), ~26 kB, data not loaded>>\n",
      "<bound method BaseRaw.__len__ of <RawEDF | patient2.edf, 15 x 6144000 (30720.0 s), ~19 kB, data not loaded>>\n",
      "<bound method BaseRaw.__len__ of <RawEDF | patient3.edf, 23 x 6574000 (32870.0 s), ~26 kB, data not loaded>>\n",
      "<bound method BaseRaw.__len__ of <RawEDF | patient4.edf, 23 x 6254000 (31270.0 s), ~26 kB, data not loaded>>\n",
      "<bound method BaseRaw.__len__ of <RawEDF | patient5.edf, 23 x 6032000 (30160.0 s), ~26 kB, data not loaded>>\n",
      "<bound method BaseRaw.__len__ of <RawEDF | patient6.edf, 23 x 6016000 (30080.0 s), ~26 kB, data not loaded>>\n",
      "<bound method BaseRaw.__len__ of <RawEDF | patient7.edf, 23 x 5922000 (29610.0 s), ~26 kB, data not loaded>>\n",
      "<bound method BaseRaw.__len__ of <RawEDF | patient8.edf, 23 x 6846000 (34230.0 s), ~26 kB, data not loaded>>\n",
      "<bound method BaseRaw.__len__ of <RawEDF | patient9.edf, 23 x 6082000 (30410.0 s), ~26 kB, data not loaded>>\n",
      "<bound method BaseRaw.__len__ of <RawEDF | patient10.edf, 23 x 6486000 (32430.0 s), ~26 kB, data not loaded>>\n",
      "<bound method BaseRaw.__len__ of <RawEDF | patient11.edf, 23 x 6478000 (32390.0 s), ~26 kB, data not loaded>>\n",
      "<bound method BaseRaw.__len__ of <RawEDF | patient12.edf, 23 x 6224000 (31120.0 s), ~26 kB, data not loaded>>\n",
      "<bound method BaseRaw.__len__ of <RawEDF | patient13.edf, 23 x 5858000 (29290.0 s), ~26 kB, data not loaded>>\n",
      "<bound method BaseRaw.__len__ of <RawEDF | patient14.edf, 23 x 6386000 (31930.0 s), ~26 kB, data not loaded>>\n",
      "<bound method BaseRaw.__len__ of <RawEDF | patient15.edf, 23 x 5700000 (28500.0 s), ~26 kB, data not loaded>>\n",
      "<bound method BaseRaw.__len__ of <RawEDF | patient16.edf, 23 x 6872000 (34360.0 s), ~26 kB, data not loaded>>\n",
      "<bound method BaseRaw.__len__ of <RawEDF | patient17.edf, 23 x 6724000 (33620.0 s), ~26 kB, data not loaded>>\n",
      "<bound method BaseRaw.__len__ of <RawEDF | patient18.edf, 23 x 7504000 (37520.0 s), ~26 kB, data not loaded>>\n",
      "<bound method BaseRaw.__len__ of <RawEDF | patient19.edf, 23 x 6462000 (32310.0 s), ~26 kB, data not loaded>>\n",
      "<bound method BaseRaw.__len__ of <RawEDF | patient20.edf, 23 x 5926000 (29630.0 s), ~26 kB, data not loaded>>\n",
      "<bound method BaseRaw.__len__ of <RawEDF | patient21.edf, 23 x 6726000 (33630.0 s), ~26 kB, data not loaded>>\n",
      "<bound method BaseRaw.__len__ of <RawEDF | patient22.edf, 23 x 6632000 (33160.0 s), ~26 kB, data not loaded>>\n",
      "<bound method BaseRaw.__len__ of <RawEDF | patient23.edf, 23 x 5850000 (29250.0 s), ~26 kB, data not loaded>>\n",
      "<bound method BaseRaw.__len__ of <RawEDF | patient24.edf, 23 x 5562000 (27810.0 s), ~26 kB, data not loaded>>\n",
      "<bound method BaseRaw.__len__ of <RawEDF | patient25.edf, 23 x 6476000 (32380.0 s), ~26 kB, data not loaded>>\n",
      "<bound method BaseRaw.__len__ of <RawEDF | patient26.edf, 23 x 6006000 (30030.0 s), ~26 kB, data not loaded>>\n",
      "<bound method BaseRaw.__len__ of <RawEDF | patient27.edf, 23 x 6410000 (32050.0 s), ~26 kB, data not loaded>>\n",
      "<bound method BaseRaw.__len__ of <RawEDF | subject1.edf, 23 x 5768000 (28840.0 s), ~26 kB, data not loaded>>\n",
      "<bound method BaseRaw.__len__ of <RawEDF | subject2.edf, 23 x 5910000 (29550.0 s), ~26 kB, data not loaded>>\n",
      "<bound method BaseRaw.__len__ of <RawEDF | subject3.edf, 23 x 6052000 (30260.0 s), ~26 kB, data not loaded>>\n",
      "<bound method BaseRaw.__len__ of <RawEDF | subject4.edf, 23 x 6318000 (31590.0 s), ~26 kB, data not loaded>>\n",
      "<bound method BaseRaw.__len__ of <RawEDF | subject5.edf, 23 x 6258000 (31290.0 s), ~26 kB, data not loaded>>\n",
      "<bound method BaseRaw.__len__ of <RawEDF | subject6.edf, 23 x 5984000 (29920.0 s), ~26 kB, data not loaded>>\n",
      "<bound method BaseRaw.__len__ of <RawEDF | subject7.edf, 23 x 6072000 (30360.0 s), ~26 kB, data not loaded>>\n",
      "<bound method BaseRaw.__len__ of <RawEDF | subject8.edf, 23 x 5820000 (29100.0 s), ~26 kB, data not loaded>>\n",
      "<bound method BaseRaw.__len__ of <RawEDF | subject9.edf, 23 x 6704000 (33520.0 s), ~26 kB, data not loaded>>\n",
      "<bound method BaseRaw.__len__ of <RawEDF | subject10.edf, 23 x 6196000 (30980.0 s), ~26 kB, data not loaded>>\n",
      "<bound method BaseRaw.__len__ of <RawEDF | subject11.edf, 23 x 6050000 (30250.0 s), ~26 kB, data not loaded>>\n",
      "<bound method BaseRaw.__len__ of <RawEDF | subject12.edf, 23 x 5768000 (28840.0 s), ~26 kB, data not loaded>>\n",
      "<bound method BaseRaw.__len__ of <RawEDF | subject13.edf, 23 x 6668000 (33340.0 s), ~26 kB, data not loaded>>\n",
      "<bound method BaseRaw.__len__ of <RawEDF | subject14.edf, 23 x 6026000 (30130.0 s), ~26 kB, data not loaded>>\n",
      "<bound method BaseRaw.__len__ of <RawEDF | subject15.edf, 23 x 5040000 (25200.0 s), ~26 kB, data not loaded>>\n",
      "<bound method BaseRaw.__len__ of <RawEDF | subject16.edf, 23 x 5806000 (29030.0 s), ~26 kB, data not loaded>>\n",
      "<bound method BaseRaw.__len__ of <RawEDF | subject17.edf, 23 x 5982000 (29910.0 s), ~26 kB, data not loaded>>\n",
      "<bound method BaseRaw.__len__ of <RawEDF | subject18.edf, 23 x 6128000 (30640.0 s), ~26 kB, data not loaded>>\n",
      "<bound method BaseRaw.__len__ of <RawEDF | subject19.edf, 23 x 6202000 (31010.0 s), ~26 kB, data not loaded>>\n",
      "<bound method BaseRaw.__len__ of <RawEDF | subject20.edf, 23 x 6870000 (34350.0 s), ~26 kB, data not loaded>>\n"
     ]
    }
   ],
   "source": [
    "patient_paths = file_path_aggregator(scoring_criteria, db_patients_path, 27, 'patient')\n",
    "patient_data = data_aggregator(patient_paths)\n",
    "\n",
    "subject_paths = file_path_aggregator(scoring_criteria, db_subjects_path, 20, 'subject')\n",
    "subject_data = data_aggregator(subject_paths)"
   ]
  },
  {
   "cell_type": "code",
   "execution_count": 4,
   "metadata": {},
   "outputs": [
    {
     "name": "stdout",
     "output_type": "stream",
     "text": [
      "[[    0  5601]\n",
      " [    1 24800]]\n"
     ]
    }
   ],
   "source": [
    "# sub_eog, sub_label = subject_data\n",
    "# print(sub_eog.shape, sub_label.shape)\n",
    "# np.savez('/home/tusharsingh/DATAs/sub_data', a=sub_eog, b=sub_label)\n",
    "\n",
    "data = np.load('/home/tusharsingh/DATAs/sub_data.npz')\n",
    "sub_eog, sub_label = data['a'], data['b']\n",
    "\n",
    "unique, counts = np.unique(sub_label, return_counts=True)\n",
    "print (np.asarray((unique, counts)).T)"
   ]
  },
  {
   "cell_type": "code",
   "execution_count": 5,
   "metadata": {},
   "outputs": [
    {
     "name": "stdout",
     "output_type": "stream",
     "text": [
      "[[    0 11552]\n",
      " [    1 30877]]\n"
     ]
    }
   ],
   "source": [
    "# pat_eog, pat_label = patient_data\n",
    "# print(pat_eog.shape, pat_label.shape)\n",
    "# np.savez('/home/tusharsingh/DATAs/pat_data', a=pat_eog, b=pat_label)\n",
    "\n",
    "data = np.load('/home/tusharsingh/DATAs/pat_data.npz')\n",
    "pat_eog, pat_label = data['a'], data['b']\n",
    "\n",
    "unique, counts = np.unique(pat_label, return_counts=True)\n",
    "print (np.asarray((unique, counts)).T)"
   ]
  },
  {
   "cell_type": "code",
   "execution_count": 6,
   "metadata": {},
   "outputs": [],
   "source": [
    "def feature_maker(X):\n",
    "    imf = emd.sift.ensemble_sift(X, max_imfs=5,nprocesses=5, noise_mode = 'single') # no way to set seed in this function\n",
    "    # emd.plotting.plot_imfs(imf)\n",
    "    imf = imf.T\n",
    "    imf = np.vstack((imf, X - np.sum(imf, axis = 0)))\n",
    "    IP, IF, IA = emd.spectra.frequency_transform(imf, 200, 'hilbert')\n",
    "    f, hht = emd.spectra.hilberthuang(IF, IA, sample_rate=200)\n",
    "    approx_entropy = nk.entropy_approximate(X)[0]\n",
    "    del(IA)\n",
    "    IMF_mean = np.mean(imf, axis = 1)\n",
    "    IMF_mode = st.mode(imf, axis = 1)[0].flatten()\n",
    "    IMF_sdiv = st.tstd(imf, axis = 1)\n",
    "    IMF_kurt = st.kurtosis(imf, axis = 1)\n",
    "    IMF_skew = st.skew(imf, axis = 1)\n",
    "    feature = np.hstack([IMF_mean, IMF_mode, IMF_sdiv, IMF_kurt, IMF_skew])\n",
    "\n",
    "    IF_mean = np.mean(IF,axis = 1)\n",
    "    IF_median = np.median(IF, axis = 1)\n",
    "    IF_variance = np.var(IF, axis = 1)\n",
    "    IF_counChange = np.sum((np.diff(IF, axis = 1) != 0), axis = 1)\n",
    "    IE_median = np.median(IP, axis = 1)\n",
    "\n",
    "    feature = np.hstack([feature,IF_median, IF_mean, IF_variance, IF_counChange, IE_median])\n",
    "\n",
    "    total_power = np.sum(hht[(0.5 <= f) & (f <= 49.5)])\n",
    "    # relative power features\n",
    "    theta = np.sum(hht[(3.5 <= f) & (f <= 7.5)]) / total_power\n",
    "    alpha = np.sum(hht[(8.5 <= f) & (f <= 11)]) / total_power\n",
    "    beta = np.sum(hht[(15.5 <= f) & (f <= 30)]) / total_power\n",
    "    gamma = np.sum(hht[(30 <= f) & (f <= 49.5)]) / total_power\n",
    "    delta = np.sum(hht[(0.5 <= f) & (f <= 3.5)]) / total_power\n",
    "    k_complex_spindle = (np.sum(hht[(8.5 <= f) & (f <= 1.5)]) + \\\n",
    "        np.sum(hht[(11 <= f) & (f <= 15)])) / total_power\n",
    "    alpha2theta = alpha / theta\n",
    "\n",
    "    Relative = np.array([alpha, beta, gamma, delta, k_complex_spindle, alpha2theta,approx_entropy])\n",
    "    feature = np.hstack([feature, Relative])\n",
    "    return feature[:]\n"
   ]
  },
  {
   "cell_type": "code",
   "execution_count": 7,
   "metadata": {},
   "outputs": [
    {
     "data": {
      "text/plain": [
       "array([-8.36905180e+03,  2.88370146e+04,  1.32799830e+05, -6.40862902e+05,\n",
       "        3.88971444e+05,  8.11213686e+04, -4.83820325e+06, -1.68612056e+07,\n",
       "       -1.41720924e+07, -2.27845522e+07, -1.29270295e+07, -9.56373309e+06,\n",
       "        1.67749072e+06,  2.91116530e+06,  4.18981854e+06,  7.20859498e+06,\n",
       "        4.86513802e+06,  2.79097331e+06, -7.69228004e-01,  4.82122898e+00,\n",
       "        1.60649277e+00,  4.55000712e-01, -2.33810540e-01, -2.10859543e-01,\n",
       "        9.80253878e-03,  3.60805050e-01,  3.78485060e-01, -3.77224984e-01,\n",
       "       -7.34830951e-03, -1.62183859e-02,  2.65983227e+01,  2.65983227e+01,\n",
       "        2.98108209e+01,  1.73161471e+01,  4.47444319e-15,  1.33664692e-14,\n",
       "        2.82738544e+01,  2.82738544e+01,  3.30280253e+01,  1.77124486e+01,\n",
       "       -1.17968551e+00, -1.17968551e+00,  6.08167346e+02,  6.08167346e+02,\n",
       "        4.74656321e+02,  1.55692686e+02,  7.45441300e+01,  7.45441300e+01,\n",
       "        3.99900000e+03,  3.99900000e+03,  3.99900000e+03,  3.99900000e+03,\n",
       "        3.99900000e+03,  3.99900000e+03,  1.57079633e+00,  2.90305298e+00,\n",
       "        3.14371150e+00,  3.51442372e+00,  3.40137382e+00,  3.13222217e+00,\n",
       "        4.06253180e-02,  4.37235080e-01,  2.76862753e-01,  6.14233853e-02,\n",
       "        1.17475228e-01,  8.11929068e-01,  5.64164174e-01])"
      ]
     },
     "execution_count": 7,
     "metadata": {},
     "output_type": "execute_result"
    }
   ],
   "source": [
    "feature_maker(pat_eog[5])"
   ]
  },
  {
   "cell_type": "code",
   "execution_count": 8,
   "metadata": {},
   "outputs": [],
   "source": [
    "# def linear_process(X):\n",
    "#     final_feature = np.zeros((X.shape[0],67))\n",
    "#     for i in range(X.shape[0]):\n",
    "#         final_feature[i] = feature_maker(X[i])\n",
    "#     return final_feature\n",
    "\n",
    "# import concurrent.futures\n",
    "# with concurrent.futures.ProcessPoolExecutor() as executor:\n",
    "#     a = executor.submit(linear_process, pat_eog[:10000,:])\n",
    "#     b = executor.submit(linear_process, pat_eog[10000:20000,:])\n",
    "#     c = executor.submit(linear_process, pat_eog[20000:30000,:])\n",
    "#     d = executor.submit(linear_process, pat_eog[30000:,:])\n",
    "\n",
    "#     e = executor.submit(linear_process, sub_eog[:10000,:])\n",
    "#     f = executor.submit(linear_process, sub_eog[10000:20000:,:])\n",
    "#     g = executor.submit(linear_process, sub_eog[20000:,:])\n",
    "\n",
    "#     pat_67 = np.vstack((a.result(), b.result(), c.result(), d.result()))\n",
    "#     sub_67 = np.vstack((e.result(), f.result(), g.result()))\n",
    "\n",
    "\n",
    "# storing_path = '/home/tusharsingh/DATAs/'\n",
    "# np.savez('/home/tusharsingh/DATAs/pat_data_67_new', a=pat_67, b=pat_label)\n",
    "# np.savez('/home/tusharsingh/DATAs/sub_data_67_new', a=sub_67, b=sub_label)"
   ]
  },
  {
   "cell_type": "code",
   "execution_count": 9,
   "metadata": {},
   "outputs": [],
   "source": [
    "storing_path = '/home/tusharsingh/DATAs/'\n",
    "\n",
    "data = np.load(storing_path + 'pat_data_67_new.npz')\n",
    "pat_X, pat_y = data['a'], data['b']\n",
    "\n",
    "data = np.load(storing_path + 'sub_data_67_new.npz')\n",
    "sub_X, sub_y = data['a'], data['b']"
   ]
  },
  {
   "cell_type": "markdown",
   "metadata": {},
   "source": [
    "## Testing on patents"
   ]
  },
  {
   "cell_type": "code",
   "execution_count": 10,
   "metadata": {},
   "outputs": [],
   "source": [
    "import numpy as np\n",
    "from sklearn.model_selection import train_test_split\n",
    "\n",
    "X_train, X_test, y_train, y_test = train_test_split(pat_X, pat_y, test_size=0.25, random_state=42, stratify = pat_y)"
   ]
  },
  {
   "cell_type": "markdown",
   "metadata": {},
   "source": [
    "feature selection"
   ]
  },
  {
   "cell_type": "code",
   "execution_count": 11,
   "metadata": {},
   "outputs": [],
   "source": [
    "# from imblearn.ensemble import RUSBoostClassifier\n",
    "# def best_group(X, y): #best feature set for one trial\n",
    "#     best = 0\n",
    "#     X_train, X_test, y_train, y_test = train_test_split(X, y, test_size=0.10, stratify = y)\n",
    "#     mi_values = np.argsort(mutual_info_classif(X_train, y_train, random_state = 42))\n",
    "\n",
    "#     for i in range(15, 66):\n",
    "#         indices = mi_values[-i:]\n",
    "#         train, test = X_train[ :, indices], X_test[:, indices]\n",
    "#         clf = make_pipeline(StandardScaler(),RUSBoostClassifier())\n",
    "#         clf.fit(train, y_train)\n",
    "        \n",
    "#         score = clf.score(test, y_test)\n",
    "#         if score > best:\n",
    "#             best_features = indices\n",
    "#             best = score\n",
    "#     return best_features\n",
    "\n",
    "# import concurrent.futures\n",
    "# with concurrent.futures.ProcessPoolExecutor() as executor:\n",
    "#     l = [executor.submit(best_group, X_train, y_train) for i in range(5)]\n",
    "#     l = [each.result().tolist() for each in l]\n",
    "\n",
    "# l = [set(each) for each in l]\n",
    "# best_features = set.intersection(*l) # as best features should be selected in all the trials\n",
    "\n",
    "# from scipy.stats import kruskal\n",
    "# final_best_fearures = []\n",
    "# for each in best_features:\n",
    "#     x = X_train[:,each]\n",
    "#     y = y_train\n",
    "#     pvalue = kruskal(x,y)[1]\n",
    "#     if pvalue <= 0.05:\n",
    "#         final_best_fearures.append(each)\n",
    "\n",
    "# print(sorted(final_best_fearures), len(final_best_fearures))"
   ]
  },
  {
   "cell_type": "code",
   "execution_count": 12,
   "metadata": {},
   "outputs": [],
   "source": [
    "# X_train, X_test = X_train[:, sorted(final_best_fearures)], X_test[:, sorted(final_best_fearures)]"
   ]
  },
  {
   "cell_type": "code",
   "execution_count": 19,
   "metadata": {},
   "outputs": [],
   "source": [
    "model = keras.models.Sequential([\n",
    "    keras.layers.BatchNormalization(input_shape = [67]),\n",
    "    keras.layers.Dropout(rate = 0.5),\n",
    "    keras.layers.Dense(250, activation = 'elu', kernel_initializer = 'he_normal'),\n",
    "    keras.layers.BatchNormalization(),\n",
    "    keras.layers.Dropout(rate = 0.5),\n",
    "    keras.layers.Dense(100, activation = 'elu', kernel_initializer = 'he_normal'),\n",
    "    keras.layers.BatchNormalization(),\n",
    "    keras.layers.Dropout(rate = 0.5),\n",
    "    keras.layers.Dense(50, activation = 'elu', kernel_initializer = 'he_normal'),\n",
    "    keras.layers.BatchNormalization(),\n",
    "    keras.layers.Dropout(rate = 0.5),\n",
    "    keras.layers.Dense(10, activation = 'elu', kernel_initializer = 'he_normal'),\n",
    "    keras.layers.BatchNormalization(),\n",
    "    keras.layers.Dropout(rate = 0.5),\n",
    "    keras.layers.Dense(1,  activation = 'sigmoid')\n",
    "])\n"
   ]
  },
  {
   "cell_type": "code",
   "execution_count": 20,
   "metadata": {},
   "outputs": [],
   "source": [
    "model.compile(loss = 'BinaryCrossentropy', optimizer= 'sgd', metrics= ['Accuracy'])"
   ]
  },
  {
   "cell_type": "code",
   "execution_count": null,
   "metadata": {},
   "outputs": [],
   "source": [
    "early_stopping_cb = keras.callbacks.EarlyStopping(patience= 10, restore_best_weights= True)\n",
    "history = model.fit(X_train,y_train, epochs = 200, validation_split = 0.20, use_multiprocessing = True, callbacks=[early_stopping_cb])\n"
   ]
  },
  {
   "cell_type": "code",
   "execution_count": null,
   "metadata": {},
   "outputs": [
    {
     "data": {
      "image/png": "[encoded data removed]",
      "text/plain": [
       "<Figure size 576x360 with 1 Axes>"
      ]
     },
     "metadata": {
      "needs_background": "light"
     },
     "output_type": "display_data"
    }
   ],
   "source": [
    "import pandas as pd\n",
    "import matplotlib.pyplot as plt\n",
    "pd.DataFrame(history.history).plot(figsize = (8,5))\n",
    "plt.grid(True)\n",
    "# plt.gca().set_ylim(0,1)\n",
    "plt.show()"
   ]
  },
  {
   "cell_type": "code",
   "execution_count": null,
   "metadata": {},
   "outputs": [
    {
     "name": "stdout",
     "output_type": "stream",
     "text": [
      "332/332 [==============================] - 1s 3ms/step - loss: 0.3675 - accuracy: 0.8359\n"
     ]
    },
    {
     "data": {
      "text/plain": [
       "[0.36750665307044983, 0.8358786106109619]"
      ]
     },
     "execution_count": 117,
     "metadata": {},
     "output_type": "execute_result"
    }
   ],
   "source": [
    "model.evaluate(X_test, y_test)"
   ]
  },
  {
   "cell_type": "code",
   "execution_count": null,
   "metadata": {},
   "outputs": [
    {
     "name": "stdout",
     "output_type": "stream",
     "text": [
      "[0.81901021 0.82039598 0.81049654 0.80263985 0.81615336]\n",
      "0.8190045248868778\n"
     ]
    }
   ],
   "source": [
    "# from sklearn.tree import DecisionTreeClassifier\n",
    "# from sklearn.linear_model import LogisticRegression\n",
    "# from sklearn.model_selection import cross_val_score\n",
    "# base_clf = DecisionTreeClassifier(max_depth = 1)\n",
    "# # base_clf = LogisticRegression()\n",
    "# clf = clf = make_pipeline(StandardScaler(), RUSBoostClassifier(base_estimator = base_clf, n_estimators = 250, random_state = 42))\n",
    "# score = cross_val_score(clf, X_train, y_train, cv=5)\n",
    "# print(score)\n",
    "# clf.fit(X_train, y_train)\n",
    "# score = clf.score(X_test, y_test)\n",
    "# print(score)"
   ]
  },
  {
   "cell_type": "code",
   "execution_count": null,
   "metadata": {},
   "outputs": [
    {
     "data": {
      "text/plain": [
       "<sklearn.metrics._plot.confusion_matrix.ConfusionMatrixDisplay at 0x7f343b78c8b0>"
      ]
     },
     "execution_count": 14,
     "metadata": {},
     "output_type": "execute_result"
    },
    {
     "data": {
      "image/png": "[encoded data removed]",
      "text/plain": [
       "<Figure size 432x288 with 2 Axes>"
      ]
     },
     "metadata": {
      "needs_background": "light"
     },
     "output_type": "display_data"
    }
   ],
   "source": [
    "# ConfusionMatrixDisplay.from_estimator(clf, X_test, y_test)"
   ]
  },
  {
   "cell_type": "markdown",
   "metadata": {},
   "source": [
    "testing on subjects"
   ]
  },
  {
   "cell_type": "code",
   "execution_count": null,
   "metadata": {},
   "outputs": [],
   "source": [
    "import numpy as np\n",
    "from sklearn.model_selection import train_test_split\n",
    "\n",
    "X_train, X_test, y_train, y_test = train_test_split(sub_X, sub_y, test_size=0.25, random_state=42, stratify = sub_y)"
   ]
  },
  {
   "cell_type": "code",
   "execution_count": null,
   "metadata": {},
   "outputs": [
    {
     "name": "stdout",
     "output_type": "stream",
     "text": [
      "[0, 1, 2, 3, 4, 5, 6, 7, 8, 9, 10, 11, 12, 13, 14, 15, 16, 17, 18, 19, 20, 21, 22, 23, 24, 25, 26, 27, 28, 30, 31, 32, 33, 36, 37, 38, 39, 40, 41, 42, 43, 44, 45, 46, 47, 49, 51, 53, 55, 56, 57, 58, 59, 60, 61, 62, 63, 64, 66] 59\n"
     ]
    }
   ],
   "source": [
    "# import concurrent.futures\n",
    "# with concurrent.futures.ProcessPoolExecutor() as executor:\n",
    "#     l = [executor.submit(best_group, X_train, y_train) for i in range(5)]\n",
    "#     l = [each.result().tolist() for each in l]\n",
    "\n",
    "# l = [set(each) for each in l]\n",
    "# best_features = set.intersection(*l)\n",
    "\n",
    "# from scipy.stats import kruskal\n",
    "# final_best_fearures = []\n",
    "# for each in best_features:\n",
    "#     x = X_train[:,each]\n",
    "#     y = y_train\n",
    "#     pvalue = kruskal(x,y)[1]\n",
    "#     if pvalue <= 0.05:\n",
    "#         final_best_fearures.append(each)\n",
    "\n",
    "# print(sorted(final_best_fearures), len(final_best_fearures))"
   ]
  },
  {
   "cell_type": "code",
   "execution_count": null,
   "metadata": {},
   "outputs": [],
   "source": [
    "# X_train, X_test = X_train[:, sorted(final_best_fearures)], X_test[:, sorted(final_best_fearures)]"
   ]
  },
  {
   "cell_type": "code",
   "execution_count": null,
   "metadata": {},
   "outputs": [],
   "source": [
    "early_stopping_cb = keras.callbacks.EarlyStopping(patience= 10, restore_best_weights= True)\n",
    "history = model.fit(X_train,y_train, epochs = 200, validation_split = 0.20, use_multiprocessing = True, callbacks=[early_stopping_cb])\n",
    "\n",
    "pd.DataFrame(history.history).plot(figsize = (8,5))\n",
    "plt.grid(True)\n",
    "# plt.gca().set_ylim(0,1)\n",
    "plt.show()"
   ]
  },
  {
   "cell_type": "code",
   "execution_count": null,
   "metadata": {},
   "outputs": [
    {
     "name": "stdout",
     "output_type": "stream",
     "text": [
      "238/238 [==============================] - 1s 3ms/step - loss: 0.2757 - accuracy: 0.8903\n"
     ]
    },
    {
     "data": {
      "text/plain": [
       "[0.27568548917770386, 0.890277624130249]"
      ]
     },
     "execution_count": 109,
     "metadata": {},
     "output_type": "execute_result"
    }
   ],
   "source": [
    "model.evaluate(X_test, y_test)"
   ]
  },
  {
   "cell_type": "code",
   "execution_count": null,
   "metadata": {},
   "outputs": [
    {
     "name": "stdout",
     "output_type": "stream",
     "text": [
      "0.8659386922773319\n"
     ]
    }
   ],
   "source": [
    "# from sklearn.tree import DecisionTreeClassifier\n",
    "# from sklearn.linear_model import LogisticRegression\n",
    "# # base_clf = DecisionTreeClassifier(max_depth = 1)\n",
    "# base_clf = LogisticRegression()\n",
    "# clf = clf = make_pipeline(StandardScaler(), RUSBoostClassifier(base_estimator = base_clf, n_estimators = 250, random_state = 42))\n",
    "# clf.fit(X_train, y_train)\n",
    "# score = clf.score(X_test, y_test)\n",
    "# print(score)"
   ]
  },
  {
   "cell_type": "code",
   "execution_count": null,
   "metadata": {},
   "outputs": [
    {
     "data": {
      "text/plain": [
       "<sklearn.metrics._plot.confusion_matrix.ConfusionMatrixDisplay at 0x7fc88080e8e0>"
      ]
     },
     "execution_count": 94,
     "metadata": {},
     "output_type": "execute_result"
    },
    {
     "data": {
      "image/png": "[encoded data removed]",
      "text/plain": [
       "<Figure size 432x288 with 2 Axes>"
      ]
     },
     "metadata": {
      "needs_background": "light"
     },
     "output_type": "display_data"
    }
   ],
   "source": [
    "# ConfusionMatrixDisplay.from_estimator(clf, X_test, y_test)"
   ]
  },
  {
   "cell_type": "code",
   "execution_count": null,
   "metadata": {},
   "outputs": [],
   "source": []
  }
 ],
 "metadata": {
  "kernelspec": {
   "display_name": "Python 3",
   "language": "python",
   "name": "python3"
  },
  "language_info": {
   "codemirror_mode": {
    "name": "ipython",
    "version": 3
   },
   "file_extension": ".py",
   "mimetype": "text/x-python",
   "name": "python",
   "nbconvert_exporter": "python",
   "pygments_lexer": "ipython3",
   "version": "3.9.5 (default, Nov 23 2021, 15:27:38) \n[GCC 9.3.0]"
  },
  "orig_nbformat": 4,
  "vscode": {
   "interpreter": {
    "hash": "36cf16204b8548560b1c020c4e8fb5b57f0e4c58016f52f2d4be01e192833930"
   }
  }
 },
 "nbformat": 4,
 "nbformat_minor": 2
}
